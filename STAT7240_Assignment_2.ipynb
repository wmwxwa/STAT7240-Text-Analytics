{
  "cells": [
    {
      "cell_type": "markdown",
      "metadata": {
        "id": "DuJ_9vp6_K0V"
      },
      "source": [
        "In this assignment - we're going to dig deeper into the Women's clothing dataset from the previous assignment and start to understand what words or word combinations might help with Classification models, specifically - Sentiment Analysis models"
      ]
    },
    {
      "cell_type": "markdown",
      "metadata": {
        "id": "64BvxwGXpPc9"
      },
      "source": [
        "## Load the women's clothing reviews dataset"
      ]
    },
    {
      "cell_type": "code",
      "execution_count": 1,
      "metadata": {
        "id": "QfraJiu4g1pI"
      },
      "outputs": [
        {
          "name": "stdout",
          "output_type": "stream",
          "text": [
            "(23486, 11)\n",
            "Index(['Unnamed: 0', 'Clothing ID', 'Age', 'Title', 'Review Text', 'Rating',\n",
            "       'Recommended IND', 'Positive Feedback Count', 'Division Name',\n",
            "       'Department Name', 'Class Name'],\n",
            "      dtype='object')\n",
            "   Unnamed: 0  Clothing ID  Age                    Title  \\\n",
            "0           0          767   33                      NaN   \n",
            "1           1         1080   34                      NaN   \n",
            "2           2         1077   60  Some major design flaws   \n",
            "3           3         1049   50         My favorite buy!   \n",
            "4           4          847   47         Flattering shirt   \n",
            "\n",
            "                                         Review Text  Rating  Recommended IND  \\\n",
            "0  Absolutely wonderful - silky and sexy and comf...       4                1   \n",
            "1  Love this dress!  it's sooo pretty.  i happene...       5                1   \n",
            "2  I had such high hopes for this dress and reall...       3                0   \n",
            "3  I love, love, love this jumpsuit. it's fun, fl...       5                1   \n",
            "4  This shirt is very flattering to all due to th...       5                1   \n",
            "\n",
            "   Positive Feedback Count   Division Name Department Name Class Name  \n",
            "0                        0       Initmates        Intimate  Intimates  \n",
            "1                        4         General         Dresses    Dresses  \n",
            "2                        0         General         Dresses    Dresses  \n",
            "3                        0  General Petite         Bottoms      Pants  \n",
            "4                        6         General            Tops    Blouses  \n"
          ]
        }
      ],
      "source": [
        "# load csv file containing the reviews into a pandas dataframe called reviews and drop NaN values from the dataset\n",
        "import pandas as pd\n",
        "reviews = pd.read_csv('./Womens_Clothing_Reviews.csv')\n",
        "\n",
        "print(reviews.shape)\n",
        "print(reviews.columns)\n",
        "print(reviews.head())"
      ]
    },
    {
      "cell_type": "markdown",
      "metadata": {
        "id": "xBCHKYFIHtGa"
      },
      "source": [
        "### 1. Combine the 'Title' & 'Review Text' columns into a single column called 'Full Text' & generate a new column - 'Sentiment' using the values in the 'Recommended IND' column such that 1='Positive' and 0='Negative' (1 point)"
      ]
    },
    {
      "cell_type": "code",
      "execution_count": 2,
      "metadata": {
        "id": "AvKuKTavtM34"
      },
      "outputs": [
        {
          "data": {
            "text/html": [
              "<div>\n",
              "<style scoped>\n",
              "    .dataframe tbody tr th:only-of-type {\n",
              "        vertical-align: middle;\n",
              "    }\n",
              "\n",
              "    .dataframe tbody tr th {\n",
              "        vertical-align: top;\n",
              "    }\n",
              "\n",
              "    .dataframe thead th {\n",
              "        text-align: right;\n",
              "    }\n",
              "</style>\n",
              "<table border=\"1\" class=\"dataframe\">\n",
              "  <thead>\n",
              "    <tr style=\"text-align: right;\">\n",
              "      <th></th>\n",
              "      <th>Full Text</th>\n",
              "      <th>Sentiment</th>\n",
              "      <th>Recommended IND</th>\n",
              "      <th>Division Name</th>\n",
              "    </tr>\n",
              "  </thead>\n",
              "  <tbody>\n",
              "    <tr>\n",
              "      <th>2</th>\n",
              "      <td>Some major design flaws. I had such high hopes...</td>\n",
              "      <td>Negative</td>\n",
              "      <td>0</td>\n",
              "      <td>General</td>\n",
              "    </tr>\n",
              "    <tr>\n",
              "      <th>3</th>\n",
              "      <td>My favorite buy!. I love, love, love this jump...</td>\n",
              "      <td>Positive</td>\n",
              "      <td>1</td>\n",
              "      <td>General Petite</td>\n",
              "    </tr>\n",
              "    <tr>\n",
              "      <th>4</th>\n",
              "      <td>Flattering shirt. This shirt is very flatterin...</td>\n",
              "      <td>Positive</td>\n",
              "      <td>1</td>\n",
              "      <td>General</td>\n",
              "    </tr>\n",
              "    <tr>\n",
              "      <th>5</th>\n",
              "      <td>Not for the very petite. I love tracy reese dr...</td>\n",
              "      <td>Negative</td>\n",
              "      <td>0</td>\n",
              "      <td>General</td>\n",
              "    </tr>\n",
              "    <tr>\n",
              "      <th>6</th>\n",
              "      <td>Cagrcoal shimmer fun. I aded this in my basket...</td>\n",
              "      <td>Positive</td>\n",
              "      <td>1</td>\n",
              "      <td>General Petite</td>\n",
              "    </tr>\n",
              "  </tbody>\n",
              "</table>\n",
              "</div>"
            ],
            "text/plain": [
              "                                           Full Text Sentiment  \\\n",
              "2  Some major design flaws. I had such high hopes...  Negative   \n",
              "3  My favorite buy!. I love, love, love this jump...  Positive   \n",
              "4  Flattering shirt. This shirt is very flatterin...  Positive   \n",
              "5  Not for the very petite. I love tracy reese dr...  Negative   \n",
              "6  Cagrcoal shimmer fun. I aded this in my basket...  Positive   \n",
              "\n",
              "   Recommended IND   Division Name  \n",
              "2                0         General  \n",
              "3                1  General Petite  \n",
              "4                1         General  \n",
              "5                0         General  \n",
              "6                1  General Petite  "
            ]
          },
          "execution_count": 2,
          "metadata": {},
          "output_type": "execute_result"
        }
      ],
      "source": [
        "# Extract and combine title text and review text from any 1000 rows of the dataset \n",
        "# into new variables - where the 'Title' text should be added to the review text \n",
        "# as the first sentence\n",
        "reviews['Full Text'] = reviews['Title'] + '. ' + reviews['Review Text']\n",
        "reviews = reviews.dropna()\n",
        "reviews_1000 = reviews.sample(n=1000, random_state=1)\n",
        "\n",
        "# add column 'Sentiment' that translates the 0 & 1 in the 'Recommended IND' to \n",
        "# more human readable labels - 'Positive' & 'Negative'\n",
        "reviews['Sentiment'] = reviews['Recommended IND'].apply(lambda x: 'Positive' if x == 1 else 'Negative')\n",
        "reviews = reviews[['Full Text', 'Sentiment', 'Recommended IND', 'Division Name']]\n",
        "\n",
        "reviews.head()"
      ]
    },
    {
      "cell_type": "markdown",
      "metadata": {
        "id": "wBklIaLJG-XR"
      },
      "source": [
        "### 2. Generate a balanced dataset that maximizes the number of reviews in your dataset (1 point)"
      ]
    },
    {
      "cell_type": "code",
      "execution_count": 3,
      "metadata": {
        "id": "23pTkZU9wjB9"
      },
      "outputs": [
        {
          "name": "stderr",
          "output_type": "stream",
          "text": [
            "C:\\Users\\wangwilliam\\AppData\\Local\\Temp\\ipykernel_16812\\3516224999.py:3: FutureWarning: The frame.append method is deprecated and will be removed from pandas in a future version. Use pandas.concat instead.\n",
            "  balanced_reviews = balanced_reviews.append(reviews[reviews['Recommended IND'] == 1].sample(n=500, random_state=1))\n"
          ]
        },
        {
          "data": {
            "text/plain": [
              "array([[<AxesSubplot:title={'center':'Recommended IND'}>]], dtype=object)"
            ]
          },
          "execution_count": 3,
          "metadata": {},
          "output_type": "execute_result"
        },
        {
          "data": {
            "image/png": "[encoded data removed]",
            "text/plain": [
              "<Figure size 432x288 with 1 Axes>"
            ]
          },
          "metadata": {
            "needs_background": "light"
          },
          "output_type": "display_data"
        }
      ],
      "source": [
        "#Generate a dataset by sampling first 500 rows with positive negative reviews and first 500 rows with positive reviews\n",
        "balanced_reviews = reviews[reviews['Recommended IND'] == 0].sample(n=500, random_state=1)\n",
        "balanced_reviews = balanced_reviews.append(reviews[reviews['Recommended IND'] == 1].sample(n=500, random_state=1))\n",
        "\n",
        "# this histogram would show you the distribution of positive vs negative reviews in the resulting dataframe \n",
        "balanced_reviews.hist(column='Recommended IND')"
      ]
    },
    {
      "cell_type": "markdown",
      "metadata": {
        "id": "_P0K5pbAt_cL"
      },
      "source": [
        "## EDA"
      ]
    },
    {
      "cell_type": "code",
      "execution_count": 4,
      "metadata": {
        "id": "DufYtNwdDZcN"
      },
      "outputs": [],
      "source": [
        "#!pip install seaborn"
      ]
    },
    {
      "cell_type": "markdown",
      "metadata": {
        "id": "nPFq0ZOOCM1V"
      },
      "source": [
        "### 3. Show distribution of reviews across Division Name, then show the distribution colored by 'Sentiment' (1 point)"
      ]
    },
    {
      "cell_type": "code",
      "execution_count": 5,
      "metadata": {
        "id": "RJaFsyzSCfFA"
      },
      "outputs": [
        {
          "data": {
            "text/plain": [
              "<AxesSubplot:xlabel='Division Name', ylabel='count'>"
            ]
          },
          "execution_count": 5,
          "metadata": {},
          "output_type": "execute_result"
        },
        {
          "data": {
            "image/png": "[encoded data removed]",
            "text/plain": [
              "<Figure size 432x288 with 1 Axes>"
            ]
          },
          "metadata": {
            "needs_background": "light"
          },
          "output_type": "display_data"
        }
      ],
      "source": [
        "import seaborn as sns\n",
        "\n",
        "# histogram of reviews by 'Division Name'\n",
        "sns.countplot(x='Division Name', data=balanced_reviews)\n"
      ]
    },
    {
      "cell_type": "code",
      "execution_count": 6,
      "metadata": {
        "id": "TKrN5X1eF3yV"
      },
      "outputs": [
        {
          "data": {
            "text/plain": [
              "<AxesSubplot:xlabel='Division Name', ylabel='count'>"
            ]
          },
          "execution_count": 6,
          "metadata": {},
          "output_type": "execute_result"
        },
        {
          "data": {
            "image/png": "[encoded data removed]",
            "text/plain": [
              "<Figure size 432x288 with 1 Axes>"
            ]
          },
          "metadata": {
            "needs_background": "light"
          },
          "output_type": "display_data"
        }
      ],
      "source": [
        "# histogram of reviews by 'Division Name' and by 'Sentiment'\n",
        "sns.countplot(x='Division Name', hue='Sentiment', data=balanced_reviews)"
      ]
    },
    {
      "cell_type": "markdown",
      "metadata": {
        "id": "T5xtWOlyIKR6"
      },
      "source": [
        "### 4. Generate a list of adjectives from your positive & negative reviews (1 point)  "
      ]
    },
    {
      "cell_type": "code",
      "execution_count": 7,
      "metadata": {
        "id": "Rdmh0KPvuzwd"
      },
      "outputs": [
        {
          "name": "stdout",
          "output_type": "stream",
          "text": [
            "['top', 'white', 'nice', 'heavy', 'drapey', 'i', 'nice', 'cool', 'several', 'i',\n",
            " 'i', 'small', 'transitional', 'perfect', 'late', 'roomy', 'i', 'i',\n",
            " 'comfortable', 'stylish', 'much', 'i', 'green', 'dime', 'disappointed', 'i',\n",
            " 'great', 'true', 'dislike', 'comfortable', 'great', 'great', 'basic', 'trench',\n",
            " 'feel-true', 'excellent', 'top', 'top', 'body', 'conscious', 'thick', 'broad',\n",
            " 'upper', 'tts', 'i', 'many', 'perfect', 'blue', 'simple', 'beautiful', 'same',\n",
            " 'same', 'little', 'bordered', 'interesting', 'tall', 'large', 'i', 'oversized',\n",
            " 'much', 'small', 'okay', 'i', 'sure', 'right', 'super', 'perfect',\n",
            " 'Comfortable', 'Comfortable', 'stretchy', 'Gorgeous', 'one-size', 'billowy',\n",
            " 'flowing', 'black', 'black', 'similar', 'long', 'short', 'fresh', 'modern',\n",
            " 'simple', 'black', 'black', 'light', 'beautiful', 'comfortable', 'great',\n",
            " 'perfect', 'beautiful', 'soft', 'lightweight', 'tight', 'soft', 'casual',\n",
            " 'easy', 'hard', 'Gorgeous', 'classic', 'many', 'special', 'feminine', 'black',\n",
            " 'local', 'white', 'sheer', 'hot', 'favorite', 'spring/summer', 's', 'linen',\n",
            " 'soft', 'lace', 'small', 'last', 'good', 'voluminous', 'aspect', 'flattering',\n",
            " 'same', 'wonderful', 'discreet', 'beautiful', 'abstract', 'floral', 'horrid',\n",
            " 'little', 'difficult', 'tight', 'easy', 'perfect', 'comfortable', 'stylish',\n",
            " 'xs', 'beautiful', 'flowy', 'beachy', 'comfortable', 'ocean', 'i', 'dry',\n",
            " 'favorite', 'tall', 'short', 'i', 'other', 'much', 'tasteful', 'i', 'i',\n",
            " 'large', 'true', 'long', 'short', 'overwhelming', 'i', 'wool', 'beautiful',\n",
            " 'lovely', 'i', 'i', 'busty', 'good', 'little', 'appropriate', 'flattering',\n",
            " 'much', 'comfy', 'great', 'light', 'comfortable', 'soft', 'perfect', 'elastic',\n",
            " 'casual', 'top', 'large', 'i', 'able', 'low', 'adjustable', 'i', 'i', 'little',\n",
            " 'nice', 'tall', 'small', 'great', 'i', 'short', 'large', 'unflattering',\n",
            " 'fabric', 'due', 'Comfortable-soft-lovely', 'little', 'small', 'first',\n",
            " 'small', 'dress', 'well-made', 'able', 'chest', 'first', 'i', 'light', 'red',\n",
            " 'perfect', 'wear', 'regular', 'short', 'petite', 'pilcro', 'many', 'different',\n",
            " 'same', 'awesome', 'top', 'petite', 'fit', 'i', 'i', 'regular', 'little',\n",
            " 'extra', 'great', 'bright', 'nice', 'cool', 'i', 'Perfect', 'great', 'i',\n",
            " 'true', 'only', 'available', 'little', 'large', 'chest', 'low', 'good', 'rear',\n",
            " 'nice', 'thick', 'good', 'happy', '6-8', 'i', 'horizontal', 'huge', 'soft',\n",
            " 'likely', 'fabric', 'pointed', 'great', 'i', 'busty', 'due', 'beautiful',\n",
            " 'soft', 'nice', 'thru', 'usual', 'proper', 'art', 'vibrant', 'beautiful',\n",
            " 'olive', 'purple', 'thin', 'i', 'due', 'thin', 'short', 'structured', 'Wide',\n",
            " 'beautiful', 'tent-', 'flowy', 'bohemian', 'much', 'i', 'Wish', 'excellent',\n",
            " 'frumpy', 'white', 'stark', 'i', 'mixed', 'sure', 'i', 'white', 'wide',\n",
            " 'other', 'black', 'purple', 'purple/gray', 'floral', 'possible', 'negative',\n",
            " 'careful', 'dry', 'due', 'other', 'i', 'large', 'i', 'top', 'red', 'favorite',\n",
            " 'top', 'other', 'slim', 'i', 'many', 'i', 'wish', 'blue', 'great', 'small',\n",
            " 'neckline', 'boring', 'classy', 'funeral', 'soft', 'warm', 'outside', 'i',\n",
            " 'favorite', 'extra-small', 'great', 'i', 'itchy', 'i', 'cute', 'expensive',\n",
            " 'i', 'fine', 'much', 'pleased', 'baggy', 'i', 'same', 'different', 'happy',\n",
            " 'back', 'cute', 'flattering', 'short', 'i', 'petite', 'large', 'ideal', 'cute',\n",
            " 'vibrant', 'red', 'floral', 'i', 'cute', 'dark', 'brown', 'usual', 'beautiful',\n",
            " 'sparkly', 'little', 'versatile', 'many', 'good', 'low', 'worth', 'full', 'i',\n",
            " 'small', 'extra', 'small', 'good', 'i', 'full', 'small', 'similar', 'long',\n",
            " 'i', 'small', 'roomy', 'cozy', 'top', 'great', 'i', 'real', 'full', 'black',\n",
            " 'white', 'only', 'i', 'little', 'large', '8-', 'Gorgeous', 'dark', 'wide',\n",
            " 'skinny', 'slim', 'loose', 'right', 'beautiful', 'flattering', 'great',\n",
            " 'skinny', 'small', 'large', 'i', 'busty', 'straight', 'blousy', 'fit', 'full',\n",
            " 'loose', 'light', 'cool', 'semi-sheer', 'white', 'nude', 'fine', 'double',\n",
            " 'solid', 'worth', 'numerous', 'great', 'casual', 'sunday', 'wrong', 'cute',\n",
            " 'local', 'super', 'next', 'flattering', 'versatile', 'i', 'nice', 'casual',\n",
            " 'pretty', 'casual', 'nice', 'perfect', 'casual', 'top', 'nice', 'red', 'i',\n",
            " 'many', 'blue', 'Great', 'beautiful', 'perfect', 'Comfortable', 'beautiful',\n",
            " 'true', 'comfortable', 'beautiful', 'deep', 'glad', 'great', 'i', 'Adorable',\n",
            " 'adorable', 'other', 'black', 'khaki', 'light', 'polka', 'great', 'long',\n",
            " 'cute', 'super', 'entire', 'large', 'usual', 'much', 'preferred', 'top', 'i',\n",
            " 'cami', 'femenine', 'pretty', 'disagree', 'previous', 'wide', 'pregnant',\n",
            " 'front', 'broad', 'small', 'i', 'small', 'plenty', 'chest/arm', 'good', 'only',\n",
            " 'Great', 'careful', 'great', 'correct', 'several', 'dye', 'bad', 'successful',\n",
            " 'spilled', 'perfect', 'small', 'perfect', 'super', 'regular', 'european',\n",
            " 'pretty', 'black', 'correct', 'cute', 'local', 'small', 'overall', 'cute',\n",
            " 'good', 'perfect', 'i', 'extra', 'top', 'sure', 'comfortable', 'Long', 'soft',\n",
            " 'first', 'little', 'big', 'other', 'sheer', 'i', 'classic', 'many', 'regular',\n",
            " 'low', 'fine', 'short', 'i', 'big', 'beautiful', 'such', 'nice', 'gorgeous',\n",
            " 'red', 'beautiful', 'heavy', 'thick', 'soft', 'white', 'tts', 'i', '0-2', 'i',\n",
            " 'great', '2-3', 'sweet', 'right', 'few', 'white', 'local', 'delightful',\n",
            " 'true', 'flowy', 'high', 'possible', 'flat', 'i', 'simple', 'top', 'perfect',\n",
            " 'flattering', 'flowy', 'easy', 'no-hassle', 'everyday', 'uniform', 'different',\n",
            " 'beautiful', 'adorable', 'casual', 'large', 'big', 'gorgeous', 'yellow',\n",
            " 'vibrant', 'true', 'perfect', 'flat', 'i', 'casual', 'i', '14-16/', 'broad',\n",
            " 'i', 'large', 'perfect', 'nude', 'adjustable', 'Terrible', 'super',\n",
            " 'high-waisted', 'cropped', 'wide', 'much', 'amazing', 'regular', 'small',\n",
            " '34d-27-35', 'cool', 'real', 'dark', 'green', 'neat', 'many', 'difficult',\n",
            " 'many', 'other', 'due', 'fine', 'laced', 'gown', 'lovely', 'sleeping', 'itchy',\n",
            " 'possible', 'hot', 'i', 'possible', 'super', 'awesome', 'perfect', 'super',\n",
            " 'soft', 'smooth', 'favorite', 'basic', 'cute', 'difficult', 'due', 'curvy',\n",
            " 'small', 'little', 'pretty', 'Romantic', 'whimsical', 'slight', 'Fantastic',\n",
            " 'yellow', 'well-made', 'comfortable', 'patterned', 'extra', 'extra', 'soft',\n",
            " 'such', 'great', 'yellow', 'useful', 'several', 'tiny', 'cute', 'tight', 'i',\n",
            " 'large', 'tamed', 'inner', 'tamed', 'unique', 'hot', 'long', 'yucky', 'great',\n",
            " 'underneath', 'black', 'Perfect', 'long-sleeved', 'true', 'comfortable',\n",
            " 'air-dried', 'outstanding', 'such', 'pretty', 'red', 'perfect', 'only', 'wish',\n",
            " 'enough', 'mid', 'exceptional', 'young', 'yr', 'old', 'enjoy', 'much',\n",
            " 'uniqueness', 'great', 'curvy', 'small', 'heavy', 'light', 'great', 'easy',\n",
            " 'light', 'real', 'soft', 'clingy', 'good', 'open', 'small', 'good', 'notched',\n",
            " 'optional', 'visible', 'extra', 'long', 'blue', 'good', 'hot', 'linen', 'i',\n",
            " 'top', 'due', 'top', 'tunic', 'i', 'new', 'favorite', 'i', 'possible', 'local',\n",
            " 'adorable', 'comfortable', 'much', 'crazy', 'other', 'i', 'hard', 'Red', 'i',\n",
            " 'nice', 'great', 'stunning', 'comfortable', 'rich', 'floral', 'vibrant',\n",
            " 'vintage', 'many', 'floaty', 'ultra', 'comfortable', 'top', 'special',\n",
            " 'dressy', 'casual', 'top', 'close', 'navy', 'large', 'large', 'long', 'other',\n",
            " 'i', 'little', 'small', 'top', 'super', 'comfortable', 'very', 'clean',\n",
            " 'green', 'comfortable', 'soft', 'pictured', 'casual', 'good', 'small',\n",
            " 'perfect', 'i', 'right', 'great', 't-shirt', 'stylish', 'versatile', 'many',\n",
            " 'only', 'first', 'huge', 'i', 'Casual', 'stylish', 'lounge', 'faux', 'fitted',\n",
            " 'such', 'pretty', 'flowy-', 'large', 'cute', 'soft', 'soft', 'comfortable',\n",
            " 'skinny', 'good', 'thin', 'last', 'i', 'glad', 'last', 'nice', 'light',\n",
            " 'perfect', 'warm', 'third', 'sleep', 'Luxurious', 'warm', 'light', 'cute',\n",
            " 'detailed', 'low', 'i', 'unable', 'beautiful', 'subtle', 'Fabulous', 'pretty',\n",
            " 'Beautiful', 'larger-breasted', 'i', 'i', 'happy', 'top', 'full', 'i',\n",
            " 'swollen', 'super', 'comfortable', 'good', 'slimming', 'short', 'Easy',\n",
            " 'perfect', 'comfortable', 'stylish', 'great', 'skinny', 'short', 'pumped',\n",
            " 'different', 'last', 'military', 'voluminous', 'short', 'last', 'comfortable',\n",
            " 'dramatic', 'back', 'normal', 't-shirt', 'special', 'comfortable', 'as-is',\n",
            " 'huge', 'crazy', 'chic', 'white', 'golden', 'piece', 'elegant', 'nice', 'only',\n",
            " 'i', 'beautiful', 'basic', 'top', 'thin', 'i', 'little', 'perfect', 'black',\n",
            " 'tall', 'recommend', 'large', 'small', 'extra', 'small', 'tunic', 'lovely',\n",
            " 'same', 'comfortable', 'beautiful', 'breathable/comfortable', 'great',\n",
            " 'unfamiliar', 'top', 'many', 'super', 'delicate', 'mindful', 'i', 'large',\n",
            " 'little', 'odd', 'top', 'small', 'small', 'busty', 'fit', 'unique',\n",
            " 'comfortable', 'much', 'i', 'neutral', 'nice', 'i', 'simple', 'free', 'easy',\n",
            " 'neutral', 'glad', 'Wish', 'true', 'poncho', 'due', 'online', 'gray', 'able',\n",
            " 'briefly', 'happy', 'such', 'cute', 'north', 'last', 'much', 'perfect',\n",
            " 'classic', 'favorite', 'clean', 'high', 'comfortable', 'great', 'sweet',\n",
            " 'cute', 'little', 'third', 'same', 'loose', 'petite', 'regular', '38-30-40',\n",
            " 'cute', 'low', 'true', 'hard', 'small', 'Perfect', 'cute', 'few', 'other',\n",
            " 'different', 'baggy', 'loose', 'due', 'elastic', 'big', 'shapeless', 'top',\n",
            " 'perfect', 'Beautiful', 'fit', 'special', 'perfect', 'Dry', 'local', 'super',\n",
            " 'top', 'nice', 'nice', 'great', 'nautical', 'nice', 'large', 'large', 'top',\n",
            " 'i', 'dry', 'clean', 'casual', 'fun', 'sleep', 'little', 'great', 'soft',\n",
            " 'same', 'romantic', 'blue', 'convertible', 'comfortable', 'i', 'convertible',\n",
            " 'great', 'comfy', 'first', 'high', 'Fantastic', 'soft', 'comfortable', 'black',\n",
            " 'white', 'great', 'tall', 'Gorgeous', 'classic', 'navy', 'magical', 'black',\n",
            " 'white', 'top', 'different', 'delicate', 'intricate', 'beautiful', 'great',\n",
            " 'top', 'loose', 'Great', 'wrong', 'beautiful', 'light', 'comfortable', 'nice',\n",
            " 'tan', 'i', 'big', 'nice', 'big', 'big', 'i', 'usual', 'Fresh', 'great',\n",
            " 'negative', 'small', 'wide', 'short', 'beautiful', 'high', 'short', 'fresh',\n",
            " 'light', 'comfy', 'large', 'short', 'light', 'soft', 'fit', 'great', 'overall',\n",
            " 'large', 'i', 'big', 'sure', 'big', 'lace', 'modern', 'separate', 'navy',\n",
            " 'bold', 'perfect', 'pre-baby', 'pleased', 'comfortable', 'confident', 'little',\n",
            " 'flattering', 'feminine', 'usual', 'simple', 'hooded', 'versatile', 'top',\n",
            " 'delicate', 'durable', 'Live', 'comfy', 'little', 'small', 'loose', 'baggy',\n",
            " 'multiple', 'true', 'i', 'gray', 'purple', 'true', 'blue-ish', 'large', 'nice',\n",
            " 'front', 'fast', 'flat', 'petite', 'nice', 'overall', 'right', 'incredible',\n",
            " 'much', 'casual', 'i', 'nice', 'basic', 'comfortable', 'easy', 'able', 'nice',\n",
            " 'stylish', 'nice', 'heavy', 'warm', 'Classic', 'basic', 'black', 'beautiful',\n",
            " 'i', 'other', 'perfect', 'Beautiful', 'top', 'beautiful', 'soft', 'silky',\n",
            " 'flattering', 'skinny', 'long', 'casual', 'put-together', 'sure', 'previous',\n",
            " 'small', 'great', 'great', 'bright', 'small', 'right', 'popular', 'perfect',\n",
            " 'black', 'white', 'perfect', 'similar', 'right', 'overall', 'happy', 'little',\n",
            " 'gorgeous', 'thick', 'thick', 'little', 'wide', 'big', 'good', 'beautiful',\n",
            " 'top', 'true', 'large', 'extra', 'large', 'large', 'gigantic', 'underthings',\n",
            " 'navy', 'casual', 'open', 'nice', 'linen', 'huge', 'ag', 'own', 'perfect',\n",
            " 'particular', 'fantastic', 'flattering', 'right', 'great', 'staple', 'classy',\n",
            " 'black', 'little', 'funky', 'large', 'armpit', 'i', 'boxy', 'boxy', 'great',\n",
            " 'great', 'Great', 'Wonderful', 'fit', 'perfect', 'easy', 'ankle',\n",
            " 'see-through', 'only', 'elastic', 'minor', 'soft', 'comfy', 'fit', 'small',\n",
            " 'rich', 'soft', 'slim', 'local', 'hot', 'blue', 'neckline', 'fun', 'double',\n",
            " 'simple', 'dark', 'skinny', 'i', 'tech', 'casual', 'ombre', 'gorgeous',\n",
            " 'other', 'unique', 'unique', 'colorful', 'boyfriend', 'slouchy', 'loose',\n",
            " 'athletic', 'true', 'little', 'i', 'snug', 'simple', 'stylish', 'tag', 'super',\n",
            " 'Great', 'glad', 'great', 'perfect', 'flattering', 'comfortable', 'casual',\n",
            " 'black', 'perfect', 'i', 'crazy', 'comfortable', 'high', 'bust', 'bra',\n",
            " 'underwear', 'recommended', 'casual', 'black', 'elegant', 'ultra', 'bohemian',\n",
            " 'first', 'little', 'big', 'bust', 'bust', 'snug', 'true', 'pattern',\n",
            " 'delicate', 'other', 'thin', 'lightweight', 'functional', 'cardigan', 'i',\n",
            " 'aesthetic', 'classic', 'top', 'beautiful', 'lighter', 'double', 'great',\n",
            " 'cami', 'wearing', 'beautiful', 'subtle', 'sexy', 'endless', 'true', 'i',\n",
            " 'top', 'nice', 'great', 'perfect', 'white', 'super', 'short', 'petite',\n",
            " 'thick', 'spring/early', 'light', 'airy', 'heavy', 'dark', 'heavy', 'much',\n",
            " 'perfect', 'early', 'fabulous', 'flattering', 'right', 'full', 'wear', 'great',\n",
            " 'heavy', 'Great', 'great', 'beautiful', 'perfect', 's', 'colwyn', 'great',\n",
            " 'Gorgeous', 'right', 'top', 'washable', 'initial', 'i', 'petite', 'small', 'i',\n",
            " 'extra', 'shaped', 'i', 'light', 'top', 'weird', 'i', 'top', 'great', 'right',\n",
            " 'little', 'top', 'top', 'cute', 'flattering', 'unique', 'comfy', 'other',\n",
            " 'amazing', 'soft', 'great', 'many', 'poly/rayon', 'due', 'chic', 'warm',\n",
            " 'warm', 'amazing', 'little', 'pricey', 'hard', 'i', 'top', 'little', 'boxy',\n",
            " 'good', 'different', 'great', 'casual', 'i', 'previous', 'large', 'huge',\n",
            " 'red', 'great', 'pilcro', 'large', 'other', 'add', 'i', 'overall', 'i',\n",
            " 'multiple', 'Cute', 'nude', 'cami', 'white', 'final', 'top', 'rosy', 'great',\n",
            " 'light', 'wear', 'warmer', 'small', 'huge', 'wee', 'nice', 'great', 'unhappy',\n",
            " 'flattering', 'tall', 'great', 'short', 'small', 'arm', 'loose', 'comfy',\n",
            " 'beautiful', 'much', 'sure', 'likely', 'mad', 'great', 'i', 'great', 'little',\n",
            " 'loose', 'little', 'elastic', 'dive-ine', 'diving', 'easy', 'little', 'i',\n",
            " 'true', 'need', 'great', 'little', 'nice', 'Simple', 'local', 't-shirt',\n",
            " 'many', 'small', 'small', 'little', 'short', 'beautiful', 'understated',\n",
            " 'thin', 'fine', 'usual', 'xs', 'flattering', 'long', 'lean', 'great', 'flip',\n",
            " 'happy', 'prior', 'top', 'open', 'similar', 'top', 'perfect', 'skinny',\n",
            " 'Wonderful', 'unique', 'last', 'beautiful', 'unique', 'key', 'slight', 'nice',\n",
            " 'huge', 'tight', 'i', 'elastic', 'dressier', 'elastic', 'flattering', 'nice',\n",
            " 'floral', 'great', 'short', 'i', 'fine', 'blousy', 'tight', 'right', 'good',\n",
            " 'black', 'skinny', 'versatile', 'clingy', 'many', 'navy', 'great', 'light',\n",
            " 'curvy', 'small', 'perfect', 'i', 'true', 'wrong', 'beautiful', 'i', 'heavy',\n",
            " 'short', 'large', 'boxy', 'i', 'comfortable', 'i', 'many', 'Cool', 'overall',\n",
            " 'nice', 'good', 'high', 'odd', 'tunic', 'good', 'tts', 'i', 'other', 'Elegant',\n",
            " 'comfortable', 'comfortable', 'soft', 'stretch', 'tight', 'i', 'grateful',\n",
            " 'long', 'little', 'navy', 'black', 'available', 'much', 'applied', 'hot-mama',\n",
            " 'simple', 'neutral', 'gold', 'i', 'forwar', 'lovely', 'fit', 'dd', 'fine',\n",
            " 'bad', 'bad', 'anothr', 'black', 'loose/flowy', 'littl', 'Awesome', 'Preppy',\n",
            " 'top', 'super', 'comfortable', 'great', 'preppy', 'casual', 'beautiful',\n",
            " 'gorgeous', 'beautiful', 'black', 'brown', 'generous', 'lightweight', 'small',\n",
            " 'great', 'much', 'i', 'fabric', 'Soft', 'perfect', 'little', 'due', 'high',\n",
            " 'soft', 'lightweight', 'rare', 'right', 'precious', 'small', 'whole',\n",
            " 'typical', 'eva', 'Adorable', 'top', 'beautiful', 'incredible', 'many',\n",
            " 'different', 'perfect', 'between-season', 'boxy', 'other', 'great', 'feels',\n",
            " 'cute', 'cool', 'brutal', 'hot', 'much', 'little', 'thin', 'abt', '3-4',\n",
            " 'silver', 'obvious', 'noticeable', 'cute', 'many', 'great', 'impressed',\n",
            " 'great', 'subtle', 'nice', 'standard', 'i', 'wish', 'usa', 'several', 'other',\n",
            " 'usa', 'polished', 'similar', 'happy', 'adorable', 'super', 'good', 'perfect',\n",
            " 'loose', 'official', 'comfortable', 'i', 'i', 'sharp', 'Beautiful', 'little',\n",
            " 'large', 'large', 'hot', 'blue', 'matching', 'i', 'previous', 'full', 'pricey',\n",
            " 'free', 'enough', 'afraid', 'fa', 'Great', 'great', 'i', 'actual', 'high',\n",
            " 'Adorable', 'adorable', 'floral', 'true', 'casual', 'nice', 'full', 'see',\n",
            " 'white/yellow', 'nude', 'casual', 'disappointed', 'sheer', 'i', 'soft', 'past',\n",
            " 'much', 'tough', 'petite', 'sooooo', 'soft', 'heavy', 'teal', 'nice', 'i',\n",
            " 'white', 'navy', 'navy', 'light', 'whole', 'top', 'navy', 'aware', 'true',\n",
            " 'Beautiful', 'great', 'odd', 'short', 'roomy', 'small', 'i', 'afraid', 'i',\n",
            " 'uniform', 'beautify', 'Beautiful', 'maxi', 'available', 'perfect', 'great',\n",
            " 'green', 'i', 'little', 'perfect', 'great', 'standard', 'comfortable',\n",
            " 'gorgeous', 'cool', 'long', 'figure-flattering', 'afterward', 'i', 'much', 'i',\n",
            " 'black', 'white', 'intact', 'i', 'aggressive', 'cute', 'large', 'fit', 'fine',\n",
            " 'i', 'narrow', 'Great', 'crinkle', 'great', 'i', 'beautiful', 'deep', 'unique',\n",
            " 'i', 'big', 'early', 'i', 'first', 'denim', 'i', 'heavy', 'comfortable',\n",
            " 'perfect', 'flattering', 'green', 'dark', 'soft', 'boring', 'great', 'right',\n",
            " 'flattering', 'loose', 'nice', 'light', 'good', 'super', 'true', 'full', 'i',\n",
            " 'usual', 'flattering', 'top', 'Beautiful', 'casual', 'worth', 'extra',\n",
            " 'flattering', 'Great', 'little', 'repeated', 'much', 'other', 'large', 'large',\n",
            " 'loose', 'soft', 'loose', 'cami', 'soft', 'good', 'happy', 'little', 'light',\n",
            " 'i', 'cute', 'large', 'different', 'high', 'comfortable', 'large', 'loose',\n",
            " 'big', 'wide', 'next', 'long', 'i', 'i', 'i', 'perfect', 'fit', 'dressy',\n",
            " 'casual', 'simple', 'great', 'simple', 'back', 'long-time', 'caught', 'able',\n",
            " 'small', 'i', 'website', 'small', 'different', 'much', 'overall', 'nice',\n",
            " 'small', 'tight', 'i', 'huge', 'small', 'only', 'tight', 'little', 'tight',\n",
            " 'small', '....', 'i', 'comfortable', 'perfect', 'casual', 'warm',\n",
            " 'air-conditioned', 'many', 'many', 'tight', 'i', 'cold', 'perfect', 'small',\n",
            " 'classic', 'heavier', 'much', 'loose', 'generous', 'full', 'Gorgeous', 'soft',\n",
            " 'gorgeous', 'fit', 'beautiful', 'transitional', 'worn', 'multiple', 'boxy',\n",
            " 'hard', 'baggy', 'boxy', 'short', 'gorgeous', 'casual', 'old', 'true',\n",
            " 'unique', 'casual', 'versatile', 'top', 'i', 'professional', 'i', 'warm',\n",
            " 'delicate', 'i', 'boxy', 'lil', 'comfy', 'much', 'great', 'unsure',\n",
            " 'flattering', 'roomy', 'sure', 'slim', 'great', 'xs', 'good', 'nice', 'top',\n",
            " 'nice', 'top', 'small', 'gathered', 'ample', 'top', 'boxy', 'much', 'baggy',\n",
            " 'small', 'perfect', 'tad', 'white', 'Casual', 'cute', 'tight', 'large',\n",
            " 'short', 'glad', 'beautiful', 'busty', 'i', 'other', 'tulle', 'easy',\n",
            " 'favorite', 'cute', 'soft', 'figure-flattering', 'black', 'back', 'i', 'super',\n",
            " 'soft', 'low', 'cami', 'ultra', 'sexy', 'i', 'sure', 'black', 'sure',\n",
            " 'amazing', 'small', 'extra', 'small', 'personal', 'snug', 'loose', 'forgiving',\n",
            " 'i', 'small', 'sturdy', 'overall', 'cute', 'Great', 'long-sleeved', 'same',\n",
            " 'black', 'december', 'small', 'skinny', 'skinny', 'slimming', 'soft', 'great',\n",
            " 'large', 'comfortable', 'great', 'nice', 'beige', 'high', 'great', 'evening',\n",
            " 'feminine', 'soft', 'top', 'true', 'romantic', 'white', 'underlay',\n",
            " 'comfortable', 'soft', 'many', 'top', 'green', 'extra', 'extra', 'small',\n",
            " 'nice', 'light', 'bright', 'extra', 'extra', 'small', 'extra', 'small', 'big',\n",
            " 'comfortable', 'casual', 'fun', 'little', 'worried', 'casual', 'fabric',\n",
            " 'dressy', 'casual', 'i', 'great', 'gray', 'distinctive', 'comfy', 'unique',\n",
            " 'able', 'i', 'true', 'small', 'loose', 'oversized', 'retail', 'happy', 'i',\n",
            " 'i', 'gotten', 'first', 'due', 'pricey', 'amazing', 'last', 'long', 'quick',\n",
            " 'i', 'happy', 'muscular', 'upper', 'i', 'broad', 'muted', 'Fantastic',\n",
            " 'skinny', 'soft', 'substantial', 'nice', 'highlighted', 'i', 'glad', 'several',\n",
            " 'next', 'regular', 'perfect', 'modern', 'small', 'top-', 'large', 'long',\n",
            " 'solid', 'long', 'short', 'broad', 'petite', 'regular', 'small', 'cami',\n",
            " 'skinny', 'petite', 'velvet', 'perfect', 'tight', 'i', 'other', 'great',\n",
            " 'small', 'i', 'super', 'top', 'full', 'online', 'new', 'i', 'winth', 'baggy',\n",
            " 'many', 'good', 'small', 'perfect', 'baggier', 'perfect', 'short', 'short',\n",
            " 'i', 'frumpy', 'Gorgeous', 'such', 'amazing', 'red', 'open', 'comfy', 'skinny',\n",
            " 'fine', 'i', 'pleased', 'Great', 'Excellent', 'comfortable', 'little', 'same',\n",
            " 'beautiful', 'slight', 'simple', 'nice', 'casual', 'fit', 'Cute', 'stylish',\n",
            " 'funny', 'perfect', 'short', 'i', 'cute', 'comfortable', 'potential', 'many',\n",
            " '38-30-40', 'great', 'big', 'unique', 'impressed', 'great', 'several',\n",
            " 'appropriate', 'great', 'form', 'comfortable', 'vertical', 'horizontal',\n",
            " 'curious', 'incredible', 'easy', 'right', 'flattering', 'gorgeous',\n",
            " 'Attractive', 'impressed', 'first', 'wrinkled', 'i', 'good', 'tie',\n",
            " 'beautiful', 'full', 'i', 'many', 'glad', 'great', 'great', 'i', 'right',\n",
            " 'bright', 'cure', 'bright', 'hard', 'nice', 'perfect', 'black', 'perfect',\n",
            " 'black', 'great', 'fit', 'good', 'elastic', 'local', 'able', 'awkward',\n",
            " 'great', 'thin', 'Perfect', 'i', 'savvy', 'past', 'right', 'dress-if',\n",
            " 'reveiws-i', 'lined', 'old', 'solid', 'periwinkle-colored', 'fabric',\n",
            " 'form-fitting', 'positive', 'local', 'bright', 'content', 'lightweight',\n",
            " 'little', 'perfect', 'perfect', 'real', 'substantial', 'thin', 'contrary',\n",
            " 'wonderful', 'wonderful', 'heavy', 'thin', 'much', 'same', 'i', 'few', 'prior',\n",
            " 'dark', 'i', 'Casual', 'great', 'lightweight', 'right', 'little', 'breezy',\n",
            " 'bottom', 'little', 'Beautiful', 'pretty', 'different', 'timely', 'lovely',\n",
            " 'unique', 'well-made', 'perfect', 'many', 'such', 'comfortable', 'flirty',\n",
            " 'small', 'x-small', 'soft', 'awesome', 'painful', 'unique', 'several',\n",
            " 'expensive', 'itchy', 'second', 'top', 'sewn', 'white', 'comfortable', 'small',\n",
            " 'pre-wedding', 'full', 'flowy', 'top', 'generous', 'full-busted', 'small', 'i',\n",
            " 'much', 'flattering', 'many', 'white', 'super', 'soft', 'cosy', 'narrow',\n",
            " 'athletic', 'slim', 'surprised', 'snug', 'short', 'glad', 'coral', 'large',\n",
            " 'generous', 'long', 'yoga', 'tight', 'enough', 'perfect', 'light', 'simple',\n",
            " 'soft', 'adorable', 'small', 'arm', 'tight', 'small', 'overall', 'great',\n",
            " 'comfortable', 'comfortable', 'slim', 'ingratiating', 'light', 'i', 'overall',\n",
            " 'i', 'pleased', 'happy', 'new', 'favorite', 'beautiful', 'vibrant', 'perfect',\n",
            " 'flowy', 'full', 'i', 'happy', 'able', 'petite', 'i', 'ok.', 'small', 'great',\n",
            " 'Ready', 'i', 'soft', 'super', 'awkward', 'due', 'bottom', 'navy', 'i', 'navy',\n",
            " 'weighty', 'rich', 'good', 'deep', 'rich', 'fabric', 'similar', 'heavy',\n",
            " 'flattering', 'upper', 'large', 'proper', 'large', 'i', 'nice', 'versatile',\n",
            " 'large', 'different', 'i', 'olive', 'favorite', 'awesome', 'green', 'golden',\n",
            " 'black', 'ivory', 'great', 'true', 'fit', 'soft', 'long', 'great', 'small',\n",
            " 'right', 'small', 'baggy', 'soft', 'Excellent', 'true', 'strappy', 'nice',\n",
            " 'see-through', 'i', 'thrilled', 'beautiful', 'stunning', 'dark', 'gorgeous',\n",
            " 'perfect', 'true', 'Unusual', 'striking', 'perfect', 'Perfect', 'blue',\n",
            " 'black', 'i', 'pleased', 'little', 'black', 'small', 'i', 'small', 'Beautiful',\n",
            " 'Beautiful', 'possible', 'excess', 'formal', 'beautiful', 'lightweight',\n",
            " 'warm', 'plaid', 'rich', 'much', 'large', 'typical', 'big', 'great',\n",
            " 'beautiful', 'remarkable', 'expensive', 'amazing', 'Attractive', 'small',\n",
            " 'other', 'small', 'small', 'i', 'pear-shaped', 'snug', 'nice', 'i', 'Awesome',\n",
            " 'Every', 'perfect', 'great', 'comfortable', 'navy', 'blue', 'elegant',\n",
            " 'comfortable', 'easy', 'simple', 'light-weight', 'tunic', 'fine', 'overall',\n",
            " 'i', 'happy', 'basic', 'Cute', 'toucan', 'normal', 'perfect', 'appropriate',\n",
            " 'huge', 'semi-fitted', 'nice', 'nice', 'same', 'breathable', 'little', 'tough',\n",
            " 'casual', 'soft', 'great', 'slight', 'much', 'cold', 'definite', 'nice', 'i',\n",
            " 'own', 'usual', 'small', '32d-31-38', 'on-line', 'chocolate', 'i', 'great',\n",
            " 'great', 'other', 'gorgeous', 'unique', 'fresh', 'great', 'beaded',\n",
            " 'beautiful', 'first', 'stylish', 'i', 'beautiful', 'red', 'good', 'first',\n",
            " 'full', 'wear', 'plenty', 'big', 'deep', 'beautiful', 'soft', 'tight', 'leg',\n",
            " 'easy', 'fit', 'skinny', 'relaxed', 'good', 'nice', 'Nice', 'square',\n",
            " 'versatile', 'green', 'perfect', 'dark', 'unique', 'basic', 'gray', 'favorite',\n",
            " 'comfortable', 'durable', 'overall', 'great', 'reese', 'reese', 'stunning',\n",
            " 'backside', 'i', 'glad', 'beautiful', 'i', 'happy', 'straight-legged', 'tight',\n",
            " 'enough', 'structured', 'i', 'perfect', 'loose', 'top', 'over-sized', 'large',\n",
            " 'large', 'loose', 'other', 'super', 'casual', 'fancy', 'nice', 'casual',\n",
            " 'Great', 'super', 'happy', 'true', 'great', 'i', 'top', 'other', 'little',\n",
            " 'short', 'large', 'i', 'comfortable', 'large', 'trim', 'young', 'young',\n",
            " 'usual', 'fine', 'navy', 'classy', 'rich', 'blue', 'many', 'Gorgeous', 'lucky',\n",
            " 'wear', 'leather/vegan', 'i', 'm', 'loose', 'cropped', 'gorgeous', 'actual',\n",
            " 'detailed', 'accurate', 'knee', 'little', 'tulle', 'a-line', 'back', 'other',\n",
            " 'i', 'defected', 'big', 'upper', 'only', 'back', 'general', '2-3', 'normal',\n",
            " 'minimal', 'super', 'love-hate', 'beautiful', 'swing', 'curvy', 'huge',\n",
            " 'perfect', 'skimming', 'large', 'beautiful', 'right', 'large', 'small', 'many',\n",
            " 'xs', 'other', 'glad', 'flattering', 'i', 'happy', 'Stylish', 'elegant',\n",
            " 'stylish', 'large', 'waist', 'i', 'cute', 'extra', 'pajama', 'soft', 'soft',\n",
            " 'elastic', 'evocative', 'only', 'sure', 'perfect', 'whimsical', 'black',\n",
            " 'white', 'bottom', 'nice', 'i', 'flatering', 'much', 'upper', 'normal',\n",
            " 'whole', 'super', 'substantial', 'waist', 'apttern', 'nice', 'bad', 'regular',\n",
            " 'perfect', 'easy', 'top', 'top', 'i', 'top', 'adorable', 'great', 'available',\n",
            " 'many', 'next', 'sad', 'Beautiful', 'added', 'short', 'i', 'overall', 'great',\n",
            " 'happy', 'high', 'postpartum', 'little', 'i', 'Classic', 'amazing',\n",
            " 'intricate', 'same', 'nice', 'aware', 'mid', 'exceptional', 'classic', 'i',\n",
            " 'many', 'beautiful', 'red', 'bitter', 'online', 'bohemian', 'other',\n",
            " 'positive', 'disappointed', 'cute', 'stylish', 'black', 'second', 'first',\n",
            " 'Beautiful', 'last', 'balmy', 'neckline', 'top', 'flowy', 'fitted', 'Excited',\n",
            " 'lovely', 'teal', 'blue', 'sky', 'luxurious', 'well-made', 'sassy', 'cute',\n",
            " 'super', 'soft', 'i', 'hot', 'crazy', 'undecided', 'fine', 'different',\n",
            " 'lighting', 'tunic', 'possible', 'i', 'little', 'small', 'little', 'heavy',\n",
            " 'subtle', 'odd', 'stand-up', 'nice', 'i', 'surprised', 'next', 'unique',\n",
            " 'beautiful', 'cute', 'such', 'great', 'huge', 'small', 'ok.', 'flowy', 'soft',\n",
            " 'great', 'new', 'brown', 'deep', 'great', 'black', 'great', 'polished',\n",
            " 'casual', 'nice', 'soft', 'suede-like', 'true', 'natural', 'fifth', 'i',\n",
            " 'petite', 'good', 'beautiful', 'comfortable', 'fantastic', 'gorgeous', 'glad',\n",
            " 'exact', 'same', 'same', 'other', 'good', 'usual', 'pilcro', 'small', 'little',\n",
            " 'small', 'waist', 'crude', 'short', 'legs', 'fit', 'twisted', 'cute', 'much',\n",
            " 'i', 'small', 'perfect', 'tight', 'linen', 'adjustable', 'adjustable', 'wide',\n",
            " 'flowy', 'casual', 'classy', 'great', 'own', 'perfect', 'many', 'cute',\n",
            " 'different', 'small', 'subtle', 'colorful', 'bright', 'beautiful', 'white',\n",
            " 'i', 'soft', 'stretchy', 'soft', 'great', 'conscious', 'Elegant', 'elegant',\n",
            " 'cozy', 'comfortable', 'wonderful', 'beautiful', 'soft', 'comfortable',\n",
            " 'flowy', 'flattering', 'many', 'wonderful', 'san', 'fit', 'great', 'pregnant',\n",
            " 'good', 'beautiful', 'off-white', 'off-white', 'adorable', 'swiss', 'lace',\n",
            " 'adorable', 'fabric', 'similar', 'little', 'long', 'top', 'dipped', 'perfect',\n",
            " 'boxy', 'soft', 'great', 'white', 'tricky', 'certain', 'blue/white',\n",
            " 'opposite', 'obvious', 'oversized', 'i', 'right', 'big', 'sure', 'due',\n",
            " 'broad', 'Gorgeous', 'unfortunately', 'true', 'perfect', 'midi', 'i', 'near',\n",
            " 'petite', 'tricky', 'fine', 'i', 'elegant', 'black', 'friday', 'extra',\n",
            " 'small', 'great-not', 'beautiful', 'cute', 'nice', 'comfortable', 'different',\n",
            " 'online', 'much', 'skin', 'black', 'black', 'perfect', 'typical', 'xs', 'boxy',\n",
            " 'other', 'wide', 'bad', 'thin', 'warm', 'new', 'absolute', 'elegant', 'true',\n",
            " 'usual', 'busty', 'perfect', 'fancy', 'social', 'full', 'overwhelming', 'slim',\n",
            " 'fitting', 'black', 'slight', 'great', 'beautiful', 'comfy', 'casual',\n",
            " 'sloppy', 'perfect', 'top', 'true', 'feminine', 'elegant', 'upcoming', 'top',\n",
            " 'true', 'little', '34e-30-40', 'little', 'uncomfortable', 'Adorable',\n",
            " 'different', 'other', 'i', 'yellow', 'comfortable', 'soft', 'right', 'fit',\n",
            " 'comfortable', 'beachy', 'comfortable', 'casual', 'high', 'great', 'dressy',\n",
            " 'nice', 'Soft', 'great', 'sophisticated', 'Classic', 'glad', 'one.i', 'next',\n",
            " 'Classic', 'long', 'i', 'fine', 'thin', 'i', 'own', 'warm', 'cold', 'front',\n",
            " 'little', 'tired', 'sizes-', 'regular', 'top', 'black', 'Zippery-do-dah',\n",
            " 'zippery-day', 'cute', 'great', 'great', 'low', 'wee', 'shear', 'little',\n",
            " 'large', 'right', 'oatmeal/beige', 'great', 'blue', 'i', 'favorite', 'skinny',\n",
            " 'colored', 'same', 'undertsated', 'many', 'other', 'legs', 'little', 'big',\n",
            " 'tru', 'usual', 'cozy', 'different', 'versatile', 'timeless', 'Gorgeous',\n",
            " 'stunning', 'vibrant', 'small', 'i', 'wear', 'large', 'aware', 'normal',\n",
            " 'available', 'nice', 'multiple', 'cute', 'great', 'casual', 'cute', 'great',\n",
            " 'colored', 'tough', 'right', 'top', '2-4', 'wide', 'i', 'fine', 'short',\n",
            " 'particular', 'large', 'fit', 'perfect', '12-', 'forgiving', 'i', 'great',\n",
            " 'flat', 'cozy', 'comfortable', 'form', 'high', 'hot', 'sure', 'Comfortable',\n",
            " 'classic', 'super', 'comfortable', 'one-inch', 'regular', 'xs', '33-26-35',\n",
            " 'short-waisted', 'bloated', 'i', 'appropriate', 'smooth', 'asymmetrical',\n",
            " 'little', 'extra', 'normal', 'looser/not', 'appropriate', 'casual', 'slubbed',\n",
            " 'comfortable', 'cute', 'other', 'small', 'usual', 'other', 'perfect', 'white',\n",
            " 'white', 'many', 'white', 'bad', 'little', 'wearable', 'nude', 'thinnish',\n",
            " 'upper', 'huge', 'super', 'soft', 'overall', 'big', 'blue', 'little', 'black',\n",
            " '140-150', 'small', 'shift/swing', 'busty', 'unwanted', 'thin', 'petite', 'i',\n",
            " 'loose', 'i', 'small', 'g', 'top', 'only', 'negative', 'easy', 'i', 'soft',\n",
            " 'great', 'soft', 'flowy', 'normal', 'i', 'little', 'big', 'pregnant', 'second',\n",
            " 'great', 'big', 'available', 'red', 'top', 'glad', 'wrong', 'top', 'cute',\n",
            " 'nice', 'bottom', 'floral', 'various', 'great', 'floral', 'i', 'perfect',\n",
            " 'Summer', 'normal', 'small', 'normal', 'tts', 'soft', 'nice', 'interior',\n",
            " 'lovely', 'cute', 'classy', 'top', 'red', 'little', 'available', 'i', 'pale',\n",
            " 'red', 'super', 'classy', 'i', 'casual', 'airy', 'great', 'scalloped', 'good',\n",
            " 'waisted', 'boxy', 'petite', 's', 'regular', 'i', 'oetite/regular', 'i',\n",
            " 'so-so', 'heavy', 'cant', 'little', 'high', 'silly', 'gorgeous', 'i', 'weird',\n",
            " 'right', 'casual', 'i', 'short', 'i', 'top', 'favorite', 'navy', 'floral',\n",
            " 'little', 'regular', 'comfortable', 'nice', 'great', 'top', 'great', 'great',\n",
            " 'soft', 'great', 'small', 'i', 'small', 'wish', 'Green', 'green', 'dark',\n",
            " 'green', 'soft', 'much', 'comfortable', 'flattering', 'i', 'narrow', 'top',\n",
            " 'well-made', 'important', 'salt', 'vibrant', 'back', 'much', 'big', 'olive',\n",
            " 'green', 'regular', 'i', 'ready', 'high', 'modest', 'i', 'i', 'regular',\n",
            " 'nice', 'subtle', 'bright', 'nice', 'fit', 'much', 'comfortable', 'petite',\n",
            " 'i', 'nicer', 'extra', 'i', 'previous', 'thick', 'high', 'breathable', 'extra',\n",
            " 'small', 'loose', 'fitting', 'extra', 'small', 'curvy', 'fitted', 'i', 'rich',\n",
            " 'great', 'black', 'green', 'perfect', 'green', 'nice', 'comfy', 'right',\n",
            " 'recommend', 'pricier', 'great', 'Great', 'peasant-style', 'first', 'small',\n",
            " 'i', 'small', 'flattering', 'i', 'happy', 'soft', 'needless', 'i', 'petite',\n",
            " 'full', 'petite', 'xs', 'super', 'soft', 'warm', 'first', 'last', 'long',\n",
            " 'sleeve', 'cozy', 'last', 'long', 'worth', 'full', 'actual', 'xs', 'ok',\n",
            " 'itchy', 'i', 'itchy', 'torn', 'nice', 'itchy', 'long', 'ah', 'short', 'warm',\n",
            " 'neutral', 'red', 'high', 'small', 'short', 'small', 'young', 'small',\n",
            " 'petite', 'Adorable', 'floral', 'cute', 'layered', 'flattering', 'i',\n",
            " 'several', 'adorable', 'staple', 'soft', 'soft', 'heavy', 'i', 'little',\n",
            " 'afraid', 'nice', 'beautiful', 'light', 'casual', 'great', 'fantastic',\n",
            " 'useless', 'odd', 'first', 'brow-furrowing', 'front', 'local', 'i', 'red',\n",
            " 'gorgeous', 'perfect', 'flattering', 'scalloped', 'beautiful', 'beautiful',\n",
            " 'delightful', 'casual', 'small', 'top', 'i', 'large', 'busted', 'i',\n",
            " 'uncomfortable', 'top', 'Petal', 'soft', 'pretty', 'comfortable', 'sensitive',\n",
            " 'i', 'small', 'comfortable', 'little', 'comfortable', 'casual', 'Gorgeous',\n",
            " 'soft', 'detailed', 'gorgeous', 'little', 'fabulous', 'tight', 'versatile',\n",
            " 'top', 'little', 'large', 'little', 'little', 'top', 'lovely', 'Strange',\n",
            " 'fabulous', 'loose', 'true', 'i', 'good', 'normal', 'odd', 'overall', 'super',\n",
            " 'green', 'i', 'little', 'actual', 'little', 'casual', 'flattering',\n",
            " 'flattering', 'comfortable', 'top', 'top', 'i', 'pleased', 'top', 'beautiful',\n",
            " 'back', 'i', 'extra', 'large', 'adorable', 'i', 'other', 'small', 'busty',\n",
            " 'small', 'top', 'arm', 'significant', 'top', 'x-large', 'i', 'large',\n",
            " 'perfect', 'comfortable', 'boxy', 'white', 'beautiful', 'i', 'great', 'little',\n",
            " 'large/loose', 'nice', 'able', 'various', 'i', 'Adorable', 'typical', 'top',\n",
            " 'feminine', 'flattering', 'beautiful', 'large', 'neutral', 'lovely', 'light',\n",
            " 'i', 'comfortable', 'hot', 'printed', 'large', 'baggy', 'little', 'large',\n",
            " 'stretchy', 'dark', 'sure', 'fit', 'front', 'excessive', 'i', 'front',\n",
            " 'unflattering', 'pop-out', 'new', 'go-to', 'mid-weight', 'shrug-on', 'big',\n",
            " 'i', 'unflattering', 'warm', 'impossible', 'different-length', 'shrug-y',\n",
            " 'curve-fla', 'basic', 'navy', 'basic', 'soft', 'comfortable', 'little',\n",
            " 'whimsical', 'i', 'great', 'nice', 'heavy', 'Simple', 'Little', 'classic',\n",
            " 'low', 'push-up', 'easy', 'big', 'lovely', 'flattering', 'light', 'easy',\n",
            " 'only', 'little', 'big', '6-8', 'i', 'pretty', 'good', 'i', 'sturdy', 'wish',\n",
            " 'usual', 'easy', 'worth', 'good', 'great', 'online', 'top', 'much', 'soft',\n",
            " 'comfortable', 'usual', 'white', 'casual', 'other', 'cute', 'big', 'big',\n",
            " 'only', 'fitted', 'bright', 'strappy', 'tricky', 'super', 'great', 'nice',\n",
            " 'little', 'short', 'little', 'small', 'stupid', 'user', 'difficult', 'i',\n",
            " 'wish', 'Amazing', 'gorgeous', 'adorable', 'fantastic', 'tts', 'large', 'top',\n",
            " 'capri', 'sleeve', 'i', 'first', 'top', 'cute', 'sheer', 'cool', 'great',\n",
            " 'casual', 'great', 'casual', 'great', 'comfortable', 'undershirt', 'several',\n",
            " 'much', 'much', 'i', 'casual', 'able', 'black', 'low', 'top', 'soft', 'able',\n",
            " 'oversized', 'Amazing', 'soft', 'comfortable', 'great', 'tall', 'great', 'i',\n",
            " 'tight', 'perfect', 'arm', 'usual', 'small', 'fine', 'first', 'glad', 'white',\n",
            " 'good', 'i', 'overall', 'dark', 'nice', 'soft', 'comfortable', 'petite',\n",
            " 'huge', 'shapeless', 'i', 'i', 'tall', 'small', 'mid-thigh', 'shapel',\n",
            " 'beautiful', 'well-made', 'snug', 'right', 'available', 'i', 'i', 'beautiful',\n",
            " 'swing', 'perfect', 'sensitive', 'mid', 'brown', 'great', 'small', 'red',\n",
            " 'cute', 'light', 'mint', 'north', 'great', 'small', 'super', 'i', 'solid',\n",
            " 'able', 'fabric', 'top', 'large', 'delicate', 'unique', 'small', 'large',\n",
            " 'previous', 'long', 'good', 'i', 'comfortable', 'super', 'shirt', 'true',\n",
            " 'basic', 'winter', 'Adorable', 'other', 'grey', 'tunic', 'i', 'pleased',\n",
            " 'great', 'perfect', 'nice', 'on-trend', 'shirttail', 'perfect', 'material',\n",
            " 'only', 'minor', 'green', 'nice', 'tent', 'comfortable', 'i', 'i', 'little',\n",
            " 'Such', 'cute', 'big', 'great', 'comfortable', 'big', 'stiff', 'plaid',\n",
            " 'terrible', 'right', 'little', 'denim', 'comfortable', 'stylish', 'great',\n",
            " 'soft', 'beautiful', 'warm', 'thin', 'great', 'layering', 'light-to-medium',\n",
            " 'vibrant', 'sure', 'unexpected', 'great', 'plaid', 'free', 'different',\n",
            " 'consistent', 'small', 'long', 'wide', 'short', 'normal', 'man-made',\n",
            " 'acrylic', 'warm', 'enough', 'cami', 'nice', 'cute', 'soft', 'due', 'white',\n",
            " 'great', 'great', 'early', 'soft', 'sensitive', 'i', 'little', 'front', 'only',\n",
            " 'big', 'siz', 'other', 'thin', 'soft', 'first', 'many', 'much', 'navy',\n",
            " 'burgundy', 'large', 'comfortable', 'large', 'important', 'beautiful', 'super',\n",
            " 'soft', 'few', 'typical', 'large', 'much', 'loose', 'id', 'pretty-', 'vibrant',\n",
            " 'beautiful', 'ruched', 'low', 'red', 'skin', 'red-', 'prettier', 'many',\n",
            " 'perfect', 'small', 'pear', 'similar', 'few', 'i', 'thankful', 'realistic',\n",
            " 'Easy', 'white', 'easy', 'black', 'tunic', 'thin', 'raw', 'fine', 'i', 'long',\n",
            " 'last', 'cropped', 'fantastic', 'great', 'large', 'cute', 'flowy', 'true', 'i',\n",
            " 'able', 'great', 'symmetrical', 'pictured', 'nice', 'sheer', 'only',\n",
            " 'symmetrical', 'nice', 'i', 'full', 'perfect', 'unique', 'stylish',\n",
            " 'three-quarter', 'mid', 'airy', 'deep', 'deep', 'available', 'perfect',\n",
            " 'anniversary', 'numerous', 'great', 'wonderful', 'vintage-made-modern',\n",
            " 'classic', 'careful', 'intricate', 'few', 'unique', 'great', 'comfy',\n",
            " 'several', 'beware', 'cute', 'cute', 'soft', 'nice', 'clingy', 'square',\n",
            " 'small', 'ok', 'i', 'extra', 'small', 'weird', 'few', 'i', 'short', 'little',\n",
            " 'perfect', 'cropped', 'i', 'cropped', 'right', 'i', 'delicate', 'amazing',\n",
            " 'light', 'big', 'huge', 'high', 'beautiful', 'nice', 'friendly', 'perfect',\n",
            " 'soft', 'versatile', 'multiple', 'small', 'small', 'Vibrant', 'cute', 'soft',\n",
            " 'comfortable', 'little', 'large', 'Cute', 'big', 'small', 'i', 'busty',\n",
            " 'fitted', 'big', 'big', 'great', 'i', 'same', 'fringed', 'thick', 'dumpy', 'i',\n",
            " '4-6', 'i', 'i', 'chic', 'attractive', 'easy', 'next', 'stylish', 'tunic',\n",
            " 'full', 'dense', 'tight', 'warm', 'warm']\n"
          ]
        }
      ],
      "source": [
        "from pprint import pprint\n",
        "import nltk\n",
        "#nltk.download()\n",
        "\n",
        "# generate list of adjectives from positive reviews from balanced_reviews DF\n",
        "positive_adjectives = []\n",
        "for review in balanced_reviews[balanced_reviews['Sentiment'] == 'Positive']['Full Text']:\n",
        "    for word, pos in nltk.pos_tag(nltk.word_tokenize(review)):\n",
        "        if pos == 'JJ':\n",
        "            positive_adjectives.append(word)\n",
        "            \n",
        "pprint(positive_adjectives, compact=True)"
      ]
    },
    {
      "cell_type": "code",
      "execution_count": 8,
      "metadata": {
        "id": "5HZG-dmuyL2F"
      },
      "outputs": [
        {
          "name": "stdout",
          "output_type": "stream",
          "text": [
            "['soooo', 'cropped', 'super', 'soft', 'cute', 'great', 'tall', 'high-waisted',\n",
            " 'waist', 'big', 'thin', 'i', 'small', 'large', 'good', 'other', 'fat', 'bad',\n",
            " 'cute', 'huge', 'wide', 'nice', 'bad', 'small', 'i', 'small', 'available',\n",
            " 'bad', 'bad', 'excited', 'same', 'broad', 'promising', 'tie', 'dull',\n",
            " 'Gorgeous', 'beautiful', 'beautiful', 'old-fashioned', 'wispy', 'beautiful',\n",
            " 'elastic', 'normal-length', 'other', 'large', 'nice', 'high', 'i', 'big',\n",
            " 'large', 'petite', 'available', 'sure', 'small', 'short', 'large', 'i',\n",
            " 'small', 'bad', 'versatile', 'stiff', 'teeny', 'tiny', 'sad', 'huge', 'large',\n",
            " 'top', 'huge', 'thick', 'uncomfortable', 'small', 'giant', 'huge', 'frumpy',\n",
            " 'true', 'nice', 'vibrant', 'Tiny', 'cute', 'tiny', 'top', 'little', 'fragile',\n",
            " 'curvy', 'different', 'same', 'great', 'equal', 'crazy', 'noticeable', 'sad',\n",
            " 'poor', 'real', 'scratchy', 'unlined', 'uncomfortable', 'fit', 'small', 'boxy',\n",
            " 'flattering', 'nice', 'itchy', 'own', 'comfortable', 'disappointed', 'many',\n",
            " 'great', 'top', 'boxy', 'cute', 'i', 'huge', 'other', 'inside', 'big',\n",
            " 'fabric', 'odd', 'nice', 'i', 'right', 'rear', 'big', 'i', 'curvy/muscular',\n",
            " 'small', 'wrong', 'wrong', 'fine', 'great', 'ur', 'few', 'other', 'true',\n",
            " 'xsp', 'hideous', 'athletic', 'betrayed', 'blue', 'much', 'i', 'delicate/cold',\n",
            " 'small', 'favorite', 'gorgeous', 'cool', 'raw', 'v-back', 'top', 'naught',\n",
            " 'do-over', 'same', 'i', 'large', 'natural', 'tight', 'rigid', 'bust', 'little',\n",
            " 'loose', 'navy', 'i', 'sure', 'top', 'large', 'usual', 'small', 'funky',\n",
            " 'little', 'available', 'i', 'beautiful', 'top', 'pregnant', 'lovely', 'i',\n",
            " 'old', 'great', 'mp', 'old', 'super', 'soft', 'old', 'great', 'worn', 'right',\n",
            " 'tulip', 'top', 'fabric', 'flattering', 'i', 'flowy', 'straight',\n",
            " 'pencil-like', 'okay-', 'super', 'fitted', 'strange', 'top', 'nice', 'good',\n",
            " 'good', 'large', 'top', 'due', 'top', 'bottom', 'full-figured', 'asymmetrical',\n",
            " 'asymmetrical', 'i', 'many', 'i', 'asymmetrical', 'few', 'cute', 'many',\n",
            " 'great', 'few', 'key', 'soft', 'thick', 'small', 'top', 'little', 'great',\n",
            " 'Incorrect', 'sheer', 'white', 'small', 'small', 'sleek', 'real', 'thin',\n",
            " 'casual', 'paid-', 'black', 'one-', 'wet/hot', 'beautiful', 'enormous',\n",
            " 'strange', 'fit', 'same', 'right', 'sturdy', 'oh-so', 'terrible', 'i', 'puffy',\n",
            " 'evident', 'lay', 'flat', 'i', 'aesthetic', 'crazy', 'small', 'small',\n",
            " 'little', 'big', 'huge', 'blousey', 'massive', 'i', 'great', 'due', 'Great',\n",
            " 'such', 'classic', 'crisp', 'wait-', 'full', 'scrub', 'simple', 'first',\n",
            " 'other', 'i', 'roomy', 'small', 'i', 'corporate', 'small', 'normal', 'top',\n",
            " 'much', '38-30-40', 'poor', 'paris', 'big', 'large', 'regular', 'whole',\n",
            " 'a-cup', 'small', 'average', 'only', 'bright', 'brilliant', 'available',\n",
            " 'cute', 'impossible', 'large', 'true', 'quite', 'nice', 'good', 'fabric',\n",
            " 'good', 'nice', 'person-', 'pretty', 'bright', 'i', 'couple', 'identical',\n",
            " 'soft', 'soft', 'loud', 'plain', 'i', 'right', 'own', 'comfortable', 'soft',\n",
            " 'regular', 'usual', 'next', 'tight', 'sticky', 'underneath', 'defective',\n",
            " 'slim', 'cute', 'average', 'bust', 'flattering/does', 'tight', 'i', 'excited',\n",
            " 'hard', 'cute', 'wide', 'wide', 'regular', 'huge', 'unrolled', 'huge', 'great',\n",
            " 'usual', 'large', 'available', 'available', 'petite', 'lucky', 'i', 'usual',\n",
            " 'i', 'usual', 'Beautiful', 'top', 'fluffy', 'unattractive', 'large', 'huge',\n",
            " 'visible', 'mid', 'short', 'other', 'right', 'same', 'few', 'extra', 'right',\n",
            " 'enough', 'bad', 'i', 'cool', 'rea', 'extra', 'full', 'purple', 'soft',\n",
            " 'bright', 'busty', 'frumpy', 'unflattering', 'old', 'much', 'full', 'absurd',\n",
            " 'thin', 'absolute', 'strange', \"'pull-on\", 'true', 'sure', 'stiff', 'good',\n",
            " 'disappointed', 'ok', 'small', 'top', 'big', 'bottom', 'impressed', 'i',\n",
            " 'chic', 'polished', 'large', 'wrinkly', 'petite', 'unavailable', 'i', 'petite',\n",
            " 'i', 'comfortable', 'i', 'disappointed', 'unflattering', 'shapeless', 'big',\n",
            " 'snug', 'top', 'loose', 'i', 'same', 'i', 'top', 'special', 'cute', 'large',\n",
            " 'special', 'black', 'tan', 'loose', 'disappointed', 'top-', 'full', 'able',\n",
            " 'small', 'sad', 'few', 'last', 'similar', 'beautiful', 'small', 'tad',\n",
            " 'extra-depressing', 'first', 'short', 'voluminous', 'long', 'petite', 'nice',\n",
            " 'slim', 'light', 'beautiful', 'cute', 'small', 'itchy', 'fitting', 'flowy',\n",
            " 'flowy', 'flowy', 'great', 'beautiful', 'holiday', 'large', 'cute', 'simple',\n",
            " 'only', 'fine', 'exciting', 'modified', 't-shirt', 'exciting', 'top', 'full',\n",
            " 'warm', 'tight', 'small-chested', 'i', 'much', 'old', 'new', 'i', 'i',\n",
            " 'potato-sack', 'dot', 'cute', 'good', 'big', 'exact', 'good', 'bad', 'i',\n",
            " 'next', 'Disappointing', 'i', 'glad', 'sure', 'i', 'regular', 'disappointed',\n",
            " 'several', 'flattering', 'soft/comfortable', 'much', 'awkward', 'threw',\n",
            " 'poor', 'baggy', 'unflattering', 'thin', 'large', 'whole', 'pear', 'large',\n",
            " 'super', 'appropriate', 'disappointed', 'large', 'jean', 'loose', 'petite',\n",
            " 'top', 'pictured', 'same', 'true', 'worth', 'afraid', 'good', 'great', 'poor',\n",
            " 'true', 'actual', 'small', 'exact', 'same', 'big', 'adjustable', 'overall',\n",
            " 'top', 'super', 'sloppy', 'great', 'right', 'loose', 's', 'good', 'voluminous',\n",
            " 'wide', 'i', 'petite', 'worth', 'nice', 'hippy', 'nice', 'sheer', 'low',\n",
            " 'opaque', 'possible', 'impressed', 'high', 'cute', 'basic', 'much', 'excited',\n",
            " 'different', 'same', 'next', 'beautiful', 'much', 'tall', 'perfect', 'perfect',\n",
            " '..', 'i', 'small', 'regular', 'xs', 'sure', 'confident', 'upper', 'cool',\n",
            " 'thin', 'poor', 'relaxed', 'poor', 'second', 'soft', 'comfortable', 'brief',\n",
            " 'cheap', 'old', 'much', 'disappointed', 'twiggy', 'bad', 'great', 'nice', 'i',\n",
            " 'willing', 'wide', 'large', 'short', 'other', 'cheap', 'small', 'busted',\n",
            " 'positive', 'pre-holiday', 'soft', 'i', 'good', 'sure', 'great', 'ridiculous',\n",
            " 'upper', 'tall', 'bad', 'beautiful', 'high', 'drapery', 'full', 'big', 'i',\n",
            " 'new', 'i', 'realistic', 'white', 'sheer', 'short', 'boxy', 'short-waisted',\n",
            " 'plus', 'soft', 'cute', 'great', 'i', 'large', 'real', 'desired', 'small',\n",
            " 'top', 'small', 'huge', 'i', 'wide', 'little', 'i', 'i', 'unflattering', 'i',\n",
            " 'i', 'fit', 'seam', 'comfortable', 'durable', 'typical', 'small', 'potential',\n",
            " 'i', 'able', 'fit', 'small-breasted', 'ne', 'extra', 'pretty', 'fine',\n",
            " 'shapeless', 'short', 'short', 'first', 'i', 'excited', 'gorgeous', 'pretty',\n",
            " 'disappointed', 'large', 'top', 'top', 'detailed', 'subtle', 'special',\n",
            " 'see-through', 'top', 'heavy', 'small', 'large', 'loose', 'relative', 'ok',\n",
            " 'great', 'rear', 'good', 'Complete', 'poor', 'bias', 'puckery', 'great',\n",
            " 'much', 'great', 'super', 'wide', 'i', 'high', 'different', 'huge', 'big',\n",
            " 'thin', 'nice', 'boring', 'brownish', 'large', 'frustrating', 'fourth',\n",
            " 'enormous', 'whole', 'loose', 'whole', 'new', 'complete', 'ugh', 'Mixed',\n",
            " 'soft', 'feminine', 'great', 'right', 'natural', 'narrow', 'accentuate',\n",
            " 'flattering', 'nice', 'layered', 'faux', 'short', 'great', 'thin', 'pretty',\n",
            " 'cute', 'little', 'unique', 'fast', 'other', 'much', 'small', 'overwhelming',\n",
            " 'big', 'i', 'nice', 'soft', 'light', 'good', 'ran', 'i', 'large', 'heavy',\n",
            " 'unflattering', 'shimmery', 'top', 'beautiful', 'beautiful', 'flow', 'soooo',\n",
            " 'i', 'big', 'small', 'i', 'i', 'large', 'tight', 'sz', 'ok', 'great', 'great',\n",
            " 'little', 'boxy', 'perfect', 'Strange', 'strange', 'long', 'narrow', 'small',\n",
            " 'metallic', 'thin', 'uncomfortable', 'first', 'i', 'regular', 'disappointed',\n",
            " 'wrong', 'weird', 'weird', 'top', 'big', 'i', 'small', 'fine', 'i', 'pretty',\n",
            " 'i', 'white', 'bad', 'cute', 'thin', 'white', 'cream', 'yellow', 'fabric',\n",
            " 'substantive', 'disappointing', 'much', 'ridiculous', 'nudist', 'vey', 'poor',\n",
            " 'big', 'i', 'adorable-', 'poor', 'bad', 'different', 'online', 'gorgeous',\n",
            " 'quilted', 'small', 'go-to', 'small', 'short', 'bottom', 'Weird', 'great',\n",
            " 'tight', 'Cute', 't-shirt', 'great', 'basic', 'i', 'nice', 'heavy', 'light',\n",
            " 'heavy', 'much', 'heavy', 'florida', 'top', 'beautiful', 'nice', 'top',\n",
            " 'whole', 'i', 'ten', 'big', 'Cute', 'cute', 'comfortable', 'appropriate',\n",
            " 'poor', 'cute', 'thick', 'unpleasant', 'hot', 'i', 'ready', 'excited', 'cute',\n",
            " 'disappointed', 'drab', 'smudged', 'attractive', 'many', 'little', 'super',\n",
            " 'heavy', 'super', 'flimsy', 'i', 'nice', 'back', 'lean', 'nice', 'white',\n",
            " 'patterned', 'huge', 'big', 'perfect', 'slimmer', 'sad', 'last', 'cool',\n",
            " 'comfortable', 'raw', 'hung', 'great', 'ok', 'high', 'other', 'much', 'first',\n",
            " 'i', 'waist', 'high', 'i', 'main', 'top', 'synthetic', 'beautiful', 'warm',\n",
            " 'stylish', 'frigid', 'dc', 'small', 'usual', 'front', 'large', 'bulky',\n",
            " 'perfect', 'second', 'long-haul', 'entire', 'upper', 'outer', 'i', 'back-up',\n",
            " 'strong', 'little', 'i', 'poor', 'top', 'poor', 'unflattering', 'bottom',\n",
            " 'great', 'petite', 'large', 'xs', 'Unwearable', 'pretty', 'small', 'other',\n",
            " 'small', 'other', 'tight', 'scratchy', 'rough', 'blue', 'gorgeous',\n",
            " 'patterned', 'Beautiful', 'great', 'excited', 'large', 'fit', 'fine', 'i',\n",
            " 'upset', 'great', 'good', 'strange', 'inner', 'form-fitting', 'massive',\n",
            " 'weird', 'i', 'overall', 'attractive', 'snakeskin', 'different', 'real', 'red',\n",
            " 'blue', 'white', 'plum', 'excited', 'expedited', 'disappointed', 'big', '6-8',\n",
            " 'sure', 'careful', 'pretty', 'well-designed', 'bad', 'small', 'high',\n",
            " 'beautiful', 'great', 'sad', 'wrong', 'such', 'beautiful', 'pretty', 'vivid',\n",
            " 'soft', 'wrong', 'fine', 'smocked', 'upper', 'flattering', 'back', 'upper',\n",
            " 'upper', 'ruffled', 'billowy', 'sad', 'horrible', 'i', 'i', 'good',\n",
            " 'lightweight', 'loose-fitting', 'perfect', 'hot', 'everyday', 'bad', 'small',\n",
            " 'top', 'cute', 'small', 'unusual', 'generous', 'favorite', 'top', 'much',\n",
            " 'extra', 'big', 'black', 'white', 'big', 'boxy', 'sloppy', 'chested',\n",
            " 'beautiful', 'unfortunately', 'high', 'due', 'extra', 'double', 'beautiful',\n",
            " 'poor', 'bright', 'yellow', 'bizarre', 'small', 'sad', 'billowy', 'huge',\n",
            " 'small', 'small', 'i', 'petite', 'curvy', '125-130', 'great', 'low',\n",
            " 'disappointed', 'gorgeous', 'great', 'beautiful', 'cheap', 'beautiful',\n",
            " 'large', 'xxs', 'fine', 'petite', 'i', 'soft', 'blue', 'gorgeous', 'beautiful',\n",
            " 'petite', 'Unhappy', 'white', 'black', 'bad', 'small', 'big', 'small', 'ok',\n",
            " 'enormous', 'sheer', 'i', 'shapeless', 'top', 'wish', 'huge', 'easy/slouchy',\n",
            " 'beautiful', 'high', 'sure', 'little', 'thick', 'beautiful', 'vibrant', 'rich',\n",
            " 'little', 'bubble', 'attractive', 'i', 'sure', 'right', 'unflatering',\n",
            " 'lightweight', 'interesting', 'wrong', 'low', 'i', 'high', 'wide', 'short',\n",
            " 'great', 'mine', 'i', '5-8', 'Beautiful', 'top', 'beautiful', 'extra',\n",
            " 'excess', 'top', 'crazy', 'top', 'great', 'boring', 'lifeless', 'online',\n",
            " 'awful', 'soft', 'much', 'short', 'big', 'fantastic', 'i', 'small', 'nice',\n",
            " 'big', 'super', 'huge', 'Nice', 'petite', 'available', 'poor', 'perfect',\n",
            " 'transitional', 'casual', 'great', 'comfy', 'extra', 'small', 'broad', 'top',\n",
            " 'pretty', 'wide', 'athletic', 'top', 'small', 'perfect', 'shorter', 'athletic',\n",
            " 'broad', 'small', 'enormous', 'short', 'sumo', 'heavy', 'great', 'north',\n",
            " 'bulky', 'pretty', 'short', 'i', 'nice', 'itchy', 'little', 'wrinkled',\n",
            " 'fuzzy', 'perfect', 'navy', 'revealing', 'first', 'bad', 'i', 'i', 'worth',\n",
            " 'sure', 'impeccable', 'last', 'sturdy', 'thin', 'many', 'nice', 'great',\n",
            " 'other', 'curvy', 'slender', 'bulky', 'big', 'i', 'right', 'cute', 'i', 'high',\n",
            " 'leg', 'big', 'stumpified', 'huge', 'fit', 'subpar', 't', 'boxy', 'rich',\n",
            " 'good', 'thick', 'heavy', 'wide', 'short', 'big', 'Snags', 'i', 'disappointed',\n",
            " 'beautiful', 'detailed', 'i', 'disappointed', 'green', 'beautiful', 'soft',\n",
            " 'i', 'other', 'delicate', 'dry-cleaning', 'huge', 'small', 'small', 'tops',\n",
            " 'unusual', 'small', 'big', 'high-waisted', 'dress-', 'spring/summer',\n",
            " 'retailer-heavy', 'surprised', 'thin', 'i', 'disappointing', 'pullover', 'i',\n",
            " 'large', 'next', 'impossible', 'cheap', 'awkward', 'tight', 'sure', 'big',\n",
            " 'structured', 'i', 'extra', 'small', 'big', 'petite', 'top', 'oversized',\n",
            " 'petite', 'top', 'nice', 'i', 'i', 'big', 'beautiful', 'such', 'beautiful',\n",
            " 'normal', 'short', 'cropped', 'short', 'small', 'billowy', 'past', 'i',\n",
            " 'small', 'many', 'maeve', 'past', 'other', 'recent', 'impossible', 'vibrant',\n",
            " 'material', 'great', 'billowy', 'same', 'tight', 'odd', 'structured', 'casual',\n",
            " 'narrow', 'tight', 'normal', 'narrow', 'maeve', 'i', 'structured', 'stiff',\n",
            " 'i', 'perfect', '4-6', 'i', 'great', 'fit', 'little', 'little', 'abdominal',\n",
            " 'big', 'stunning', 'much', 'i', 'muscular', 'thin', 'cheap', 'vibrant',\n",
            " 'similar', 'disappointed', 'top', 'short', 'top', 'tunic', 'frumpy', 'soft',\n",
            " 'like', 'excellent', 'torso', 'big', 'i', 'stiff', 'tall', 'metallic',\n",
            " 'metallic', 'pink', 'pretty', 'metallic', 'metallic', 'wide', 'easy', 'cheap',\n",
            " 'disappointed', 'vibrant', 'green', 'bright', 'green', 'red', 'red', 'warm',\n",
            " 'true', 'beige', 'i', 'blonde', 'fair', 'i', 'sure', 'dressy', 'i', 'front',\n",
            " 'dressy', 'casual', 'dressy', 'hard', 'short-waisted', 'short', 'other',\n",
            " 'maxi', 'strange', 'cute', 'huge', 'xxs', 'wide', 'top', 'right', 'different',\n",
            " 'right', 'wide', 'little', 'cute', 'overall', 'good', 'short', 'cute', 'huge',\n",
            " 'big', 'good', 'odd', 'sheer', 'nice', 'fitted', 'tight', 'much', 'other',\n",
            " 'small', 'usual', 'huge', 'beautiful', 'i', 'nice', 'top', 'i', 'wide',\n",
            " 'petite', 'usual', 'substantial', 'high', 'bad', 'unflattering', 'i',\n",
            " 'awkward', 'unflattering', 'petite', 'low', 'wide', 'shirt', 'thin', 'pajama',\n",
            " 'great', 'weird', 'middle', 'straight', 'unflattering', 'odd', 'warm',\n",
            " 'beautiful', 'fit', 'other', 'tight', 'large', 'i', 'regular', 'enormous',\n",
            " 'excited', 'soft', 'little', 'underwhelmed', 'boxy', 'high', 'top', 'i',\n",
            " 'boxy', 'short', 'low', 'big', 'excellent', 'thick', 'right', 'soft',\n",
            " 'comfortable', 'beautiful', 'other', 'short', 'i', 'few', 'sure', 'same',\n",
            " 'strong', 'casual', 'unstructured', 'soft', 'small', 'usual', 'unflattering',\n",
            " 'ultra', 'soft', 'unstructured', 'oversized', 'i', 'brown', 'long', 'sleeved',\n",
            " 'sleeveless', 'huge', 'black', 'special', 'nice', 'small', 'extra', 'small',\n",
            " 'i', 'small', 'i', 'tight', 'top', 'beautiful', 'right', 'Potential',\n",
            " 'Wonderful', 'subtle', 'nice', 'true', 'small', '2-4p', 'tight', 'upper',\n",
            " 'bad', 'bad', 'i', 'i', 'bad', 'super', 'possible', 'few', 'i', 'small', 'big',\n",
            " 'i', 'small', 'great', 'new', 'cool', 'black', 'true', 'thin', 'great',\n",
            " 'overall', 'high', 'square-ness', 'top', 'i', 'cute', 'easy', 'thin', 'poor',\n",
            " 'small', 'sure', 'top', 'last', 'Good', 'bad', 'nice', 'fabric', 'old', 'boxy',\n",
            " 'adorable', 'boxy', 'great', 'perfect', 'nice', 'cute', 'i', 'i', 'awful',\n",
            " 'thigh', 'unforgiving', 'tolerable', 'long', 'pregnant', 'gorgeous', 'classy',\n",
            " 'true', 'mid-belly', 'twin', 'sad', 'perfect', 'much', 'hot', 'flat',\n",
            " 'wearable', 'warm', 'unflattering', 'little', 'short', 'only', 'nice',\n",
            " 'unflattering', 'huge', 'Terrible', 'sartorial', 'instagram', 'i', 'unlined',\n",
            " 'soooo', 'sloppy', 'wool', 'i', 'gentle/hand-wash', 'cold', 'flat', 'dry-',\n",
            " 'full', 'sad', 'excited', 'big', 'i', 'big', 'oversized', 'sloppy', 'coral',\n",
            " 'few', 'same', 'coral', 'coral', 'other', 'top', 'bottom', 'blue', 'same',\n",
            " 'top', 'cute', 'small', 'cute', 'i', 'i', 'unbuttoning', 'i', 'small', 'i',\n",
            " 'fragile', 'Average', 'top', 'top', 'much', 'in-person', 'top', 'in-person',\n",
            " 'sweatshirt', 'top', 'Stylish', 'small', 'excited', 'top', 'current',\n",
            " 'difficult', 'small', 'small', 'fine', 'straight', 'i', 'similar', 'top',\n",
            " 'loose', 'x-small', 'adorable', 'fit', 'great', 'weird', 'only', 'odd',\n",
            " 'perfect', 'other', 'small', 'true', 'petite', 'acceptable', 'short', 'like',\n",
            " 'petite', 'regular', 'big', 'old', 'right', 'sure', 'petite', 'else',\n",
            " 'different', 'overwhelming', 'look', 'great', 'other', 'unflattering',\n",
            " 'flattering', 'green', 'boring', 'rare', 'standard', 'black', 'overall',\n",
            " 'unimpressed', 'stiff', 'true', 'figure', 'other', 'low', 'i', 'only',\n",
            " 'little', 'rough', 'stiff', 'sensitive', 'velvety', 'soft', 'cute', 'couple',\n",
            " 'wool', 'acrylic', 'unlined', 'high', 'unlined', 'i', 'much', 'dated',\n",
            " 'disappointed', 'red', 'dull', 'other', 'thin', 'large', 'cute', 'large',\n",
            " 'super', 'itchy', 'imo', 'uncomfortable', 'ugh', 'cute', 'back', 'loved',\n",
            " 'couldnt', 'big', 'beautiful', 'stiff', 'vibrant', 'horrible', 'i', 'middle',\n",
            " 'disappointed', 'wide', 'slim', 'big', 'this-', 'nice', 'high', 'certain',\n",
            " 'top', 'black', 'happy', 'underarm', 'open', 'i', 'short', 'nice', 'short',\n",
            " 'disappointed', 'top', 'first', 'gentle', 'several', 'top', 'delicate',\n",
            " 'normal', 'everyday', 'casual', 's', 'casual', 'ratty', 'first', 'adorable',\n",
            " 'second', 'short', 'low', 'snug', 'much', 'local', 'hesitant', 'large',\n",
            " 'large', 'petite', 'small', 'large', 'wide-', 'overall', '..', 'nice',\n",
            " 'second', 'vintage-gone-wrong', 'yellowed', 'cheap', 'great', 'big', 'boxy',\n",
            " 'great', 'soft', 'i', 'new', 'pretty', 'i', 'bad', 'disappointing', 'athletic',\n",
            " 'pictured', 'cute', 'little', 'short', 'snug', 'cute', 'large', 'arm', 'low',\n",
            " 'correct', 'wide', 'awesome', 'boxy', 'happy', 'good', 'green', 'great',\n",
            " 'athletic', 'small', 'fit', 'good', 'i', 'i', 'wanted', 'different', 'many',\n",
            " 'cut', 'good', 'little', 'feminine', 'super', 'soft', 'great', 'top',\n",
            " 'beautiful', 'unraveled', 'large', 'unfortunate', 'flattering', 'sad', 'top',\n",
            " 'hot', 'potato-sack-frump', 'beautiful', 'bulky', 'tailored', 'bulky',\n",
            " 'previous', 'overall', 'nice', 'elastic', 'cheap', 'Huge', 'overall', 'great',\n",
            " 'super-cute', 'little', 'normal', 'low', 'i', 'cute', 'i', 'top', 'small',\n",
            " 'huge', 'top', 'sure', 'big', 'sloppy', 'overpriced', 'underwhelmed', 'tie',\n",
            " 'boring', 'flimsy', 'pregnant', 'fine', 'pregnant', 'big', 'boxy', 'good',\n",
            " 'big', 'possible', 'small', 'i', 'top', 'crazy', 'cross-over', 'flat', 'open',\n",
            " 'strange', 'good', 'i', 'busty', 'small', 'tugged', 'able', 'i', 'glad',\n",
            " 'small', 'large', 'i', 'neckline', 'visible', 'gorgeous', 'soft', 'poor',\n",
            " 'thin', 'tight', 'big', 'high', 'top', 'big', 'much', 'i', 'middle', 'thin',\n",
            " 'hang', 'high', 'same', 'same', 'much', 'thin', 'great', 'perfect', 'i',\n",
            " 'flat', 'large', 'bad', 'bad', 'thin', 'filmy', 'tight', 'loose',\n",
            " 'unfortunate', 'upper', 'enormous', 'delicate', 'soft', 'comfortable', 'other',\n",
            " 'detailed', 'tiny', 'plain', 'sharp', 'pointy', 'likely', 'beautiful', 'other',\n",
            " 'small', 'big', 'good', 'entire', 'i', 'xsp', 'visible', 'blue', 'lbs',\n",
            " 'average', 'select', 'large', 'small', 'heavy', 'small', 'huge', 'i', 'chesty',\n",
            " 'faux', 'vibrant', 'red', 'busty', 'short', 'top', 'good', 'Coral', 'top',\n",
            " 'thick', 'large', 'b', 'middle', 'coral', 'giant', 'likely', 'flattering',\n",
            " 'large', 'big', 'disappointed', 'heavy', 'itchy', 'polyester-like', 'thin',\n",
            " 'deep', 'black', 'short', 'beautiful', 'fitting', 'awkward', 'upper', 'normal',\n",
            " 'unable', 'cute', 'Simple', 'comfortable', 'tunic', 'ample', 'rear',\n",
            " 'lightweight', 'thin', 'top', 'underneath.the', 'marled', 'ivory', 'special',\n",
            " 'casual', 'quick', 'much', 'different', 'thin', 'ribbed', 'little', 'big',\n",
            " 'big', 'big', 'high', 'short', 'sequined', 'back', 'overall', 'sexy', 'bad',\n",
            " 'bad', 'bad', 'Sack-ish', 'much', 'large', 'previous', 'top', 'amazing',\n",
            " 'overall', 'good', 'top', 't-shirt', 'High', 'big', 'high', 'black', 'white',\n",
            " 'overall', 'tall', 'small', 'unfortunately', 'Weird', 'fresh', 'model-sized',\n",
            " 'short', 'wide', 'back', 'good', 'bad', 'other', 'excited', 'old', 'old',\n",
            " 'soft', 'raggy', 'bad', 'bad', 'super', 'such', 'great', 'shapeless', 'tent',\n",
            " 'many', 'high', 'i', 'ok', 'good', 'i', 'super', 'short', 'particular', 'high',\n",
            " 'i', 'wearin', 'strange', 'good', 'similar', 'black', 'i', 'same', 'pale',\n",
            " 'tacky', 'white', 'beige', 'tops', 'very', 'r', 'low', 'Total', 'previous',\n",
            " 'beautiful', 'i', 'huge', 'great', 'narrow', 'narrow', 'top', 'painful',\n",
            " 'pretty', 'narrow', 'i', 'tall', 'i', 'skinny', 'true', 'several', 'i', 'back',\n",
            " 'long', 'low', 'i', 'little', 'coh', 'nice', 'red', 'soft', 'true', 'loose',\n",
            " 'complimentary', 'uncomfortable', 'large', 'blue', 'cozy', 'organic',\n",
            " 'sophisticated-looking', 'comfortable', 'small', 'i', 'much', 'comfortable',\n",
            " 'i', 'excited', 'obvious', 'cheap', 'sad', 'high', 'top', 'big', 'much',\n",
            " 'little', 'white', 'convinced', 'white', 'sweet', 'little', 'favorite',\n",
            " 'black', 'puppy', 'gorgeous', 'prepared', 'soft', 'top', 'corset-style',\n",
            " 'stiff', 'usual', 'heavy', 'odd', 'favorite', 'different', 'free', 'late',\n",
            " 'huge', 'nice', 'gauzy', 'alright', 'special', 'little', 'classic', 'pilcro',\n",
            " 'due', 'past', 'great', 'hopeful', 'original', 'stet', 'formula-', 'right',\n",
            " 'right', 'i', 'thin', 'top', 'early', 'worn', 'small', 'super', 'normal',\n",
            " 'tight', 'strange', 'Beautiful', 'several', 'true', 'xs', 'loose', 'impressed',\n",
            " 'seem', 'weird', 'such', 'fine', 'striped', 'comfortable', 'due', 'stretchy',\n",
            " 'strange', 'beautiful', 'boxy', 'collar', 'i', 'many', 'double', 'first', 'i',\n",
            " 'i', 'beautiful', 'unflattering', 'frayed', 'back', 'huge', 'double', 'many',\n",
            " 'Schoolboy', 'skeptical', 'right', 'prep', 'boxy', 'good', 'much', 'good',\n",
            " 'awkward', 'saggy', 'fitted', 'much', 'extra', 'tts', 'cheap', 'usual',\n",
            " 'tight', 'uncomfortable', 'nice', 'cheap', 'cheap', 'Terrible', 'horrible',\n",
            " 'small', 'other', 'great', 'first', 'few', 'terrible', 'several', 'worth',\n",
            " 'different', 'other', 'printed', 'u', 'first', 'few', 'tight', 'top', 'short',\n",
            " 'i', 'long', 'lean', 'usual', 'small', 'top', 'cute', 'forever', 'young',\n",
            " 'beautiful', 'other', 'awful', 'entire', 'stiff', 'raglan', 'beautiful',\n",
            " 'distinctive', 'important', 'Adorable', 'Adorable', 'huge', 'i', 'top', 'full',\n",
            " 'sad', 'adorable', 'sure', 'it~', 'beautiful', 'soft', 'fine', 'thin',\n",
            " 'elastic', 'short', 'thin', 'poofy', 'happy', 'cute', 'large', 'ridiculous',\n",
            " 'super', 'wide', 'cute', 'expensive', 'ill-fitting', 'single', 'large', 'free',\n",
            " 'large', 'large', 'little', 'large', 'plaid', 'good', 'great', 'much',\n",
            " 'fabric', 'cheap', 'local', 'blue', 'much', 'super', 'poor', 'long', 'loose',\n",
            " 'overall', 'fit', 'great', 'tight', 'bad', 'overall', 'good', 'white', 'white',\n",
            " 'top', 'detailed', 'lovely', 'stretchy-ness', 'top', 'beautiful',\n",
            " 'ill-fitting', 'full-figured', 'top', 'rigid', 'uncomfortable', 'baggy',\n",
            " 'boxy', 'cute', 'poor', 'poor', 'excited', 'sad', 'such', 'unflattering', 'i',\n",
            " 'high', 'narrow', 'poor', 'top', 'i', 'top', 'adorable', 'acrylic', 'first',\n",
            " 'horrible', 'disappointed', 'true', 'Sad', 'true', 'old', 'cheap',\n",
            " 'unflattering', 'gorgeous', 'unflattering', 'large', 'unflattering', 'bulky',\n",
            " 'fabulous', 'soft', 'warm', 'flattering', 'same', 'broad', 'bulky',\n",
            " 'overwhelming', 'worth', 'Awful', 'top', 'terrible', 'bust', 'tight', 'top',\n",
            " 'flowy', 'large', 'due', 'small', 'resent', 'misshapen', 'large', 'nice',\n",
            " 'first', 'huge', '4-6', 'sizes', 'short', 'top', 'great', 'open', 'wide',\n",
            " 'nice', 'stretchy', 'short', 'disappointing', 'excited', 'disappointed',\n",
            " 'stiff', 'thin', 'fabric', 'white', 'short', 'small', 'pj', 'rough', 'fitted',\n",
            " 'local', 'first', 'correct', 'colored', 'top', 'i', 'Enormous', 'large',\n",
            " 'weigh', 'new', 'velvet', 'soft', 'well-fitting', 'pretty', 'satisfactory',\n",
            " 'new', 'stiff', 'full', 'stiff', 'bad', 'disappointing', 'big', 'flattering',\n",
            " 'pretty', 'beautiful', 'scratchy', 'stiff', 'nice', 'easy', 'loose', 'flowy',\n",
            " 'tad', 'large', 'stiff', 'itchy', 'uncomfortable', 'loose', 'nice',\n",
            " 'stiff/itchy', 'mixed', 'cumbersome', 'go-to', 'much', 'skeptical',\n",
            " '___________', 'online', 'same', 'jeweled', 'sophisticated', 'small', 'normal',\n",
            " 'beautiful', 'tight', 'strange', 'odd', 'bummed', 'beautiful', 'super',\n",
            " 'elastic/ruffle', 'nice', 'top', 'beautiful', 'soft', 'wonderful',\n",
            " 'long-sleeved', 'low', 'only', 'wearable', 'busty', 'usual', 'small',\n",
            " 'negative', 'bright', 'i', 'cheap', 'ill', 'aqua', 'disappointed', 'light',\n",
            " 'soooo', 'wide', 'continuous', 'much', 'thin', 'thin', 'cozy', 'normal',\n",
            " 'light', 'special', 'great', 'alternative', 'black', 'nice', 'thin', 'i',\n",
            " 'extra', 'black', 'first', 'disappointing', 'i', 'loose', 'swishy', 'large',\n",
            " 'high', 'good', '3-4', 'nice', 'small', 'thin', 'cute', 'thin', 'i', 'willing',\n",
            " 'open', 'first', 'first', 'confident', 'first', 'thin', 'faded', 'true',\n",
            " 'soft', 'open', 'thin', 'clingy', 'overall', 'thin', 'true', 'much', 'i',\n",
            " 'first', 'large', 'flowy', 'little', 'unflattering', 'available', 'interested',\n",
            " 'Beautiful', 'romantic', 'gown', 'thin', 'wrinkled', 'uncomfortable', 'i',\n",
            " 'much', 'horizontal', 'usual', 'petite', 'available', 'good', 'wide', 'wide',\n",
            " 'bulky', 'i', 'tight', 'curvy', 'much', 'i', 'fit', 'little', 'deep', 'such',\n",
            " 'awful', 'neutral', 'unflattering', 'pronounced', 'high', 'square',\n",
            " 'shapeless', 'i', 'boxy', 'different', 'overall', 'i', 'much', 'traditional',\n",
            " 'red', 'cute', 'a-line', 'regular', 'good', 'a-line', 'excited', 'i', 'large',\n",
            " 'cute', 'disappointed', 'large', 'see-through', 'small', 'x-small', 'black',\n",
            " 'see-through', 'see-through', 'extra', 'short', 'x-small', 'short', 'dull',\n",
            " 'bright', 'white', 'white', 'true', 'comfortable', 'good', 'white',\n",
            " 'pre-washed', 'navy', 'fresh', 'crisp', 'white', 'basic', 'black', 'overall',\n",
            " 'white', 'overall', 'worth', 'ful', 'bulky', 'unique', 'dressy', 'bulky',\n",
            " 'little', 'ruffled', 'top', 'wrong', 'elegant', 'pretty', 'short', 'short',\n",
            " 'many', 'short', 'high', 'whole', 'little', 'big', 'top', 'large', 'nice',\n",
            " 'super', 'petite', 'big', 'loose', 'loose', 'big', 'loose', 'green', 'green',\n",
            " 'lovely', 'soft', 'nice', 'deep', 'trendy', 'great', 'nice', 'big', 'wiry',\n",
            " 'suitable', 'hard', 'Strange', 'armhole', 'great', 'weird', 'first', 'low',\n",
            " 'unnecessary', 'tunic', 'Beautiful', 'happy', 'significant', 'much', 'top',\n",
            " 'nice', 'loose', 'thin', 'i', 'high', 'skin', 'cute', 'Beautiful', 'dark',\n",
            " 'excited', 'little', 'disappointed', 'i', 'beautiful', 'simple', 'regular',\n",
            " 'definite', 'fabiric', 'flattering', 'regular', 'great', 'top', 'excited',\n",
            " 'small/tight', 'i', 'fit', 'fine', 'disappointed', 'sheer', 'Beautiful', 'odd',\n",
            " 'other', 'beautiful', 'tight', 'small', 'uncomfortable', 'i', 'big', 'unusual',\n",
            " 'pear-shaped', 'much', 'top', 'small', 'pear', 'top', 'loose', 'bottom',\n",
            " 'much', 'i', 'Uncomfortable', 'top', 'uncomfortable', 'white', 'other',\n",
            " 'minorly', 'muted', 'bad', 'overly-fuzzy', 'super', 'bright', 'kitschy',\n",
            " 'true', 'much', 'i', 'other', 'tacky', 'gawdy', 'weird', 'fabric', 'cheap',\n",
            " 'beautiful', 'baggy', 'loose', 'green', 'short', 'odd', 'shapeless', 'billowy',\n",
            " 'wide', 'appear', 'nightgown', 'cute', 'much', 'top', 'such', 'top', 'droopy',\n",
            " 'usual', 'large', 'wide', 'wide', 'unflattering', 'athletic', 'small', 'much',\n",
            " 'warm', 'much', 'Adorable', 'poor', 'much', 'i', 'top', 'little', 'extra',\n",
            " 'armpit', 'much', 'intended', 'cute', 'omg', 'huge', 'tent', 'huge',\n",
            " 'original', 'original', 'acrylic', 'same', 'original', 'high', 'synthetic',\n",
            " 'bad', 'past', 'different', 'dark', 'dark', 'top', 'large', 'wide', 'i',\n",
            " 'regular', 'large', 'little', 'bronze', 'excited', 'normal', 'cheap', 'i', 'i',\n",
            " 'narrow', 'able', 'able', 'important', 'Dry', 'adorable', 'dry-cleaned',\n",
            " 'deal', 'Enormous', 'boxy', 'huge', 'top', 'large', 'top', 'large', 'white',\n",
            " 'huge', 'wool-feeling', 'lightweight', 'right', 'strange', 'miss', 'open',\n",
            " 'short', 'dark', 'i', 'faux', 'material', 'full', 'much', 'top', 'much',\n",
            " 'swingy', 'small', 'big', 'frumpy', 'big', 'huge', 'good', 'bulky', 'nice',\n",
            " 'large', 'different', 'pretty', 'gigantic', 'large', 'boxy', 'disappointing',\n",
            " 'flattering', \"'bubble\", 'narrow', 'little', 'perfect', 'comfortable', 'good',\n",
            " 'unflattering', 'great', 'unflattering', 'fantastic', 'thigh', 'clean',\n",
            " 'audrey', 'hepburn', 're-imagined', 'clean', 'non-bulky', 'great', 'creepy',\n",
            " 'long', 'top', 'petite', 'i', 'long', 'little', 'long', 'top', 'right',\n",
            " 'pregnant', 'potential', 'maybe', 'different', 'i', 'long', 'unflattering',\n",
            " 'avoid', 'huge', 'loose', 'aka', 'other', 'pretty', 'short', 'nice', 'i',\n",
            " 'little', 'short', 'regular', 'xs', 'top', 'la', 'short', 'short', 'xs',\n",
            " 'little', 'loose', 'os', 'hte', 'beter', 'wil', 'great', 'i', 'disappointed',\n",
            " 'flat', 'nice', 'strange', 'strange', 'funny', 'top', 'funny', 'sure',\n",
            " 'beautiful', 'top', 'maxi', 'much', 'i', 'type', 'i', 'lean', 'nice', 'maeve',\n",
            " 'great', 'beautiful', 'fabric', 'hot', 'fabric', 'flow-y', 'huge', 'enormous',\n",
            " 'usual', 'small', 'small', 'few', 'large', 'loose', 'loose', 'fitting',\n",
            " 'short', 'tall', 'Awful', 'positive', 'bottom', 'c', 'top', 'unflattering',\n",
            " 'top', 'disappointed', 'wide', 'excited', 'topped', 'huge', 'beautiful',\n",
            " 'disappointed', '..', 'such', 'high', 'large', 'i', 'i', 'off-', 'dark',\n",
            " 'gray', 'button-fly', 'beautiful', 'impossible', 'Gorgeous', 'low', 'back',\n",
            " 'beautiful', 'small', 'relaxed', 'cute', 'i', 'massive', 'much', 'nice',\n",
            " 'great', 'normal', 'other', 'thin', 'perfect', 'underneath-', 'fat', 'black',\n",
            " 'black', 'disappointed', 'excited', 'na', 'upcoming', 'disappointed',\n",
            " 'christmas', 'red', 'white', 'pregnant', 'layer', 'boxy', 'ill-fitting',\n",
            " 'soft', 'warm', 'heavy', 'extra', 'long', 'enough', 'small', 'large', 'boxy',\n",
            " 'atrocious', 'bust', 'small', 'excited', 'usual', 'busty', 'tricky', 'tight',\n",
            " 'Weird', 'beautiful', 'i', 'tight', 'back', 'lose', 'tight', 'lose', 'i',\n",
            " 'tight', 'small', 'large', 'stiff', 'Beautiful', 'beautiful', 'wish', 'fit',\n",
            " 'beautiful', 'few', 'large', 'dressy', 'actual', 'flat', 'casual', 'dressy',\n",
            " 'pictured', 'shapeless', 'i', 'small', 'small', 'i', 'pretty', 'comfy/cute',\n",
            " 'muscular', 'comfortable', 'little', 'low', 'correct', 'Terrible', 'great',\n",
            " 'likes', 'different', 'great', 'awful', 'favorite', 'drab', 'old', 'worn',\n",
            " 'overall', 'wrinkly', 'old', 'shabby', 'short', 'box', 'boxy', 'top',\n",
            " 'ridiculous', 'i', 'small-busted', 'thinnish', 'top', 'big', 'unflattering',\n",
            " 'hard', 'true-to-size', 'wide', 'i', 'substantial', 'upper', 'i.e.', 'frumpy',\n",
            " 'boxy', 'bottom', 'large', 'sure', 'flat', '....', 'cute', 'right', 'mine',\n",
            " 'i', 'good', 'i', 'flowy', 'stylish', 'big', 'good', 'much', 'good', 'small',\n",
            " 'chested', 'tall', 'disappointed', 'top', 'short', 'bad', 'cute', 'gorgeous',\n",
            " 'ridiculous', 'busty', 'camisole', 'much', 'extra', 'short', 'unflattering',\n",
            " 'top', 'other', 'usual', 'unflattering', 'short', 'wide', 'needless', 'Soft',\n",
            " 'soft', 'much', 'faded', 'cute', 'black', 'top', 'short', 'big', 'perfect',\n",
            " 'other', 'expensive', 'thin', 'cheap', 'thin', 'synthetic', 'hard', 'else',\n",
            " 'previous', 'extra', 'cute', 'disappointing', 'sack-like', 'sure', 'extra',\n",
            " 'beautiful', 'awful', 'swingy', 'i', 'little', 'big', 'small', 'olive',\n",
            " 'asymmetrical', 'small', 'i', 'safe', 'short-waisted', 'i', 'short-waisted',\n",
            " 'uneven', 'large', 'i', 'full', 'comfortable', 'perfect', 'i', 'unhappy',\n",
            " 'such', 'poor', 'thick', 'thin', 'bad', 'large', 'hard', 'beautiful', 'i',\n",
            " 'much', 'top', 'beautiful', 'excited', 'beautiful', 'beautiful', 'potential',\n",
            " 'gorgeous', 'thin', 'many', 'serious', 'trimming', 'fit', 'i', 'cute', 'nice',\n",
            " 'small', 'tight', 'normal', 'faux', 'heavy', 'heavy', 'awkward', 'high', 'i',\n",
            " 'invisible', 'non-petite', 'beautifu', 'disappointed', 'large', 'big', 'loose',\n",
            " 'boxy', 'maxi', 'good', 'hourglass', 'right', 'many', 'other', 'small',\n",
            " 'great', 'laid-back', 'new', '12-14', 'fit', 'breakthable', 'next', 'top',\n",
            " 'floral', 'busty', 'favorite', 'top', 'small', 'true', 'potential',\n",
            " 'comfortable', 'easy', 'small', 'small', 'large', 'i', 's', 'tight', 'i',\n",
            " 'big', 'Big', 'different', 'well-defined', 'small', 'top', 'narrow',\n",
            " 'ill-fitting', 'entire', 'unattractive', 'ideal', 'pinkish', 'little', 'thin',\n",
            " 'tad', 'large', 'nice', 'Beautiful', 'heavy', 'long', 'great', 'good', 'tight',\n",
            " 'i', 'small', 'much', 'little', 'i', 'good', 'little', 'cute', 'easy',\n",
            " 'enough', 'good', 'thin', 'see-through', 'bathing', 'strapless', 'unwearable',\n",
            " 'social', 'such', 'like', 'cute', 'weird', 'huge', 'i', 'strange', 'sad',\n",
            " 'modern', 'disappointed', 'usual', 'oversized', 'large', 'large', 'other',\n",
            " 'nice', 'nice', 'right', 'purplish', 'unique', 'thin', 'i', 'thin', 'side',\n",
            " 'huge', 'wine', 'side', 'flimsy', 'wrong', 'top', 'great', 'beautiful',\n",
            " 'bright', 'i', 'ordered', 'much', 'thick', 'large', 'tiny', 'beautiful',\n",
            " 'much', 'fit', 'gorgeous', 'fitted', 'long', 'i', 'fine', 'unique', 'gorgeous',\n",
            " 'small', 'xs', 'fit', 'upset', 'huge', 'only', 'able', 'last', 'great', 'odd',\n",
            " 'beautiful', 'chest', 'odd', 'strange', 'middle', 'thin', 'nice', 'c', 'long',\n",
            " 'disappointed', 'top', 'cute', 'awful', 'drab', 'actual', 'fabulous',\n",
            " '.......', 'large', 'perfect', 'top', 'tight', 'perfect', 'huge', 'high',\n",
            " 'cheap', 'petite', 'top', 'beautiful', 'top', 'awkward', 'tight', 'funny',\n",
            " 'narrow', 'strapless', 'overall', 'gorgeous', 'i', 'frumpy', 'bad', 'small',\n",
            " 'i', 'past', 'xl-', 'boxy', 'light', 'good', 'boxy', 'flowy-ish', 'outside',\n",
            " 'middle', 'cheap', 'odd', 'right', 'advertised', 'fine', 'cotton-rayon', 'i',\n",
            " 'nice', 'ok', 'large', 'huge', 'great', 'inner', 'thread', 'great', 'cheap',\n",
            " 'short', 'first', 'pilcro', 'short', 'little', 'excited', 'local', 'high', 'i',\n",
            " 'disappointed', 'fit', 'great', 'low', 'pilcro', 'first', 'i', 'much', 'wash.',\n",
            " 'main', 'stretch-related', 'first', 'inner', 'thigh', 'inner', 'touch',\n",
            " 'other', 'i', 'black', 'great', 'fabric', 'terrible', 'perfect', 'fabric',\n",
            " 'terrible', 'shiny', 'cheap', 'super', 'small', 'small', 'small', 'insulting',\n",
            " 'gorgeous', 'sad', 'perfect', 'cool', 'bulge', 'i', 'petite', 'small', 'i',\n",
            " 'right', 'tight', 'bottom', 'top', 'little', 'i', 'little', 'nice', 'white',\n",
            " 'large', 'normal', 'beautiful', 'down', 'i', 'stuffed', 'many', 'tiny',\n",
            " 'small', 'short', '..', 'short', 'green', 'beautiful', 'short', 'comfortable',\n",
            " 'see', 'elastic', 'tight', 'elastic', 'right', 'small', 'perfect', 'super',\n",
            " 'low', 'u', 'loose', 'easy', 'i', 'i', 'baggy', 'usual', 'wide', 'thin',\n",
            " 'elastic', 'rigid', 'cheap', 'good', 'top-but', 'top', 'light', 'disappointed',\n",
            " 'i', 'pj', 'thin', 'thin', 'dumpy', 'nice', 'essential', 'beautiful', 'i',\n",
            " 'good']\n"
          ]
        }
      ],
      "source": [
        "# generate list of adjectives from negative reviews from our balanced_reviews DF\n",
        "\n",
        "negative_adjectives = []\n",
        "for review in balanced_reviews[balanced_reviews['Sentiment'] == 'Negative']['Full Text']:\n",
        "    for word, pos in nltk.pos_tag(nltk.word_tokenize(review)):\n",
        "        if pos == 'JJ':\n",
        "            negative_adjectives.append(word)\n",
        "\n",
        "pprint(negative_adjectives, compact=True)"
      ]
    },
    {
      "cell_type": "code",
      "execution_count": 9,
      "metadata": {
        "id": "569N-4R24Akk"
      },
      "outputs": [
        {
          "name": "stdout",
          "output_type": "stream",
          "text": [
            "3889\n",
            "3557\n"
          ]
        }
      ],
      "source": [
        "print(len(positive_adjectives))\n",
        "print(len(negative_adjectives))"
      ]
    },
    {
      "cell_type": "markdown",
      "metadata": {
        "id": "wQa9pesNkF_z"
      },
      "source": [
        "### 5. What are the 20 most common words in our positive reviews vs negative reviews after removing all the stopwords & punctuation? (1 points)"
      ]
    },
    {
      "cell_type": "code",
      "execution_count": 10,
      "metadata": {
        "id": "2xLUszKkvvs-"
      },
      "outputs": [
        {
          "name": "stdout",
          "output_type": "stream",
          "text": [
            "[('i', 291), ('great', 150), ('small', 114), ('perfect', 90), ('top', 86), ('little', 84), ('comfortable', 83), ('soft', 79), ('nice', 78), ('beautiful', 71), ('large', 70), ('casual', 49), ('cute', 48), ('black', 43), ('much', 40), ('good', 38), ('other', 38), ('short', 37), ('many', 36), ('big', 36)]\n"
          ]
        }
      ],
      "source": [
        "# print 20 most common words from just the positive reviews from our balanced_reviews DF\n",
        "\n",
        "from nltk.probability import FreqDist\n",
        "\n",
        "fdist_positive = FreqDist(positive_adjectives)\n",
        "print(fdist_positive.most_common(20))\n",
        "\n"
      ]
    },
    {
      "cell_type": "code",
      "execution_count": 11,
      "metadata": {
        "id": "sAJyl7EM1Och"
      },
      "outputs": [
        {
          "name": "stdout",
          "output_type": "stream",
          "text": [
            "[('i', 235), ('top', 123), ('small', 121), ('large', 84), ('great', 77), ('beautiful', 71), ('big', 68), ('nice', 61), ('short', 59), ('much', 58), ('cute', 54), ('thin', 50), ('good', 49), ('little', 47), ('huge', 42), ('other', 39), ('soft', 37), ('disappointed', 37), ('bad', 36), ('tight', 35)]\n"
          ]
        }
      ],
      "source": [
        "# print 20 most common words from just the negative reviews from our balanced_reviews DF\n",
        "\n",
        "fdist_negative = FreqDist(negative_adjectives)\n",
        "print(fdist_negative.most_common(20))\n"
      ]
    },
    {
      "cell_type": "markdown",
      "metadata": {
        "id": "aOOAj6xHGYAh"
      },
      "source": [
        "## Train model and evaluate"
      ]
    },
    {
      "cell_type": "markdown",
      "metadata": {
        "id": "0pkmYTBk4EUL"
      },
      "source": [
        "### 6. Split our dataset into training and testing datasets, then use word counts as features to train a Logistic Regression model (1 points)"
      ]
    },
    {
      "cell_type": "code",
      "execution_count": 12,
      "metadata": {
        "id": "tlocH8FaQp1E"
      },
      "outputs": [
        {
          "name": "stdout",
          "output_type": "stream",
          "text": [
            "(800, 4)\n",
            "(200, 4)\n"
          ]
        }
      ],
      "source": [
        "# split data into test and train datasets\n",
        "from sklearn.model_selection import train_test_split\n",
        "\n",
        "train_data, test_data = train_test_split(balanced_reviews, train_size=0.8, random_state=0)\n",
        "\n",
        "print(train_data.shape)\n",
        "print(test_data.shape)"
      ]
    },
    {
      "cell_type": "code",
      "execution_count": 13,
      "metadata": {
        "id": "H58BROsbDkvi"
      },
      "outputs": [],
      "source": [
        "# generate counts\n",
        "from sklearn.feature_extraction.text import CountVectorizer\n",
        "\n",
        "count_vectorizer = CountVectorizer()\n",
        "x_train = count_vectorizer.fit_transform(train_data['Full Text'])\n",
        "y_train = train_data['Sentiment']\n",
        "\n"
      ]
    },
    {
      "cell_type": "code",
      "execution_count": 14,
      "metadata": {
        "id": "4y03GhieD2gu"
      },
      "outputs": [
        {
          "data": {
            "text/html": [
              "<style>#sk-container-id-1 {color: black;background-color: white;}#sk-container-id-1 pre{padding: 0;}#sk-container-id-1 div.sk-toggleable {background-color: white;}#sk-container-id-1 label.sk-toggleable__label {cursor: pointer;display: block;width: 100%;margin-bottom: 0;padding: 0.3em;box-sizing: border-box;text-align: center;}#sk-container-id-1 label.sk-toggleable__label-arrow:before {content: \"▸\";float: left;margin-right: 0.25em;color: #696969;}#sk-container-id-1 label.sk-toggleable__label-arrow:hover:before {color: black;}#sk-container-id-1 div.sk-estimator:hover label.sk-toggleable__label-arrow:before {color: black;}#sk-container-id-1 div.sk-toggleable__content {max-height: 0;max-width: 0;overflow: hidden;text-align: left;background-color: #f0f8ff;}#sk-container-id-1 div.sk-toggleable__content pre {margin: 0.2em;color: black;border-radius: 0.25em;background-color: #f0f8ff;}#sk-container-id-1 input.sk-toggleable__control:checked~div.sk-toggleable__content {max-height: 200px;max-width: 100%;overflow: auto;}#sk-container-id-1 input.sk-toggleable__control:checked~label.sk-toggleable__label-arrow:before {content: \"▾\";}#sk-container-id-1 div.sk-estimator input.sk-toggleable__control:checked~label.sk-toggleable__label {background-color: #d4ebff;}#sk-container-id-1 div.sk-label input.sk-toggleable__control:checked~label.sk-toggleable__label {background-color: #d4ebff;}#sk-container-id-1 input.sk-hidden--visually {border: 0;clip: rect(1px 1px 1px 1px);clip: rect(1px, 1px, 1px, 1px);height: 1px;margin: -1px;overflow: hidden;padding: 0;position: absolute;width: 1px;}#sk-container-id-1 div.sk-estimator {font-family: monospace;background-color: #f0f8ff;border: 1px dotted black;border-radius: 0.25em;box-sizing: border-box;margin-bottom: 0.5em;}#sk-container-id-1 div.sk-estimator:hover {background-color: #d4ebff;}#sk-container-id-1 div.sk-parallel-item::after {content: \"\";width: 100%;border-bottom: 1px solid gray;flex-grow: 1;}#sk-container-id-1 div.sk-label:hover label.sk-toggleable__label {background-color: #d4ebff;}#sk-container-id-1 div.sk-serial::before {content: \"\";position: absolute;border-left: 1px solid gray;box-sizing: border-box;top: 0;bottom: 0;left: 50%;z-index: 0;}#sk-container-id-1 div.sk-serial {display: flex;flex-direction: column;align-items: center;background-color: white;padding-right: 0.2em;padding-left: 0.2em;position: relative;}#sk-container-id-1 div.sk-item {position: relative;z-index: 1;}#sk-container-id-1 div.sk-parallel {display: flex;align-items: stretch;justify-content: center;background-color: white;position: relative;}#sk-container-id-1 div.sk-item::before, #sk-container-id-1 div.sk-parallel-item::before {content: \"\";position: absolute;border-left: 1px solid gray;box-sizing: border-box;top: 0;bottom: 0;left: 50%;z-index: -1;}#sk-container-id-1 div.sk-parallel-item {display: flex;flex-direction: column;z-index: 1;position: relative;background-color: white;}#sk-container-id-1 div.sk-parallel-item:first-child::after {align-self: flex-end;width: 50%;}#sk-container-id-1 div.sk-parallel-item:last-child::after {align-self: flex-start;width: 50%;}#sk-container-id-1 div.sk-parallel-item:only-child::after {width: 0;}#sk-container-id-1 div.sk-dashed-wrapped {border: 1px dashed gray;margin: 0 0.4em 0.5em 0.4em;box-sizing: border-box;padding-bottom: 0.4em;background-color: white;}#sk-container-id-1 div.sk-label label {font-family: monospace;font-weight: bold;display: inline-block;line-height: 1.2em;}#sk-container-id-1 div.sk-label-container {text-align: center;}#sk-container-id-1 div.sk-container {/* jupyter's `normalize.less` sets `[hidden] { display: none; }` but bootstrap.min.css set `[hidden] { display: none !important; }` so we also need the `!important` here to be able to override the default hidden behavior on the sphinx rendered scikit-learn.org. See: https://github.com/scikit-learn/scikit-learn/issues/21755 */display: inline-block !important;position: relative;}#sk-container-id-1 div.sk-text-repr-fallback {display: none;}</style><div id=\"sk-container-id-1\" class=\"sk-top-container\"><div class=\"sk-text-repr-fallback\"><pre>LogisticRegression(C=10, max_iter=1000, solver=&#x27;newton-cg&#x27;)</pre><b>In a Jupyter environment, please rerun this cell to show the HTML representation or trust the notebook. <br />On GitHub, the HTML representation is unable to render, please try loading this page with nbviewer.org.</b></div><div class=\"sk-container\" hidden><div class=\"sk-item\"><div class=\"sk-estimator sk-toggleable\"><input class=\"sk-toggleable__control sk-hidden--visually\" id=\"sk-estimator-id-1\" type=\"checkbox\" checked><label for=\"sk-estimator-id-1\" class=\"sk-toggleable__label sk-toggleable__label-arrow\">LogisticRegression</label><div class=\"sk-toggleable__content\"><pre>LogisticRegression(C=10, max_iter=1000, solver=&#x27;newton-cg&#x27;)</pre></div></div></div></div></div>"
            ],
            "text/plain": [
              "LogisticRegression(C=10, max_iter=1000, solver='newton-cg')"
            ]
          },
          "execution_count": 14,
          "metadata": {},
          "output_type": "execute_result"
        }
      ],
      "source": [
        "# train the logistic regression model\n",
        "from sklearn.linear_model import LogisticRegression\n",
        "\n",
        "lr = LogisticRegression(max_iter=1000, C=10, penalty='l2', solver='newton-cg')\n",
        "lr.fit(x_train,y_train)\n"
      ]
    },
    {
      "cell_type": "markdown",
      "metadata": {
        "id": "T3m8lyV4D-l8"
      },
      "source": [
        "### 7. Check model performance using the testing/validation dataset (1 point)"
      ]
    },
    {
      "cell_type": "code",
      "execution_count": 15,
      "metadata": {
        "id": "_NiQJc56EGgk"
      },
      "outputs": [
        {
          "name": "stdout",
          "output_type": "stream",
          "text": [
            "(200,)\n"
          ]
        }
      ],
      "source": [
        "# predict sentiment on the testing dataset\n",
        "from datetime import datetime\n",
        "\n",
        "start = datetime.now()\n",
        "lr_pred_class = lr.predict(count_vectorizer.transform(test_data['Full Text']))\n",
        "test_data['LR_pred'] = lr_pred_class\n",
        "\n",
        "print(lr_pred_class.shape)"
      ]
    },
    {
      "cell_type": "code",
      "execution_count": 16,
      "metadata": {
        "id": "TSJ8pFhHEYSu"
      },
      "outputs": [
        {
          "name": "stdout",
          "output_type": "stream",
          "text": [
            "Precision: 0.803921568627451\n",
            "Accuracy: 0.8\n",
            "Recall: 0.803921568627451\n"
          ]
        }
      ],
      "source": [
        "# print model precision, recall and accuracy\n",
        "from sklearn.metrics import precision_score, recall_score, accuracy_score\n",
        "\n",
        "print(\"Precision: {}\".format(precision_score(test_data['Sentiment'].values, lr_pred_class, pos_label='Positive')))\n",
        "print(\"Accuracy: {}\".format(accuracy_score(test_data['Sentiment'], lr_pred_class)))\n",
        "print(\"Recall: {}\".format(recall_score(test_data['Sentiment'], lr_pred_class, pos_label='Positive')))\n",
        "\n"
      ]
    },
    {
      "cell_type": "markdown",
      "metadata": {
        "id": "Hl2aGZB45eBV"
      },
      "source": [
        "### 8. Pre-process the text and see if it makes your logistic regression model better or worse (1 points)"
      ]
    },
    {
      "cell_type": "code",
      "execution_count": 17,
      "metadata": {
        "id": "-HdCumcLMWx_"
      },
      "outputs": [],
      "source": [
        "# create functions to pre-process your 'Full Text' column\n",
        "import re\n",
        "import nltk\n",
        "import string\n",
        "from nltk.corpus import stopwords\n",
        "stopwords = stopwords.words('english')\n",
        "from nltk.tokenize import word_tokenize\n",
        "from nltk.stem import PorterStemmer, WordNetLemmatizer\n",
        "\n",
        "def clean_text(text):\n",
        "    text = text.lower()\n",
        "    text = re.sub(r'[^a-z\\s]', '', text)\n",
        "    text = [word for word in text.split() if word not in stopwords]\n",
        "    return \" \".join(text)\n",
        "\n",
        "balanced_reviews_2 = balanced_reviews.copy()\n",
        "balanced_reviews_2['Full Text'] = balanced_reviews_2['Full Text'].apply(clean_text)\n",
        "\n",
        "\n",
        "#balanced_reviews_2['Full Text'] = balanced_reviews_2['Full Text'].apply(word_tokenize)\n",
        "\n",
        "#lemmatizer = WordNetLemmatizer()\n",
        "#balanced_reviews_2['Full Text'] = balanced_reviews_2['Full Text'].apply(lambda x: [lemmatizer.lemmatize(word) for word in x])\n",
        "\n",
        "#balanced_reviews_2['Full Text'] = balanced_reviews_2['Full Text'].apply(lambda x: ' '.join(x))\n",
        "\n",
        "\n"
      ]
    },
    {
      "cell_type": "code",
      "execution_count": 18,
      "metadata": {
        "id": "H3KC47cITEbe"
      },
      "outputs": [],
      "source": [
        "# train a new model using the word counts but with the pre-processed tokens\n",
        "train_data_2, test_data_2 = train_test_split(balanced_reviews_2, train_size=0.8, random_state=0)\n",
        "\n",
        "count_vectorizer_2 = CountVectorizer()\n",
        "x_train_2 = count_vectorizer.fit_transform(train_data_2['Full Text'])\n",
        "y_train_2 = train_data_2['Sentiment']\n",
        "\n",
        "lr = LogisticRegression(max_iter=1000, C=10, penalty='l2', solver='newton-cg')\n",
        "lr.fit(x_train_2,y_train_2)\n",
        "\n",
        "lr_pred_class_2 = lr.predict(count_vectorizer.transform(test_data_2['Full Text']))\n",
        "test_data_2['LR_pred'] = lr_pred_class_2\n"
      ]
    },
    {
      "cell_type": "code",
      "execution_count": 19,
      "metadata": {
        "id": "_GA7nqyFTXz5"
      },
      "outputs": [
        {
          "name": "stdout",
          "output_type": "stream",
          "text": [
            "Precision: 0.7524752475247525\n",
            "Accuracy: 0.745\n",
            "Recall: 0.7450980392156863\n"
          ]
        }
      ],
      "source": [
        "# predict class & print precision, recall and accuracy again for your test \n",
        "# dataset using the new model\n",
        "\n",
        "print(\"Precision: {}\".format(precision_score(test_data_2['Sentiment'].values, lr_pred_class_2, pos_label='Positive')))\n",
        "print(\"Accuracy: {}\".format(accuracy_score(test_data_2['Sentiment'], lr_pred_class_2)))\n",
        "print(\"Recall: {}\".format(recall_score(test_data_2['Sentiment'], lr_pred_class_2, pos_label='Positive')))\n",
        "\n"
      ]
    },
    {
      "cell_type": "markdown",
      "metadata": {
        "id": "NDIJIU7_41wr"
      },
      "source": [
        "### 9. Compare SVM.LinearSVC vs Logistic Regression vs Naive Bayes vs RandomForestClassifier for which model provides the best performance using KFold cross validation (2 points)"
      ]
    },
    {
      "cell_type": "code",
      "execution_count": 21,
      "metadata": {
        "id": "yE41Z27LJLbH"
      },
      "outputs": [
        {
          "name": "stdout",
          "output_type": "stream",
          "text": [
            "              precision    recall  f1-score   support\n",
            "\n",
            "    Negative       0.74      0.74      0.74        98\n",
            "    Positive       0.75      0.75      0.75       102\n",
            "\n",
            "    accuracy                           0.74       200\n",
            "   macro avg       0.74      0.74      0.74       200\n",
            "weighted avg       0.75      0.74      0.75       200\n",
            "\n"
          ]
        }
      ],
      "source": [
        "# get performance of Logistic Regression classifier\n",
        "from sklearn.metrics import classification_report\n",
        "\n",
        "print(classification_report(test_data_2['Sentiment'], lr_pred_class_2))\n",
        "\n"
      ]
    },
    {
      "cell_type": "code",
      "execution_count": 22,
      "metadata": {
        "id": "sFijyXUMJeCg"
      },
      "outputs": [
        {
          "name": "stdout",
          "output_type": "stream",
          "text": [
            "Precision: 0.8585858585858586\n",
            "Accuracy: 0.845\n",
            "Recall: 0.8333333333333334\n",
            "              precision    recall  f1-score   support\n",
            "\n",
            "    Negative       0.83      0.86      0.84        98\n",
            "    Positive       0.86      0.83      0.85       102\n",
            "\n",
            "    accuracy                           0.84       200\n",
            "   macro avg       0.85      0.85      0.84       200\n",
            "weighted avg       0.85      0.84      0.85       200\n",
            "\n"
          ]
        }
      ],
      "source": [
        "# compare with a Naive bayes model\n",
        "from sklearn.naive_bayes import MultinomialNB\n",
        "\n",
        "nb = MultinomialNB()\n",
        "nb.fit(x_train_2, y_train_2)\n",
        "\n",
        "nb_pred_class_2 = nb.predict(count_vectorizer.transform(test_data_2['Full Text']))\n",
        "test_data_2['NB_pred'] = nb_pred_class_2\n",
        "\n",
        "print(\"Precision: {}\".format(precision_score(test_data_2['Sentiment'].values, nb_pred_class_2, pos_label='Positive')))  \n",
        "print(\"Accuracy: {}\".format(accuracy_score(test_data_2['Sentiment'], nb_pred_class_2)))\n",
        "print(\"Recall: {}\".format(recall_score(test_data_2['Sentiment'], nb_pred_class_2, pos_label='Positive')))\n",
        "print(classification_report(test_data_2['Sentiment'], nb_pred_class_2))\n"
      ]
    },
    {
      "cell_type": "code",
      "execution_count": 23,
      "metadata": {
        "id": "6fLr6trmJekN"
      },
      "outputs": [
        {
          "name": "stdout",
          "output_type": "stream",
          "text": [
            "Precision: 0.7352941176470589\n",
            "Accuracy: 0.73\n",
            "Recall: 0.7352941176470589\n",
            "              precision    recall  f1-score   support\n",
            "\n",
            "    Negative       0.72      0.72      0.72        98\n",
            "    Positive       0.74      0.74      0.74       102\n",
            "\n",
            "    accuracy                           0.73       200\n",
            "   macro avg       0.73      0.73      0.73       200\n",
            "weighted avg       0.73      0.73      0.73       200\n",
            "\n"
          ]
        }
      ],
      "source": [
        "# compare with SVM's LinearSVC model\n",
        "from sklearn.svm import LinearSVC\n",
        "\n",
        "svc = LinearSVC()\n",
        "svc.fit(x_train_2, y_train_2)\n",
        "\n",
        "svc_pred_class_2 = svc.predict(count_vectorizer.transform(test_data_2['Full Text']))\n",
        "test_data_2['SVC_pred'] = svc_pred_class_2\n",
        "\n",
        "print(\"Precision: {}\".format(precision_score(test_data_2['Sentiment'].values, svc_pred_class_2, pos_label='Positive')))\n",
        "print(\"Accuracy: {}\".format(accuracy_score(test_data_2['Sentiment'], svc_pred_class_2)))\n",
        "print(\"Recall: {}\".format(recall_score(test_data_2['Sentiment'], svc_pred_class_2, pos_label='Positive')))\n",
        "print(classification_report(test_data_2['Sentiment'], svc_pred_class_2))\n"
      ]
    },
    {
      "cell_type": "code",
      "execution_count": 24,
      "metadata": {
        "id": "TtHbSpSTb0If"
      },
      "outputs": [
        {
          "name": "stdout",
          "output_type": "stream",
          "text": [
            "Precision: 0.9101123595505618\n",
            "Accuracy: 0.855\n",
            "Recall: 0.7941176470588235\n",
            "              precision    recall  f1-score   support\n",
            "\n",
            "    Negative       0.81      0.92      0.86        98\n",
            "    Positive       0.91      0.79      0.85       102\n",
            "\n",
            "    accuracy                           0.85       200\n",
            "   macro avg       0.86      0.86      0.85       200\n",
            "weighted avg       0.86      0.85      0.85       200\n",
            "\n"
          ]
        }
      ],
      "source": [
        "# compare with a RandomForest Classifier model\n",
        "from sklearn.ensemble import RandomForestClassifier\n",
        "\n",
        "rfc = RandomForestClassifier()\n",
        "rfc.fit(x_train_2, y_train_2)\n",
        "\n",
        "rfc_pred_class_2 = rfc.predict(count_vectorizer.transform(test_data_2['Full Text']))\n",
        "test_data_2['RFC_pred'] = rfc_pred_class_2\n",
        "\n",
        "print(\"Precision: {}\".format(precision_score(test_data_2['Sentiment'].values, rfc_pred_class_2, pos_label='Positive')))\n",
        "print(\"Accuracy: {}\".format(accuracy_score(test_data_2['Sentiment'], rfc_pred_class_2)))\n",
        "print(\"Recall: {}\".format(recall_score(test_data_2['Sentiment'], rfc_pred_class_2, pos_label='Positive')))\n",
        "print(classification_report(test_data_2['Sentiment'], rfc_pred_class_2))"
      ]
    },
    {
      "cell_type": "markdown",
      "metadata": {
        "id": "GTslEZ685MGe"
      },
      "source": [
        "### 10. For the best performing model type - carry out hyper-paramter optimization (2 points)"
      ]
    },
    {
      "cell_type": "code",
      "execution_count": 25,
      "metadata": {
        "id": "IwGV8zLqLdL5"
      },
      "outputs": [
        {
          "name": "stdout",
          "output_type": "stream",
          "text": [
            "Best cross-validation score: 0.81\n",
            "Best parameters:  {'max_depth': 100, 'n_estimators': 1000}\n",
            "Best estimator:  RandomForestClassifier(max_depth=100, n_estimators=1000)\n",
            "Test set score: 0.84\n",
            "Test set predictions:  ['Negative' 'Positive' 'Negative' 'Negative' 'Positive' 'Positive'\n",
            " 'Negative' 'Positive' 'Negative' 'Positive' 'Negative' 'Negative'\n",
            " 'Positive' 'Negative' 'Positive' 'Negative' 'Positive' 'Negative'\n",
            " 'Negative' 'Negative' 'Negative' 'Negative' 'Negative' 'Negative'\n",
            " 'Positive' 'Positive' 'Negative' 'Negative' 'Positive' 'Negative'\n",
            " 'Positive' 'Positive' 'Positive' 'Positive' 'Negative' 'Negative'\n",
            " 'Positive' 'Negative' 'Negative' 'Negative' 'Negative' 'Positive'\n",
            " 'Positive' 'Positive' 'Negative' 'Negative' 'Positive' 'Negative'\n",
            " 'Negative' 'Negative' 'Negative' 'Negative' 'Negative' 'Negative'\n",
            " 'Positive' 'Positive' 'Negative' 'Negative' 'Negative' 'Negative'\n",
            " 'Positive' 'Positive' 'Negative' 'Negative' 'Negative' 'Positive'\n",
            " 'Negative' 'Negative' 'Negative' 'Negative' 'Negative' 'Positive'\n",
            " 'Positive' 'Negative' 'Positive' 'Negative' 'Negative' 'Positive'\n",
            " 'Negative' 'Positive' 'Positive' 'Negative' 'Negative' 'Positive'\n",
            " 'Positive' 'Positive' 'Negative' 'Positive' 'Negative' 'Positive'\n",
            " 'Negative' 'Positive' 'Positive' 'Negative' 'Positive' 'Negative'\n",
            " 'Positive' 'Negative' 'Negative' 'Positive' 'Positive' 'Negative'\n",
            " 'Negative' 'Negative' 'Negative' 'Positive' 'Positive' 'Negative'\n",
            " 'Negative' 'Negative' 'Negative' 'Positive' 'Negative' 'Positive'\n",
            " 'Negative' 'Negative' 'Positive' 'Negative' 'Negative' 'Negative'\n",
            " 'Positive' 'Positive' 'Negative' 'Positive' 'Negative' 'Positive'\n",
            " 'Negative' 'Negative' 'Positive' 'Positive' 'Negative' 'Positive'\n",
            " 'Positive' 'Positive' 'Positive' 'Positive' 'Negative' 'Negative'\n",
            " 'Positive' 'Negative' 'Negative' 'Positive' 'Positive' 'Positive'\n",
            " 'Negative' 'Negative' 'Positive' 'Negative' 'Negative' 'Positive'\n",
            " 'Negative' 'Negative' 'Negative' 'Positive' 'Positive' 'Positive'\n",
            " 'Negative' 'Positive' 'Positive' 'Positive' 'Positive' 'Negative'\n",
            " 'Positive' 'Positive' 'Positive' 'Negative' 'Negative' 'Positive'\n",
            " 'Negative' 'Negative' 'Negative' 'Positive' 'Negative' 'Positive'\n",
            " 'Negative' 'Positive' 'Negative' 'Positive' 'Positive' 'Negative'\n",
            " 'Positive' 'Positive' 'Negative' 'Negative' 'Positive' 'Positive'\n",
            " 'Positive' 'Negative' 'Positive' 'Negative' 'Positive' 'Positive'\n",
            " 'Negative' 'Negative' 'Positive' 'Negative' 'Positive' 'Positive'\n",
            " 'Positive' 'Negative']\n",
            "Test set accuracy: 0.84\n"
          ]
        }
      ],
      "source": [
        "#For the random forest model, carry out hyper-paramter optimization\n",
        "\n",
        "from sklearn.model_selection import GridSearchCV\n",
        "\n",
        "param_grid = {'n_estimators': [10, 100, 1000], 'max_depth': [10, 100, 1000]}\n",
        "rfc = RandomForestClassifier()\n",
        "grid = GridSearchCV(rfc, param_grid, cv=5)\n",
        "grid.fit(x_train_2, y_train_2)\n",
        "\n",
        "print(\"Best cross-validation score: {:.2f}\".format(grid.best_score_))\n",
        "print(\"Best parameters: \", grid.best_params_)\n",
        "print(\"Best estimator: \", grid.best_estimator_)\n",
        "print(\"Test set score: {:.2f}\".format(grid.score(count_vectorizer.transform(test_data_2['Full Text']), test_data_2['Sentiment'])))\n",
        "print(\"Test set predictions: \", grid.predict(count_vectorizer.transform(test_data_2['Full Text'])))\n",
        "print(\"Test set accuracy: {:.2f}\".format(accuracy_score(test_data_2['Sentiment'], grid.predict(count_vectorizer.transform(test_data_2['Full Text'])))))\n"
      ]
    }
  ],
  "metadata": {
    "colab": {
      "collapsed_sections": [],
      "provenance": [],
      "toc_visible": true
    },
    "kernelspec": {
      "display_name": "Python 3.9.12 ('base')",
      "language": "python",
      "name": "python3"
    },
    "language_info": {
      "codemirror_mode": {
        "name": "ipython",
        "version": 3
      },
      "file_extension": ".py",
      "mimetype": "text/x-python",
      "name": "python",
      "nbconvert_exporter": "python",
      "pygments_lexer": "ipython3",
      "version": "3.9.12"
    },
    "vscode": {
      "interpreter": {
        "hash": "14c2485957b2ce2426b726e732a99c51660700eeffcabbe66967fd94d549347c"
      }
    }
  },
  "nbformat": 4,
  "nbformat_minor": 0
}
