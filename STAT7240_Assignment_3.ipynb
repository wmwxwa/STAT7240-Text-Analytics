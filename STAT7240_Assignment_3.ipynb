{
  "cells": [
    {
      "cell_type": "markdown",
      "metadata": {
        "id": "o-Qn65e6cPUR"
      },
      "source": [
        "In this assignment - we're going to run an NLP pipeline from end to end:\n",
        "\n",
        "* Either use the csv file provided for all wikipedia pages under the category \"natural language processing\" or generate your own here: https://petscan.wmflabs.org/ (non-comprehensive list of settings below)\n",
        "  * Page properties - set re-directs to 'No'\n",
        "  * Output - set to 'csv' \n",
        "* Download all the pages - extract the paragraph text into a pandas dataframe\n",
        "* Run LSA analysis to get main topics\n",
        "* Repeat with LDA\n",
        "* Finally - generate & refine embeddings\n",
        "\n",
        "---\n",
        "\n",
        "*Fill in the missing code from the relevant sections below, missing code is indicated by \\<FILL_CODE>*\n",
        "\n",
        "*IMPORTANT: Make sure you include the outputs or printouts for every cell in the .ipynb file that you upload.*"
      ]
    },
    {
      "cell_type": "markdown",
      "metadata": {
        "id": "qCZy5pP2EsZy"
      },
      "source": [
        "## Load / Import data"
      ]
    },
    {
      "cell_type": "markdown",
      "metadata": {
        "id": "HravXmh9cljn"
      },
      "source": [
        "### 1. Get the text data using either the csv file provided or the one you generated (2 points)\n",
        "\n",
        "For the rest of this assignment - continue to use the dataset you selected here"
      ]
    },
    {
      "cell_type": "code",
      "execution_count": 16,
      "metadata": {
        "id": "f65gVuW-cKOm"
      },
      "outputs": [
        {
          "name": "stdout",
          "output_type": "stream",
          "text": [
            "   number                  title  pageid  namespace  length         touched\n",
            "0       1                  ELIZA   10235        NaN   29186  20220910110802\n",
            "1       2   Finite-state_machine   10931        NaN   41876  20220918155749\n",
            "2       3               HAL_9000   14384        NaN   35794  20220727001747\n",
            "3       4  Information_retrieval   15271        NaN   27625  20220904163734\n",
            "4       5            Kleene_star   16750        NaN    7210  20220913212929\n"
          ]
        }
      ],
      "source": [
        "import pandas as pd\n",
        "\n",
        "wiki_page_corpus = pd.read_csv('./wikipedia-nlp-pages.csv')\n",
        "print(wiki_page_corpus[:5])"
      ]
    },
    {
      "cell_type": "code",
      "execution_count": 17,
      "metadata": {
        "id": "F-dTSXzuMGDN"
      },
      "outputs": [
        {
          "data": {
            "text/plain": [
              "(866, 6)"
            ]
          },
          "execution_count": 17,
          "metadata": {},
          "output_type": "execute_result"
        }
      ],
      "source": [
        "wiki_page_corpus.shape"
      ]
    },
    {
      "cell_type": "markdown",
      "metadata": {
        "id": "8qlmZkCoDBlW"
      },
      "source": [
        "### 2. Preprocess text into tokens (1 point)"
      ]
    },
    {
      "cell_type": "code",
      "execution_count": 18,
      "metadata": {
        "id": "feBKpRKBQX3X"
      },
      "outputs": [
        {
          "data": {
            "text/html": [
              "<div>\n",
              "<style scoped>\n",
              "    .dataframe tbody tr th:only-of-type {\n",
              "        vertical-align: middle;\n",
              "    }\n",
              "\n",
              "    .dataframe tbody tr th {\n",
              "        vertical-align: top;\n",
              "    }\n",
              "\n",
              "    .dataframe thead th {\n",
              "        text-align: right;\n",
              "    }\n",
              "</style>\n",
              "<table border=\"1\" class=\"dataframe\">\n",
              "  <thead>\n",
              "    <tr style=\"text-align: right;\">\n",
              "      <th></th>\n",
              "      <th>number</th>\n",
              "      <th>title</th>\n",
              "      <th>pageid</th>\n",
              "      <th>namespace</th>\n",
              "      <th>length</th>\n",
              "      <th>touched</th>\n",
              "      <th>paragraph_tokens</th>\n",
              "    </tr>\n",
              "  </thead>\n",
              "  <tbody>\n",
              "    <tr>\n",
              "      <th>0</th>\n",
              "      <td>1</td>\n",
              "      <td>ELIZA</td>\n",
              "      <td>10235</td>\n",
              "      <td>NaN</td>\n",
              "      <td>29186</td>\n",
              "      <td>20220910110802</td>\n",
              "      <td>[eliza]</td>\n",
              "    </tr>\n",
              "    <tr>\n",
              "      <th>1</th>\n",
              "      <td>2</td>\n",
              "      <td>Finite-state_machine</td>\n",
              "      <td>10931</td>\n",
              "      <td>NaN</td>\n",
              "      <td>41876</td>\n",
              "      <td>20220918155749</td>\n",
              "      <td>[finite, state, machine]</td>\n",
              "    </tr>\n",
              "    <tr>\n",
              "      <th>2</th>\n",
              "      <td>3</td>\n",
              "      <td>HAL_9000</td>\n",
              "      <td>14384</td>\n",
              "      <td>NaN</td>\n",
              "      <td>35794</td>\n",
              "      <td>20220727001747</td>\n",
              "      <td>[hal]</td>\n",
              "    </tr>\n",
              "    <tr>\n",
              "      <th>3</th>\n",
              "      <td>4</td>\n",
              "      <td>Information_retrieval</td>\n",
              "      <td>15271</td>\n",
              "      <td>NaN</td>\n",
              "      <td>27625</td>\n",
              "      <td>20220904163734</td>\n",
              "      <td>[information, retrieval]</td>\n",
              "    </tr>\n",
              "    <tr>\n",
              "      <th>4</th>\n",
              "      <td>5</td>\n",
              "      <td>Kleene_star</td>\n",
              "      <td>16750</td>\n",
              "      <td>NaN</td>\n",
              "      <td>7210</td>\n",
              "      <td>20220913212929</td>\n",
              "      <td>[kleene, star]</td>\n",
              "    </tr>\n",
              "  </tbody>\n",
              "</table>\n",
              "</div>"
            ],
            "text/plain": [
              "   number                  title  pageid  namespace  length         touched  \\\n",
              "0       1                  ELIZA   10235        NaN   29186  20220910110802   \n",
              "1       2   Finite-state_machine   10931        NaN   41876  20220918155749   \n",
              "2       3               HAL_9000   14384        NaN   35794  20220727001747   \n",
              "3       4  Information_retrieval   15271        NaN   27625  20220904163734   \n",
              "4       5            Kleene_star   16750        NaN    7210  20220913212929   \n",
              "\n",
              "           paragraph_tokens  \n",
              "0                   [eliza]  \n",
              "1  [finite, state, machine]  \n",
              "2                     [hal]  \n",
              "3  [information, retrieval]  \n",
              "4            [kleene, star]  "
            ]
          },
          "execution_count": 18,
          "metadata": {},
          "output_type": "execute_result"
        }
      ],
      "source": [
        "import re\n",
        "from gensim.utils import tokenize\n",
        "from gensim.parsing.preprocessing import remove_stopwords, strip_punctuation\n",
        "custom_stopwords = ['displaystyle']\n",
        "\n",
        "def preprocess_tokenize_with_gensim(text):\n",
        "  # convert to lowercase, remove extra whitespace\n",
        "  text = text.lower().strip()\n",
        "  # remove \\n, strip symbols and punctuation \n",
        "  text = strip_punctuation(text)\n",
        "  # remove stopwords\n",
        "  text = remove_stopwords(text)\n",
        "  # tokenize\n",
        "  tokens = list(tokenize(text))\n",
        "  # remove any additional stopwords if needed (this is a custom extra step if \n",
        "  # you see words in the topics that don't belong)\n",
        "  # remove any words shorter than 2 characters\n",
        "  tokens = [token for token in tokens if token not in custom_stopwords and len(token) > 2]\n",
        "  return tokens\n",
        "\n",
        "# create tokens column\n",
        "wiki_page_corpus['paragraph_tokens'] = wiki_page_corpus['title'].apply(preprocess_tokenize_with_gensim)\n",
        "wiki_page_corpus.head()"
      ]
    },
    {
      "cell_type": "markdown",
      "metadata": {
        "id": "GTFwmt4ijAVZ"
      },
      "source": [
        "## Run LSA with TFIDF"
      ]
    },
    {
      "cell_type": "code",
      "execution_count": 19,
      "metadata": {
        "id": "9ftM86E5O3Bh"
      },
      "outputs": [],
      "source": [
        "import os.path\n",
        "from gensim.corpora import Dictionary\n",
        "from gensim.models import LsiModel, TfidfModel\n",
        "import re\n",
        "import warnings\n",
        "warnings.filterwarnings('ignore')"
      ]
    },
    {
      "cell_type": "markdown",
      "metadata": {
        "id": "gH0ROFpxD0Mj"
      },
      "source": [
        "### 3. Generate dictionary and document-term-matrix needed for computing TFIDF(1 point) "
      ]
    },
    {
      "cell_type": "code",
      "execution_count": 20,
      "metadata": {
        "id": "u4U84TwIOwyU"
      },
      "outputs": [],
      "source": [
        "dictionary = Dictionary(wiki_page_corpus['paragraph_tokens'])\n",
        "corpus = [dictionary.doc2bow(text) for text in wiki_page_corpus['paragraph_tokens']]\n",
        "tfidf = TfidfModel(corpus)\n"
      ]
    },
    {
      "cell_type": "markdown",
      "metadata": {
        "id": "4awOwQr-EMqz"
      },
      "source": [
        "### 4. Specify n_topics (at least 7), compute TFIDF matrix and train LSA model (1 point)"
      ]
    },
    {
      "cell_type": "code",
      "execution_count": 21,
      "metadata": {
        "id": "bhVVo7eHQ2nB"
      },
      "outputs": [],
      "source": [
        "n_topics = 10\n",
        "tfidf_corpus = tfidf[corpus]\n",
        "lsi = LsiModel(tfidf_corpus, id2word=dictionary, num_topics=n_topics)"
      ]
    },
    {
      "cell_type": "markdown",
      "metadata": {
        "id": "arP2GvpeEd90"
      },
      "source": [
        "### 5. Print top 7 topics and 7 words for every topic (1 point)"
      ]
    },
    {
      "cell_type": "code",
      "execution_count": 22,
      "metadata": {
        "id": "V03OXnwKQ2vc"
      },
      "outputs": [
        {
          "name": "stdout",
          "output_type": "stream",
          "text": [
            "(0, [('translation', -0.5971142607272544), ('machine', -0.5970148111237235), ('language', -0.3295565899869501), ('corpus', -0.18451525138709726), ('natural', -0.1820524406121053), ('based', -0.11277980081190185), ('neural', -0.08727640624331864)])\n",
            "(1, [('language', -0.6154347835966626), ('corpus', -0.3943217959966098), ('natural', -0.3531237440857559), ('machine', 0.3204085783387835), ('translation', 0.3021986232959472), ('processing', -0.1567719226393752), ('model', -0.10782592299555536)])\n",
            "(2, [('corpus', 0.7256188652252339), ('language', -0.3634611821492455), ('natural', -0.28776859553718237), ('national', 0.2109349721338355), ('linguistics', 0.1733937823381026), ('text', 0.1669061683014083), ('speech', 0.1402589227933959)])\n",
            "(3, [('automaton', -0.7860931324335875), ('finite', -0.4889248734250003), ('deterministic', -0.16666458387232327), ('state', -0.15557112962482988), ('büchi', -0.12409637952299955), ('nondeterministic', -0.11592631693405205), ('probabilistic', -0.0681508145438186)])\n",
            "(4, [('assistant', 0.6979813733837648), ('virtual', 0.6585702452667366), ('google', 0.12934268806065605), ('alice', 0.093101475310574), ('cortana', 0.09307362936016234), ('clova', 0.09304929542802196), ('celia', 0.09276920287487635)])\n",
            "(5, [('semantic', 0.760339650599904), ('analysis', 0.44755136068816564), ('latent', 0.23474952989395143), ('parsing', 0.15337443886221322), ('text', 0.12320172369229825), ('computational', 0.11890086793398744), ('analytics', 0.11723696561850581)])\n",
            "(6, [('text', -0.8554211685094927), ('predictive', -0.2051253555841077), ('model', -0.12215731172565263), ('corpus', 0.11586510472651045), ('english', 0.1069411538823508), ('semantic', 0.10085995676882972), ('simplification', -0.09992823191405326)])\n"
          ]
        }
      ],
      "source": [
        "# display top 7 topics and top 7 words for each topic\n",
        "for topic in lsi.show_topics(num_topics=7, num_words=7, formatted=False):\n",
        "  print(topic)\n",
        "\n"
      ]
    },
    {
      "cell_type": "markdown",
      "metadata": {
        "id": "gZPqBwsTjE7t"
      },
      "source": [
        "## Run LDA with the count vectorizer"
      ]
    },
    {
      "cell_type": "markdown",
      "metadata": {
        "id": "UJAbru5NE7u7"
      },
      "source": [
        "### 6. Train an LDA model using word counts (1 points)"
      ]
    },
    {
      "cell_type": "code",
      "execution_count": 23,
      "metadata": {
        "id": "NgXlVKg1cyOG"
      },
      "outputs": [],
      "source": [
        "\n",
        "from gensim.models import LdaModel\n",
        "lda = LdaModel(corpus, id2word=dictionary, num_topics=n_topics)"
      ]
    },
    {
      "cell_type": "markdown",
      "metadata": {
        "id": "xppQJT4fFIsY"
      },
      "source": [
        "### 7. Compare at the top 7 words for the top 7 topics from the LDA model (1 point)"
      ]
    },
    {
      "cell_type": "code",
      "execution_count": 24,
      "metadata": {
        "id": "7fop_kiSdNa3"
      },
      "outputs": [
        {
          "name": "stdout",
          "output_type": "stream",
          "text": [
            "(1, [('corpus', 0.022556918), ('information', 0.015159833), ('language', 0.011463579), ('project', 0.011463547), ('retrieval', 0.011462624), ('word', 0.007764954), ('translator', 0.007764952)])\n",
            "(2, [('corpus', 0.025613066), ('software', 0.014344012), ('finite', 0.012965225), ('linguistic', 0.012963871), ('automaton', 0.012963666), ('english', 0.009802865), ('processing', 0.009802757)])\n",
            "(3, [('language', 0.025923941), ('engineering', 0.013122629), ('natural', 0.009922601), ('semantic', 0.009922087), ('automaton', 0.009921661), ('corpus', 0.0067222547), ('theory', 0.0067213327)])\n",
            "(7, [('automaton', 0.030969607), ('language', 0.030969474), ('natural', 0.019810943), ('finite', 0.01981091), ('assistant', 0.019808916), ('virtual', 0.01701942), ('machine', 0.017019374)])\n",
            "(4, [('text', 0.034302272), ('corpus', 0.034301773), ('inscriptionum', 0.010529217), ('analysis', 0.010528217), ('latent', 0.010527699), ('document', 0.007132592), ('semantic', 0.0071323877)])\n",
            "(8, [('translation', 0.028667431), ('machine', 0.028665403), ('english', 0.019215727), ('corpus', 0.012915851), ('recognition', 0.009765905), ('arabic', 0.009765612), ('text', 0.009765222)])\n",
            "(5, [('corpus', 0.039053958), ('language', 0.033091158), ('national', 0.018184831), ('semantic', 0.01818474), ('grammar', 0.012223093), ('analysis', 0.009242096), ('probabilistic', 0.009241902)])\n"
          ]
        }
      ],
      "source": [
        "for topic in lda.show_topics(num_topics=7, num_words=7, formatted=False):\n",
        "    print(topic)\n",
        "    "
      ]
    },
    {
      "cell_type": "markdown",
      "metadata": {
        "id": "xBzSCuPrDPBf"
      },
      "source": [
        "### 7. Why are the topics and words different between the LDA and LSA models? (1 point)"
      ]
    },
    {
      "cell_type": "markdown",
      "metadata": {
        "id": "fFL8ZS-SF6tt"
      },
      "source": [
        "Answer: LDA is probabilistic, while LSA is deterministic. They use different methodologies and assumptions to get the topics."
      ]
    },
    {
      "cell_type": "markdown",
      "metadata": {
        "id": "uTNVSDpSGCt_"
      },
      "source": [
        "### 8. Visualize the topics in the LDA model you trained using pyLDAvis(1 point)"
      ]
    },
    {
      "cell_type": "code",
      "execution_count": 25,
      "metadata": {
        "id": "VhgudWrae8wT"
      },
      "outputs": [
        {
          "name": "stdout",
          "output_type": "stream",
          "text": [
            "Requirement already satisfied: pyldavis in c:\\users\\wangwilliam\\anaconda3\\lib\\site-packages (3.3.1)\n",
            "Requirement already satisfied: gensim in c:\\users\\wangwilliam\\anaconda3\\lib\\site-packages (from pyldavis) (4.2.0)\n",
            "Requirement already satisfied: funcy in c:\\users\\wangwilliam\\anaconda3\\lib\\site-packages (from pyldavis) (1.17)\n",
            "Requirement already satisfied: numexpr in c:\\users\\wangwilliam\\anaconda3\\lib\\site-packages (from pyldavis) (2.8.3)\n",
            "Requirement already satisfied: future in c:\\users\\wangwilliam\\anaconda3\\lib\\site-packages (from pyldavis) (0.18.2)\n",
            "Requirement already satisfied: setuptools in c:\\users\\wangwilliam\\anaconda3\\lib\\site-packages (from pyldavis) (63.4.1)\n",
            "Requirement already satisfied: numpy>=1.20.0 in c:\\users\\wangwilliam\\anaconda3\\lib\\site-packages (from pyldavis) (1.21.5)\n",
            "Requirement already satisfied: jinja2 in c:\\users\\wangwilliam\\anaconda3\\lib\\site-packages (from pyldavis) (2.11.3)\n",
            "Requirement already satisfied: sklearn in c:\\users\\wangwilliam\\anaconda3\\lib\\site-packages (from pyldavis) (0.0.post1)\n",
            "Requirement already satisfied: scikit-learn in c:\\users\\wangwilliam\\anaconda3\\lib\\site-packages (from pyldavis) (1.1.2)\n",
            "Requirement already satisfied: pandas>=1.2.0 in c:\\users\\wangwilliam\\anaconda3\\lib\\site-packages (from pyldavis) (1.4.3)\n",
            "Requirement already satisfied: scipy in c:\\users\\wangwilliam\\anaconda3\\lib\\site-packages (from pyldavis) (1.7.3)\n",
            "Requirement already satisfied: joblib in c:\\users\\wangwilliam\\anaconda3\\lib\\site-packages (from pyldavis) (1.1.0)\n",
            "Requirement already satisfied: python-dateutil>=2.8.1 in c:\\users\\wangwilliam\\anaconda3\\lib\\site-packages (from pandas>=1.2.0->pyldavis) (2.8.2)\n",
            "Requirement already satisfied: pytz>=2020.1 in c:\\users\\wangwilliam\\anaconda3\\lib\\site-packages (from pandas>=1.2.0->pyldavis) (2022.1)\n",
            "Requirement already satisfied: Cython==0.29.28 in c:\\users\\wangwilliam\\anaconda3\\lib\\site-packages (from gensim->pyldavis) (0.29.28)\n",
            "Requirement already satisfied: smart-open>=1.8.1 in c:\\users\\wangwilliam\\anaconda3\\lib\\site-packages (from gensim->pyldavis) (5.2.1)\n",
            "Requirement already satisfied: MarkupSafe>=0.23 in c:\\users\\wangwilliam\\anaconda3\\lib\\site-packages (from jinja2->pyldavis) (2.0.1)\n",
            "Requirement already satisfied: packaging in c:\\users\\wangwilliam\\anaconda3\\lib\\site-packages (from numexpr->pyldavis) (21.3)\n",
            "Requirement already satisfied: threadpoolctl>=2.0.0 in c:\\users\\wangwilliam\\anaconda3\\lib\\site-packages (from scikit-learn->pyldavis) (2.2.0)\n",
            "Requirement already satisfied: six>=1.5 in c:\\users\\wangwilliam\\anaconda3\\lib\\site-packages (from python-dateutil>=2.8.1->pandas>=1.2.0->pyldavis) (1.16.0)\n",
            "Requirement already satisfied: pyparsing!=3.0.5,>=2.0.2 in c:\\users\\wangwilliam\\anaconda3\\lib\\site-packages (from packaging->numexpr->pyldavis) (3.0.9)\n"
          ]
        }
      ],
      "source": [
        "# Install the Python LDA Visualization package\n",
        "!pip install pyldavis"
      ]
    },
    {
      "cell_type": "code",
      "execution_count": 26,
      "metadata": {
        "id": "McHOvyWne9HW"
      },
      "outputs": [
        {
          "data": {
            "text/html": [
              "\n",
              "<link rel=\"stylesheet\" type=\"text/css\" href=\"https://cdn.jsdelivr.net/gh/bmabey/pyLDAvis@3.3.1/pyLDAvis/js/ldavis.v1.0.0.css\">\n",
              "\n",
              "\n",
              "<div id=\"ldavis_el2024819222072593289474908259\"></div>\n",
              "<script type=\"text/javascript\">\n",
              "\n",
              "var ldavis_el2024819222072593289474908259_data = {\"mdsDat\": {\"x\": [0.13472960688768273, 0.006623032983180066, 0.05029741884747399, -0.045384727675995405, 0.033139956758910155, 0.07274113296545022, -0.005457394145143303, -0.09789678234525702, -0.10044766984260729, -0.04834457443369418], \"y\": [0.0004707778614428606, -0.001104725269302807, -0.028186536521961514, -0.11350745707859175, 0.008828870487153886, 0.09971623786991557, -0.11239900329893374, 0.05597275734684306, 0.04047168159936565, 0.04973739700406896], \"topics\": [1, 2, 3, 4, 5, 6, 7, 8, 9, 10], \"cluster\": [1, 1, 1, 1, 1, 1, 1, 1, 1, 1], \"Freq\": [12.357938866892434, 11.476231847903632, 10.436566110239871, 10.266544038782447, 9.86789735537631, 9.631611086287652, 9.548764915821394, 9.47098741083135, 8.745151591228545, 8.198306776636363]}, \"tinfo\": {\"Term\": [\"text\", \"language\", \"automaton\", \"translation\", \"machine\", \"corpus\", \"natural\", \"finite\", \"assistant\", \"english\", \"national\", \"semantic\", \"information\", \"virtual\", \"concordance\", \"analysis\", \"engineering\", \"character\", \"linguistics\", \"linguistic\", \"extraction\", \"retrieval\", \"generator\", \"project\", \"optical\", \"recognition\", \"latent\", \"inscriptionum\", \"parsing\", \"processing\", \"safety\", \"theorem\", \"morphological\", \"martha\", \"b\\u00fcchi\", \"assistant\", \"virtual\", \"localization\", \"generalized\", \"calais\", \"urban\", \"industry\", \"letter\", \"punjabi\", \"product\", \"control\", \"traffic\", \"hindi\", \"interaction\", \"turkey\", \"complaint\", \"standards\", \"clova\", \"self\", \"term\", \"crowdsourcing\", \"matrix\", \"xiang\", \"management\", \"verifying\", \"automaton\", \"state\", \"natural\", \"generator\", \"finite\", \"language\", \"construction\", \"machine\", \"ocr\", \"google\", \"translation\", \"software\", \"processing\", \"automatic\", \"corpus\", \"model\", \"voice\", \"grammar\", \"based\", \"resources\", \"free\", \"moses\", \"gpt\", \"probabilistic\", \"national\", \"scottish\", \"states\", \"iudaeae\", \"arantza\", \"persons\", \"tenten\", \"d\\u00edaz\", \"palaestinae\", \"transfer\", \"speculorum\", \"mortals\", \"role\", \"s\\u00e1nchez\", \"ilarraza\", \"woods\", \"tools\", \"challenge\", \"schema\", \"mere\", \"databases\", \"aaron\", \"global\", \"stable\", \"l\\u00e9on\", \"context\", \"william\", \"semantic\", \"language\", \"corpus\", \"analysis\", \"automatic\", \"grammar\", \"ocr\", \"software\", \"translation\", \"machine\", \"association\", \"texts\", \"united\", \"based\", \"evaluation\", \"computational\", \"neural\", \"regular\", \"bijankhan\", \"collocation\", \"annotated\", \"readers\", \"syntactic\", \"multiline\", \"kingdom\", \"popping\", \"keane\", \"oriented\", \"pumping\", \"reader\", \"sub\", \"markup\", \"key\", \"margaret\", \"library\", \"case\", \"filtered\", \"languages\", \"nag\", \"reasoning\", \"outline\", \"hammadi\", \"ngram\", \"chu\", \"viewer\", \"expression\", \"ichi\", \"optical\", \"mark\", \"character\", \"recognition\", \"entity\", \"extraction\", \"language\", \"network\", \"corpus\", \"scientist\", \"parsing\", \"automaton\", \"voice\", \"linguistics\", \"word\", \"english\", \"natural\", \"translation\", \"machine\", \"center\", \"automatic\", \"manuscript\", \"computational\", \"united\", \"mining\", \"arabic\", \"laboratories\", \"analytical\", \"plates\", \"copper\", \"xian\", \"ink\", \"young\", \"applications\", \"recursion\", \"error\", \"architecture\", \"classic\", \"cochin\", \"variant\", \"usage\", \"magnetic\", \"quranic\", \"integration\", \"robot\", \"jewish\", \"minimal\", \"curran\", \"intelligent\", \"numeral\", \"bing\", \"oxford\", \"survey\", \"curzan\", \"english\", \"translation\", \"machine\", \"character\", \"technologies\", \"sense\", \"recognition\", \"word\", \"lexical\", \"text\", \"corpus\", \"linguistics\", \"software\", \"semantic\", \"language\", \"list\", \"optical\", \"scientist\", \"generation\", \"concordance\", \"disambiguation\", \"bible\", \"michael\", \"new\", \"linguistic\", \"poolparty\", \"zealand\", \"wellington\", \"methods\", \"website\", \"acyclic\", \"children\", \"semiticarum\", \"empirical\", \"deep\", \"conversational\", \"conceptual\", \"babel\", \"slovenian\", \"ultra\", \"mchardy\", \"collins\", \"consortium\", \"mallet\", \"alternating\", \"bettelou\", \"brame\", \"watson\", \"philipp\", \"slonim\", \"quantum\", \"fish\", \"discrimination\", \"deterministic\", \"processing\", \"bible\", \"software\", \"finite\", \"corpus\", \"texts\", \"automaton\", \"english\", \"concordance\", \"semantic\", \"parsing\", \"speech\", \"linguistics\", \"natural\", \"language\", \"comparison\", \"character\", \"project\", \"list\", \"spoken\", \"national\", \"katz\", \"engineering\", \"faith\", \"institute\", \"ancient\", \"majid\", \"\\u014dno\", \"bhurgri\", \"explicit\", \"times\", \"mandelbrot\", \"jones\", \"decomposition\", \"francine\", \"networking\", \"marie\", \"selectae\", \"unambiguous\", \"modular\", \"audio\", \"textbook\", \"adam\", \"matsumoto\", \"krzysztof\", \"kneser\", \"gregory\", \"ney\", \"abdul\", \"torrey\", \"jan\", \"universal\", \"algorithm\", \"language\", \"law\", \"theory\", \"information\", \"natural\", \"google\", \"semantic\", \"automaton\", \"extraction\", \"analysis\", \"model\", \"translation\", \"corpus\", \"linguistics\", \"recognition\", \"dead\", \"scrolls\", \"word\", \"interface\", \"finite\", \"machine\", \"processing\", \"affix\", \"eugene\", \"longman\", \"example\", \"lennon\", \"assisted\", \"lillian\", \"usability\", \"brita\", \"analyser\", \"lattice\", \"andreoff\", \"relational\", \"capture\", \"different\", \"approaches\", \"bark\", \"database\", \"stenstr\\u00f6m\", \"extended\", \"birch\", \"experiment\", \"anna\", \"copestake\", \"lee\", \"davies\", \"mitkov\", \"intelligence\", \"v\\u00e9ronis\", \"etzioni\", \"studies\", \"neural\", \"translation\", \"machine\", \"generator\", \"scientist\", \"grammar\", \"software\", \"corpus\", \"finite\", \"spoken\", \"lexical\", \"ibm\", \"voice\", \"artificial\", \"mark\", \"james\", \"written\", \"based\", \"european\", \"google\", \"acquisition\", \"induction\", \"allocation\", \"predictive\", \"latent\", \"religionis\", \"lancaster\", \"entropy\", \"modern\", \"music\", \"generative\", \"lexicon\", \"archive\", \"oslo\", \"nave\", \"medieval\", \"dirichlet\", \"mithriacae\", \"tehran\", \"maximum\", \"monumentorum\", \"latinarum\", \"reference\", \"bidyut\", \"mapping\", \"chaudhuri\", \"multimodal\", \"meaning\", \"asosoft\", \"separating\", \"text\", \"dan\", \"inscriptionum\", \"corpus\", \"analysis\", \"sense\", \"document\", \"automatic\", \"grammar\", \"semantic\", \"english\", \"corpora\", \"word\", \"software\", \"markov\", \"words\", \"recognition\", \"optical\", \"model\", \"phrase\", \"seq\", \"rule\", \"image\", \"wang\", \"privacy\", \"hillel\", \"yehoshua\", \"space\", \"mawangdui\", \"larry\", \"thesaurus\", \"r\\u00e9sum\\u00e9\", \"boundary\", \"speed\", \"tan\", \"resolution\", \"linguae\", \"petrovich\", \"synchronizing\", \"mona\", \"cruden\", \"shallow\", \"chiew\", \"hovy\", \"george\", \"publishing\", \"troyanskii\", \"ebla\", \"census\", \"concordance\", \"automated\", \"linguistics\", \"text\", \"law\", \"texts\", \"semantics\", \"parsing\", \"model\", \"word\", \"grammar\", \"machine\", \"translation\", \"virtual\", \"disambiguation\", \"extraction\", \"human\", \"retrieval\", \"list\", \"company\", \"assistant\", \"silk\", \"frederick\", \"retrieval\", \"information\", \"byzantinae\", \"london\", \"assyrian\", \"embryo\", \"scriptorum\", \"teenage\", \"canaanite\", \"supplementum\", \"cross\", \"dynamic\", \"microsoft\", \"source\", \"bitext\", \"historiae\", \"legal\", \"persian\", \"livac\", \"graecum\", \"neo\", \"damerau\", \"stabler\", \"walker\", \"monica\", \"lam\", \"scantron\", \"android\", \"epigraphicum\", \"fung\", \"project\", \"translator\", \"corpus\", \"speech\", \"extraction\", \"model\", \"language\", \"word\", \"machine\", \"text\", \"recognition\", \"semantics\", \"grammar\", \"plate\", \"inscriptions\", \"topic\", \"markov\", \"bergen\"], \"Freq\": [12.0, 27.0, 13.0, 18.0, 18.0, 34.0, 9.0, 9.0, 7.0, 9.0, 6.0, 11.0, 4.0, 6.0, 4.0, 6.0, 3.0, 4.0, 7.0, 4.0, 6.0, 2.0, 3.0, 4.0, 5.0, 7.0, 3.0, 3.0, 4.0, 4.0, 1.3865906870289106, 1.3865655612339691, 1.386544072067243, 1.3865151994432312, 1.3864552501781078, 4.687869876196498, 4.027723115169265, 0.7263868970592129, 0.7263862909545103, 0.7263903683861456, 0.7263814972173176, 0.7263796238027824, 0.7263781911916674, 0.7263706424330995, 0.7263787421959425, 0.7263659588967617, 0.7263561510206661, 0.7263458472407229, 0.7263553245142536, 0.7263393453902776, 0.7263404473988276, 0.7263392902898501, 0.7263461227428605, 0.7263316313304271, 0.7263358740633449, 0.7263268375932344, 0.7263292620120445, 0.7263288212086245, 0.726320776546209, 0.7263224295590341, 7.329097848478143, 2.046876411334306, 4.688349470317486, 2.0469381238131095, 4.688341535855925, 7.3290665514353215, 1.3866743294778605, 4.027712095083765, 1.3862567784382411, 1.386428140767776, 2.7073255635076756, 2.0468543711633047, 1.3863833992206436, 1.386390672477074, 2.7070974477378122, 1.3866114047896518, 1.0285189058863704, 1.3866194494520674, 0.7263807258113325, 1.3759275071024097, 1.375900592127238, 1.375837756405734, 1.3752493111310649, 2.0310914233818576, 3.996477559085686, 0.7207526406239378, 0.7207280282607104, 0.7207296656736486, 0.7207286934597166, 0.7207203528875625, 0.7207269025393154, 0.7207109889323221, 0.7207015226387731, 0.7206924656984586, 0.7206963033850325, 0.7206951264944832, 0.7206886280118847, 0.7206770637830086, 0.7206767055989284, 0.7206838181113787, 0.7206853531860082, 0.720681771345206, 0.7206805944546566, 0.7206699512705582, 0.7206539353252563, 0.7206705653004101, 0.7206605873153178, 0.7206788547034098, 0.7206740448029038, 1.3758735748137574, 1.3758510603858571, 3.9964575007771925, 7.272438572025462, 8.582882251549735, 2.031133996118251, 2.0309641145259114, 2.686267210905107, 1.3754912388926854, 1.375743912176713, 1.375954831430816, 1.3758557679480545, 0.7207836491314552, 0.7207709591811841, 0.7207629256239559, 0.7207490076139812, 0.720747370201043, 0.720735498957241, 0.7207215297781119, 1.2906491237633555, 1.2904298574896156, 1.2903294380034673, 0.6761163499255521, 0.6761110450963488, 0.6761130460406974, 0.6761083461481575, 0.6761009473074265, 0.6760999235684575, 0.6760995512997414, 0.6761023433151117, 0.6760907564513253, 0.6760896861787667, 0.6760771221096008, 0.6760836368121312, 0.6760801467929185, 0.676081310132656, 0.6760796814570235, 0.6760673035222156, 0.6760556701248397, 0.6760635808350554, 0.6760595324127685, 0.6760518543705004, 0.6760425476525997, 0.6760500395605098, 0.6760482712841087, 0.6760397556372296, 0.6760414308464517, 0.6760402675067141, 0.6760410120441461, 2.5201532970536213, 1.9051298265145047, 1.9052711024922369, 2.5198450585567507, 1.290560244607404, 1.905134107604739, 4.363646406121164, 1.2906919346656986, 3.749177802103286, 1.2905884439626432, 1.2906448426731212, 1.9052342478893503, 1.008910575443321, 1.290643539732615, 1.2906598264889413, 1.2906613155638054, 1.290602031770778, 1.29072460124553, 0.6762371045903134, 0.6761267734496009, 0.6761226319601351, 0.6761169083286261, 0.6761130460406974, 0.6761124411040339, 1.3005063430811905, 1.9199615219990254, 0.6813390921270258, 0.6813390463515149, 0.6813343772494013, 0.6813266869635672, 0.6813172572083183, 0.6812995878611041, 0.681301830861139, 0.681295239187567, 0.6813112148408771, 0.681304623167305, 0.6812939116977503, 0.6812827424730865, 0.6812905243099425, 0.6812908905140298, 0.6812978941672002, 0.6812866791670255, 0.6812962920243181, 0.6812888763915494, 0.6812888306160385, 0.6812784853505712, 0.6812872742486673, 0.6812871369221346, 0.6812782564730167, 0.6812738162484576, 0.681274182452545, 0.6812732211668157, 0.6812645238197415, 0.6812750064117414, 3.777895029480492, 5.636140909048459, 5.635742112797346, 1.91985147767078, 1.3005452522654701, 1.3005960630825886, 1.9200191991427813, 1.9198547735075662, 1.3005517523880206, 1.919884802242728, 2.5393120580989033, 1.3005467170818197, 1.3005267589590597, 1.3004486659374346, 0.681378871046013, 0.6813422048617682, 0.6813325462289647, 0.6813317222697681, 0.6813277398003182, 0.6813196833103968, 0.6813169367797418, 0.6813125881062047, 1.8523038109562662, 1.2548170780731478, 2.4497857040525433, 0.6573554240854794, 0.6573226455291459, 0.6573196096628545, 0.6573250214245042, 0.6573351409788086, 0.6573135379302719, 0.657303726362403, 0.6573089621318039, 0.6572932548236011, 0.6573004265077386, 0.6573039903507761, 0.6572948827519023, 0.6572962906898924, 0.6572973026453228, 0.657287975056138, 0.6572755676025996, 0.6572668559862855, 0.6572769315425276, 0.6572702878351365, 0.6572634681354966, 0.6572810673603737, 0.6572773275250874, 0.6572773275250874, 0.6572715197808779, 0.6572705958215719, 0.6572588923370286, 0.6572534805753789, 0.6572686599068354, 1.254817342061521, 1.8524292934296398, 1.254774399952821, 2.7105914333820067, 2.450041596782256, 4.840107147090401, 1.254788127348225, 2.449746985757814, 1.8524497085304972, 1.2545844163202728, 1.8522054312892033, 1.2547333937588574, 1.2548930187284926, 1.2547437773015349, 1.2548190139878843, 1.2550112855196665, 0.6573668195835873, 0.6573528721978722, 0.657333645044694, 0.6573291572423504, 0.6573255054031883, 0.6573193896725436, 1.2396157022816052, 2.4204080473774776, 0.6494294855455833, 0.6494152279613011, 0.6494059089980806, 0.6494083138918149, 0.6494131666238145, 0.649395001087214, 0.649411062341797, 0.6493889459083473, 0.6493953446434618, 0.6493945286973734, 0.649380571724808, 0.6493883876294446, 0.6493843078990025, 0.6493843078990025, 0.6493775656076402, 0.6493754183810916, 0.64936605647334, 0.6493654552499064, 0.649370522704561, 0.649379154555286, 0.6493794981115337, 0.6493768355506137, 0.6493637374686676, 0.649367559531924, 0.6493572528444911, 0.6493317008485637, 0.6493510688320314, 0.6493666576967736, 1.2396423278908069, 1.2396763399593353, 4.781550580678351, 1.239700045340431, 1.2397185973778102, 1.2396280703065248, 1.830177726608149, 1.2395010403839144, 1.8300829050837664, 1.8300042307030286, 1.2396236899643658, 1.2396352849877277, 1.2396095182691456, 1.239710437916926, 1.2398886577204529, 0.6495070863130468, 0.6494464486353165, 0.6494345100557068, 0.6494345100557068, 0.649422614420628, 0.6494196512479911, 0.6494193076917433, 0.6494147126269295, 0.6494102893402395, 1.3547020037325377, 1.3545557155371453, 0.709670475013402, 0.7096666858255702, 0.7096431843459845, 0.709651231048234, 0.7096445467505982, 0.7096308375541731, 0.7096375644269531, 0.7096255582362951, 0.7096274741177832, 0.7096241532565374, 0.7096191719646686, 0.7096195551409662, 0.7095989487711846, 0.7095886455862936, 0.7096046964156484, 0.7096024825081512, 0.7095962239619572, 0.7095892416383122, 0.7095903060169165, 0.709584175196155, 0.7095734036846782, 0.7095814503869278, 0.7095674005893493, 0.7095658678841589, 0.7095842603464434, 0.7095466239189909, 0.7095734036846782, 0.7095771502973659, 1.3547840034602228, 1.354723972506933, 5.87056537656784, 5.22544533412396, 1.3547176713855948, 1.3546636861027783, 1.9999115391294777, 1.3548076752403853, 1.3547524978535317, 0.7097230127413166, 0.7096857169150175, 0.7096683036810489, 0.7096571064181304, 0.7096503369702063, 0.7096496131927552, 0.7096481656378533, 0.7096448022014632, 0.7096424179933893, 0.7096401615107479, 0.7096380327535391, 0.7096287087969643, 1.293586836501739, 1.2935935930388713, 1.2935750970184714, 1.293389883444329, 1.9094026299377536, 0.6776498054525546, 0.677626622084519, 0.6776228637607391, 0.6775942751629975, 0.6776102374819728, 0.6776074504104057, 0.677604367740339, 0.6775922482018578, 0.6775958376122094, 0.6776058879611938, 0.6775836336170139, 0.6775859984050103, 0.6775672490144679, 0.6775787351275929, 0.6775708806531765, 0.6775622660683327, 0.6775795374663774, 0.6775742589217427, 0.6775711762516761, 0.6775662355338979, 0.677564630856329, 0.6775589722564807, 0.677559183398266, 0.6775512444671354, 0.6775575787206971, 6.221382906230465, 1.293422483735993, 1.9096779588258996, 6.2212923686328905, 1.9094965458038942, 1.2935864142181681, 1.2936340478049517, 1.2934430067175327, 1.2933716407940714, 1.2935969713074376, 0.6777163151149518, 0.6776633607551765, 0.677660911510466, 0.6776283956755162, 0.6776249329502358, 0.6776220614219546, 0.6776185986966742, 0.6776166984206057, 0.6776118421595418, 1.2301611397283503, 1.230093137561953, 0.6443937537167588, 0.6443935197643514, 0.6443834598108363, 0.6443729319525064, 0.6443692277060571, 0.64436400276896, 0.6443750375241725, 0.644364392689639, 0.6443702025077542, 0.6443555414902282, 0.6443647436182499, 0.644355307537821, 0.6443489128386872, 0.6443458324653241, 0.6443372152183208, 0.6443339398846182, 0.6443320682653595, 0.6443409974489059, 0.6443460274256635, 0.644343103020572, 0.6443427520919609, 0.6443310934636624, 0.6443353435990622, 0.6443371762262529, 0.6443410754330418, 0.6443142488903346, 0.6443303916064403, 0.6443295337809468, 2.401640776967539, 1.230030672269196, 2.401712678340725, 2.9875398002003215, 1.230068416590912, 1.2300875227041772, 1.2301342352015072, 1.2300207682839523, 1.2300008043451935, 1.2302274262437602, 1.2299288249878717, 0.6444848391873459, 0.6444778596071938, 0.644439764356867, 0.6444274818554822, 0.644425454267952, 0.644404515527496, 0.6443944945660487, 0.6443868131286746, 0.6443773380561778, 0.6443739847383394, 0.6443739067542037, 1.2189211503703965, 1.799604234201662, 2.3800571019036965, 0.6386516367655716, 0.6386440335653683, 0.6386275112264651, 0.6386301431034584, 0.6386066755336004, 0.6385983412564544, 0.6386003151641996, 0.6385957093794611, 0.6385802836559717, 0.6385896414408373, 0.638599876518034, 0.638585108763793, 0.6385722418096029, 0.6385669049479218, 0.6385643461786226, 0.6385589362092472, 0.638555280824534, 0.6385512599013496, 0.6385239907313899, 0.6385523565167636, 0.6385494322089931, 0.638552722055235, 0.6385430718395924, 0.6385363459317203, 0.6385374425471342, 0.6385376618702169, 0.6385236251929186, 0.6385394164548792, 1.7997491336516895, 1.219078624343837, 3.5413814519651097, 1.2190614440356855, 1.2189553647713112, 1.2190678044050862, 1.7997541049748993, 1.2190789898823082, 0.638770582984136, 0.6387177261211845, 0.6386257566418028, 0.6386204928878159, 0.6386100384875364, 0.6386098922721479, 0.638604336087384, 0.6386037512258299, 0.6386009731334479, 0.6385955631640725], \"Total\": [12.0, 27.0, 13.0, 18.0, 18.0, 34.0, 9.0, 9.0, 7.0, 9.0, 6.0, 11.0, 4.0, 6.0, 4.0, 6.0, 3.0, 4.0, 7.0, 4.0, 6.0, 2.0, 3.0, 4.0, 5.0, 7.0, 3.0, 3.0, 4.0, 4.0, 1.93733878064036, 1.9373113452336568, 1.9373105533318777, 1.9372917396259925, 1.9372625092602673, 7.041527713356035, 6.381386324360518, 1.2770395929715324, 1.2770398573275599, 1.277052029359957, 1.27703661085257, 1.2770363410056749, 1.2770349990822523, 1.2770256796325026, 1.277041217299788, 1.2770233166818008, 1.2770128433181422, 1.2770039796257104, 1.2770243812767983, 1.2769979556480349, 1.277001249422861, 1.2770003352399948, 1.2770128543581833, 1.276993558645031, 1.2770057869032014, 1.276990092390545, 1.2769982062053509, 1.2769978688910664, 1.2769853624632719, 1.2769888091435098, 13.8852544061352, 3.811147376741153, 9.434632471732538, 3.8879923223361423, 9.479678469077973, 27.668329059921255, 3.1082519447742776, 18.99534290139909, 3.863296881135641, 4.377549911990179, 18.94474961698641, 10.630561998445813, 4.934802428420144, 6.329689528552017, 34.834744111844884, 7.326045409395195, 3.7913190422302208, 10.711101314852721, 3.7778079148227133, 1.9271246389896495, 1.92710912985135, 1.9270673984963884, 1.926797637090011, 3.242526752058645, 6.420278962361654, 1.2719167756732468, 1.2718927680445955, 1.2718970438604233, 1.2718979336062954, 1.2718872679782154, 1.2718992575051649, 1.271881344279296, 1.2718754989553605, 1.2718694534078627, 1.2718785392286587, 1.2718837191189472, 1.2718747456355444, 1.2718554224084426, 1.271855605456234, 1.2718685457938788, 1.2718739474795158, 1.2718695642497475, 1.2718678031950386, 1.2718549677095996, 1.2718283070608751, 1.2718599066635174, 1.2718442141449549, 1.2718811632027285, 1.2718783850325275, 2.541649499108305, 2.5721554929797925, 11.167733161581769, 27.668329059921255, 34.834744111844884, 6.271271656481388, 6.329689528552017, 10.711101314852721, 3.863296881135641, 10.630561998445813, 18.94474961698641, 18.99534290139909, 2.5771953134998298, 3.638640203571888, 1.886576383195149, 3.7778079148227133, 1.8864948776022437, 3.069840952419497, 2.5621703265555436, 1.845959659222044, 1.845821995419152, 1.8457960787022074, 1.2313399914055148, 1.2313311631362305, 1.2313397845912462, 1.231336324446611, 1.2313229590224257, 1.2313229397717667, 1.2313267882974954, 1.2313372521746453, 1.2313180679144962, 1.2313225534632755, 1.2313103843997895, 1.2313229945986253, 1.2313175180570801, 1.2313204573300338, 1.2313183150887472, 1.2312992968164846, 1.2312814772143437, 1.231301548086508, 1.2313031405353474, 1.2312933242994015, 1.2312809589017968, 1.231296985946968, 1.2312943894291033, 1.2312873796483976, 1.2312905953498623, 1.2312894220332256, 1.2312913502576204, 5.494148159774373, 4.283584726570963, 4.916177090214979, 7.903501302099136, 3.1102289756678294, 6.033105002747303, 27.668329059921255, 3.6890436620439098, 34.834744111844884, 4.352963848197999, 4.872765499607431, 13.8852544061352, 3.7913190422302208, 7.82930485025358, 8.500696216181566, 9.271113898561534, 9.434632471732538, 18.94474961698641, 18.99534290139909, 1.8865229245540125, 6.329689528552017, 1.8764523167445737, 3.069840952419497, 1.886576383195149, 1.855379641594779, 3.07238298244156, 1.2360823064319433, 1.2360867190976095, 1.23608477534273, 1.2360758445224858, 1.236078343087094, 1.2360568014631033, 1.2360613624260257, 1.2360499264611653, 1.236079225074613, 1.2360685809840384, 1.236050628414487, 1.2360331798980129, 1.2360491710189638, 1.2360501181859653, 1.2360635626852032, 1.2360457636758455, 1.23606554662549, 1.2360560068973099, 1.2360576660273677, 1.2360410122996202, 1.2360570917184415, 1.2360568519306587, 1.2360453381649332, 1.236041683916978, 1.2360434758565384, 1.2360455773804082, 1.23604135895749, 1.2360631511327773, 9.271113898561534, 18.94474961698641, 18.99534290139909, 4.916177090214979, 3.155659418478211, 3.7020601024547166, 7.903501302099136, 8.500696216181566, 4.963183311014351, 12.14470984572311, 34.834744111844884, 7.82930485025358, 10.630561998445813, 11.167733161581769, 27.668329059921255, 3.6891893835352305, 5.494148159774373, 4.352963848197999, 2.5109432373617873, 4.774282950996632, 3.096764809859739, 3.047180219834283, 2.4093949362267875, 1.811801160793714, 4.211901979506241, 1.214290425394504, 1.2142500251919865, 1.2142462104730245, 1.21425762276864, 1.2142765373837223, 1.2142443773710514, 1.2142456943443223, 1.2142558478648982, 1.2142308733845644, 1.2142493813295065, 1.2142572251176003, 1.214243140284087, 1.214247054000393, 1.2142500513807828, 1.214237146587476, 1.2142287714215672, 1.2142157030557714, 1.2142371249767603, 1.2142283220130283, 1.2142192564232672, 1.2142542484667596, 1.2142481776108485, 1.2142487891346645, 1.2142403559941342, 1.2142404429428026, 1.2142190991644004, 1.2142105112915225, 1.2142408087230958, 2.4720962290249506, 4.934802428420144, 3.047180219834283, 10.630561998445813, 9.479678469077973, 34.834744111844884, 3.638640203571888, 13.8852544061352, 9.271113898561534, 4.774282950996632, 11.167733161581769, 4.872765499607431, 4.9076368039750555, 7.82930485025358, 9.434632471732538, 27.668329059921255, 2.478677672064912, 4.916177090214979, 4.256336155773973, 3.6891893835352305, 2.474054024986362, 6.420278962361654, 1.797385985744302, 3.597557383886329, 1.2070704656751776, 1.2070618387483114, 1.2070484189597077, 1.207056073523517, 1.2070755782388618, 1.2070446940091448, 1.2070752241679623, 1.2070359271956268, 1.2070605723131096, 1.2070603205290786, 1.2070352206891097, 1.2070569120176262, 1.2070533215973884, 1.2070563641249736, 1.207047967743331, 1.2070472102993186, 1.2070305047383825, 1.207031891191493, 1.2070422172053257, 1.20706182772989, 1.2070633126357841, 1.207062170844757, 1.2070411760136597, 1.2070518313775844, 1.2070352396606445, 1.2069879294290926, 1.2070249339732764, 1.2070557542954086, 2.411984298069163, 3.0551867194030335, 27.668329059921255, 3.5849817361542367, 3.6712677184167024, 4.119571905231593, 9.434632471732538, 4.377549911990179, 11.167733161581769, 13.8852544061352, 6.033105002747303, 6.271271656481388, 7.326045409395195, 18.94474961698641, 34.834744111844884, 7.82930485025358, 7.903501302099136, 1.8230689895444319, 1.8230800407086671, 8.500696216181566, 1.8046119693079654, 9.479678469077973, 18.99534290139909, 4.934802428420144, 1.9069368340381494, 1.9068718553252038, 1.2618396259788185, 1.2618404730802972, 1.2618149085135144, 1.2618294359396245, 1.2618294699965595, 1.2618119291089003, 1.2618243060916228, 1.2618064996419462, 1.261810960881486, 1.2618141151813533, 1.261808919341146, 1.2618112164528297, 1.2617769124394005, 1.2617681268261731, 1.2617990024115104, 1.261796277634334, 1.2617938328610963, 1.2617825806168708, 1.2617854102696267, 1.2617829192369756, 1.2617779999841452, 1.2617937931756826, 1.2617691544570884, 1.2617671645063857, 1.2617999632821366, 1.2617353318574813, 1.2617868188983619, 1.2617945528584675, 2.50453740140168, 2.5621703265555436, 18.94474961698641, 18.99534290139909, 3.8879923223361423, 4.352963848197999, 10.711101314852721, 10.630561998445813, 34.834744111844884, 9.479678469077973, 2.474054024986362, 4.963183311014351, 3.1290891359328654, 3.7913190422302208, 2.4667607368378723, 4.283584726570963, 2.461699459174544, 1.9169874825668605, 3.7778079148227133, 1.9170074068375256, 4.377549911990179, 1.8487239475288164, 1.8487498176357746, 1.8487395388813002, 1.8486147218585622, 3.1198105453471565, 1.2327300452756889, 1.2327141920690645, 1.2327124924856419, 1.2326811665215534, 1.2327105740784285, 1.2327062372117217, 1.23270148605324, 1.2326821223005222, 1.2326893058573407, 1.2327092177434893, 1.232674173984748, 1.2326928152082157, 1.2326592576704554, 1.2326810188030761, 1.2326704589621502, 1.2326564253767724, 1.2326887340184143, 1.2326812042845878, 1.2326806651076496, 1.2326742559697965, 1.2326754899825219, 1.2326677091429161, 1.2326685832627182, 1.2326604728637638, 1.2326729660437108, 12.14470984572311, 2.4389432812107175, 3.717521926097991, 34.834744111844884, 6.271271656481388, 3.7020601024547166, 4.353939626934883, 6.329689528552017, 10.711101314852721, 11.167733161581769, 9.271113898561534, 3.6415423699686524, 8.500696216181566, 10.630561998445813, 1.813282941078454, 1.8230728806596852, 7.903501302099136, 5.494148159774373, 7.326045409395195, 1.7883461510393952, 1.7883129777980211, 1.2025055139928342, 1.2025155559249538, 1.202505642369175, 1.202494306722766, 1.2024926656556651, 1.202489728501296, 1.202511003079958, 1.2024955945848397, 1.2025100421179857, 1.2024832695315908, 1.2025027307669567, 1.2024860476632886, 1.2024806456989374, 1.2024773943653175, 1.202461412843106, 1.2024671698900118, 1.2024673284370861, 1.2024871062805298, 1.2024972220926307, 1.2024919305685953, 1.2024928401895596, 1.2024731909522193, 1.2024819077065887, 1.2024874420469749, 1.202494743772964, 1.202449859896126, 1.2024828464879573, 1.2024832424654748, 4.774282950996632, 2.448568593487007, 7.82930485025358, 12.14470984572311, 3.5849817361542367, 3.638640203571888, 3.6432702892266184, 4.872765499607431, 7.326045409395195, 8.500696216181566, 10.711101314852721, 18.99534290139909, 18.94474961698641, 6.381386324360518, 3.096764809859739, 6.033105002747303, 1.8628592237992898, 2.9441941349502088, 3.6891893835352305, 2.415989401051828, 7.041527713356035, 1.8171577020522225, 1.7777172839083044, 2.9441941349502088, 4.119571905231593, 1.1972809365302184, 1.1972707490305228, 1.19725911111505, 1.1972728421916017, 1.1972454924602989, 1.1972366350258852, 1.1972485141929479, 1.1972465200566669, 1.1972210831470624, 1.197241484281225, 1.1972606743824525, 1.1972410614244893, 1.19722390431461, 1.1972148831913623, 1.1972230834155668, 1.1972166645888769, 1.1972127705861606, 1.1972173085445745, 1.1971724655026734, 1.197230754059248, 1.1972256238229948, 1.1972328327297537, 1.1972191754525596, 1.1972112045291277, 1.1972147891100837, 1.1972186202593813, 1.1971948714999168, 1.1972252922904647, 4.256336155773973, 3.6333034951979544, 34.834744111844884, 4.9076368039750555, 6.033105002747303, 7.326045409395195, 27.668329059921255, 8.500696216181566, 18.99534290139909, 12.14470984572311, 7.903501302099136, 3.6432702892266184, 10.711101314852721, 1.8118819462238618, 1.852412669207629, 1.7830785932102642, 1.813282941078454, 1.813243743530072], \"Category\": [\"Default\", \"Default\", \"Default\", \"Default\", \"Default\", \"Default\", \"Default\", \"Default\", \"Default\", \"Default\", \"Default\", \"Default\", \"Default\", \"Default\", \"Default\", \"Default\", \"Default\", \"Default\", \"Default\", \"Default\", \"Default\", \"Default\", \"Default\", \"Default\", \"Default\", \"Default\", \"Default\", \"Default\", \"Default\", \"Default\", \"Topic1\", \"Topic1\", \"Topic1\", \"Topic1\", \"Topic1\", \"Topic1\", \"Topic1\", \"Topic1\", \"Topic1\", \"Topic1\", \"Topic1\", \"Topic1\", \"Topic1\", \"Topic1\", \"Topic1\", \"Topic1\", \"Topic1\", \"Topic1\", \"Topic1\", \"Topic1\", \"Topic1\", \"Topic1\", \"Topic1\", \"Topic1\", \"Topic1\", \"Topic1\", \"Topic1\", \"Topic1\", \"Topic1\", \"Topic1\", \"Topic1\", \"Topic1\", \"Topic1\", \"Topic1\", \"Topic1\", \"Topic1\", \"Topic1\", \"Topic1\", \"Topic1\", \"Topic1\", \"Topic1\", \"Topic1\", \"Topic1\", \"Topic1\", \"Topic1\", \"Topic1\", \"Topic1\", \"Topic1\", \"Topic1\", \"Topic2\", \"Topic2\", \"Topic2\", \"Topic2\", \"Topic2\", \"Topic2\", \"Topic2\", \"Topic2\", \"Topic2\", \"Topic2\", \"Topic2\", \"Topic2\", \"Topic2\", \"Topic2\", \"Topic2\", \"Topic2\", \"Topic2\", \"Topic2\", \"Topic2\", \"Topic2\", \"Topic2\", \"Topic2\", \"Topic2\", \"Topic2\", \"Topic2\", \"Topic2\", \"Topic2\", \"Topic2\", \"Topic2\", \"Topic2\", \"Topic2\", \"Topic2\", \"Topic2\", \"Topic2\", \"Topic2\", \"Topic2\", \"Topic2\", \"Topic2\", \"Topic2\", \"Topic2\", \"Topic2\", \"Topic2\", \"Topic2\", \"Topic2\", \"Topic2\", \"Topic2\", \"Topic2\", \"Topic2\", \"Topic2\", \"Topic3\", \"Topic3\", \"Topic3\", \"Topic3\", \"Topic3\", \"Topic3\", \"Topic3\", \"Topic3\", \"Topic3\", \"Topic3\", \"Topic3\", \"Topic3\", \"Topic3\", \"Topic3\", \"Topic3\", \"Topic3\", \"Topic3\", \"Topic3\", \"Topic3\", \"Topic3\", \"Topic3\", \"Topic3\", \"Topic3\", \"Topic3\", \"Topic3\", \"Topic3\", \"Topic3\", \"Topic3\", \"Topic3\", \"Topic3\", \"Topic3\", \"Topic3\", \"Topic3\", \"Topic3\", \"Topic3\", \"Topic3\", \"Topic3\", \"Topic3\", \"Topic3\", \"Topic3\", \"Topic3\", \"Topic3\", \"Topic3\", \"Topic3\", \"Topic3\", \"Topic3\", \"Topic3\", \"Topic3\", \"Topic3\", \"Topic3\", \"Topic3\", \"Topic3\", \"Topic3\", \"Topic3\", \"Topic4\", \"Topic4\", \"Topic4\", \"Topic4\", \"Topic4\", \"Topic4\", \"Topic4\", \"Topic4\", \"Topic4\", \"Topic4\", \"Topic4\", \"Topic4\", \"Topic4\", \"Topic4\", \"Topic4\", \"Topic4\", \"Topic4\", \"Topic4\", \"Topic4\", \"Topic4\", \"Topic4\", \"Topic4\", \"Topic4\", \"Topic4\", \"Topic4\", \"Topic4\", \"Topic4\", \"Topic4\", \"Topic4\", \"Topic4\", \"Topic4\", \"Topic4\", \"Topic4\", \"Topic4\", \"Topic4\", \"Topic4\", \"Topic4\", \"Topic4\", \"Topic4\", \"Topic4\", \"Topic4\", \"Topic4\", \"Topic4\", \"Topic4\", \"Topic4\", \"Topic4\", \"Topic4\", \"Topic4\", \"Topic4\", \"Topic4\", \"Topic4\", \"Topic4\", \"Topic5\", \"Topic5\", \"Topic5\", \"Topic5\", \"Topic5\", \"Topic5\", \"Topic5\", \"Topic5\", \"Topic5\", \"Topic5\", \"Topic5\", \"Topic5\", \"Topic5\", \"Topic5\", \"Topic5\", \"Topic5\", \"Topic5\", \"Topic5\", \"Topic5\", \"Topic5\", \"Topic5\", \"Topic5\", \"Topic5\", \"Topic5\", \"Topic5\", \"Topic5\", \"Topic5\", \"Topic5\", \"Topic5\", \"Topic5\", \"Topic5\", \"Topic5\", \"Topic5\", \"Topic5\", \"Topic5\", \"Topic5\", \"Topic5\", \"Topic5\", \"Topic5\", \"Topic5\", \"Topic5\", \"Topic5\", \"Topic5\", \"Topic5\", \"Topic5\", \"Topic5\", \"Topic5\", \"Topic5\", \"Topic5\", \"Topic5\", \"Topic5\", \"Topic5\", \"Topic5\", \"Topic6\", \"Topic6\", \"Topic6\", \"Topic6\", \"Topic6\", \"Topic6\", \"Topic6\", \"Topic6\", \"Topic6\", \"Topic6\", \"Topic6\", \"Topic6\", \"Topic6\", \"Topic6\", \"Topic6\", \"Topic6\", \"Topic6\", \"Topic6\", \"Topic6\", \"Topic6\", \"Topic6\", \"Topic6\", \"Topic6\", \"Topic6\", \"Topic6\", \"Topic6\", \"Topic6\", \"Topic6\", \"Topic6\", \"Topic6\", \"Topic6\", \"Topic6\", \"Topic6\", \"Topic6\", \"Topic6\", \"Topic6\", \"Topic6\", \"Topic6\", \"Topic6\", \"Topic6\", \"Topic6\", \"Topic6\", \"Topic6\", \"Topic6\", \"Topic6\", \"Topic6\", \"Topic6\", \"Topic6\", \"Topic6\", \"Topic6\", \"Topic6\", \"Topic6\", \"Topic6\", \"Topic6\", \"Topic7\", \"Topic7\", \"Topic7\", \"Topic7\", \"Topic7\", \"Topic7\", \"Topic7\", \"Topic7\", \"Topic7\", \"Topic7\", \"Topic7\", \"Topic7\", \"Topic7\", \"Topic7\", \"Topic7\", \"Topic7\", \"Topic7\", \"Topic7\", \"Topic7\", \"Topic7\", \"Topic7\", \"Topic7\", \"Topic7\", \"Topic7\", \"Topic7\", \"Topic7\", \"Topic7\", \"Topic7\", \"Topic7\", \"Topic7\", \"Topic7\", \"Topic7\", \"Topic7\", \"Topic7\", \"Topic7\", \"Topic7\", \"Topic7\", \"Topic7\", \"Topic7\", \"Topic7\", \"Topic7\", \"Topic7\", \"Topic7\", \"Topic7\", \"Topic7\", \"Topic7\", \"Topic7\", \"Topic7\", \"Topic7\", \"Topic7\", \"Topic7\", \"Topic8\", \"Topic8\", \"Topic8\", \"Topic8\", \"Topic8\", \"Topic8\", \"Topic8\", \"Topic8\", \"Topic8\", \"Topic8\", \"Topic8\", \"Topic8\", \"Topic8\", \"Topic8\", \"Topic8\", \"Topic8\", \"Topic8\", \"Topic8\", \"Topic8\", \"Topic8\", \"Topic8\", \"Topic8\", \"Topic8\", \"Topic8\", \"Topic8\", \"Topic8\", \"Topic8\", \"Topic8\", \"Topic8\", \"Topic8\", \"Topic8\", \"Topic8\", \"Topic8\", \"Topic8\", \"Topic8\", \"Topic8\", \"Topic8\", \"Topic8\", \"Topic8\", \"Topic8\", \"Topic8\", \"Topic8\", \"Topic8\", \"Topic8\", \"Topic8\", \"Topic8\", \"Topic8\", \"Topic8\", \"Topic8\", \"Topic9\", \"Topic9\", \"Topic9\", \"Topic9\", \"Topic9\", \"Topic9\", \"Topic9\", \"Topic9\", \"Topic9\", \"Topic9\", \"Topic9\", \"Topic9\", \"Topic9\", \"Topic9\", \"Topic9\", \"Topic9\", \"Topic9\", \"Topic9\", \"Topic9\", \"Topic9\", \"Topic9\", \"Topic9\", \"Topic9\", \"Topic9\", \"Topic9\", \"Topic9\", \"Topic9\", \"Topic9\", \"Topic9\", \"Topic9\", \"Topic9\", \"Topic9\", \"Topic9\", \"Topic9\", \"Topic9\", \"Topic9\", \"Topic9\", \"Topic9\", \"Topic9\", \"Topic9\", \"Topic9\", \"Topic9\", \"Topic9\", \"Topic9\", \"Topic9\", \"Topic9\", \"Topic9\", \"Topic9\", \"Topic9\", \"Topic9\", \"Topic9\", \"Topic9\", \"Topic10\", \"Topic10\", \"Topic10\", \"Topic10\", \"Topic10\", \"Topic10\", \"Topic10\", \"Topic10\", \"Topic10\", \"Topic10\", \"Topic10\", \"Topic10\", \"Topic10\", \"Topic10\", \"Topic10\", \"Topic10\", \"Topic10\", \"Topic10\", \"Topic10\", \"Topic10\", \"Topic10\", \"Topic10\", \"Topic10\", \"Topic10\", \"Topic10\", \"Topic10\", \"Topic10\", \"Topic10\", \"Topic10\", \"Topic10\", \"Topic10\", \"Topic10\", \"Topic10\", \"Topic10\", \"Topic10\", \"Topic10\", \"Topic10\", \"Topic10\", \"Topic10\", \"Topic10\", \"Topic10\", \"Topic10\", \"Topic10\", \"Topic10\", \"Topic10\", \"Topic10\", \"Topic10\", \"Topic10\", \"Topic10\"], \"logprob\": [30.0, 29.0, 28.0, 27.0, 26.0, 25.0, 24.0, 23.0, 22.0, 21.0, 20.0, 19.0, 18.0, 17.0, 16.0, 15.0, 14.0, 13.0, 12.0, 11.0, 10.0, 9.0, 8.0, 7.0, 6.0, 5.0, 4.0, 3.0, 2.0, 1.0, -5.1398, -5.1398, -5.1398, -5.1398, -5.1399, -3.9216, -4.0734, -5.7863, -5.7863, -5.7863, -5.7863, -5.7863, -5.7863, -5.7863, -5.7863, -5.7863, -5.7863, -5.7863, -5.7863, -5.7863, -5.7863, -5.7863, -5.7863, -5.7863, -5.7863, -5.7864, -5.7864, -5.7864, -5.7864, -5.7864, -3.4747, -4.7503, -3.9215, -4.7503, -3.9215, -3.4748, -5.1397, -4.0734, -5.14, -5.1399, -4.4706, -4.7503, -5.1399, -5.1399, -4.4707, -5.1397, -5.4385, -5.1397, -5.7863, -5.0735, -5.0735, -5.0735, -5.0739, -4.684, -4.0072, -5.72, -5.7201, -5.7201, -5.7201, -5.7201, -5.7201, -5.7201, -5.7201, -5.7201, -5.7201, -5.7201, -5.7201, -5.7201, -5.7201, -5.7201, -5.7201, -5.7201, -5.7201, -5.7202, -5.7202, -5.7202, -5.7202, -5.7201, -5.7201, -5.0735, -5.0735, -4.0072, -3.4085, -3.2428, -4.684, -4.6841, -4.4044, -5.0738, -5.0736, -5.0734, -5.0735, -5.72, -5.72, -5.72, -5.72, -5.72, -5.7201, -5.7201, -5.0425, -5.0426, -5.0427, -5.689, -5.689, -5.689, -5.689, -5.689, -5.689, -5.689, -5.689, -5.689, -5.689, -5.6891, -5.6891, -5.6891, -5.6891, -5.6891, -5.6891, -5.6891, -5.6891, -5.6891, -5.6891, -5.6891, -5.6891, -5.6891, -5.6891, -5.6891, -5.6891, -5.6891, -4.3733, -4.6531, -4.653, -4.3734, -5.0425, -4.6531, -3.8243, -5.0424, -3.9761, -5.0425, -5.0425, -4.653, -5.2887, -5.0425, -5.0425, -5.0425, -5.0425, -5.0424, -5.6888, -5.689, -5.689, -5.689, -5.689, -5.689, -5.0184, -4.6289, -5.6649, -5.6649, -5.6649, -5.6649, -5.6649, -5.6649, -5.6649, -5.665, -5.6649, -5.6649, -5.665, -5.665, -5.665, -5.665, -5.6649, -5.665, -5.665, -5.665, -5.665, -5.665, -5.665, -5.665, -5.665, -5.665, -5.665, -5.665, -5.665, -5.665, -3.952, -3.552, -3.5521, -4.6289, -5.0184, -5.0184, -4.6289, -4.6289, -5.0184, -4.6289, -4.3493, -5.0184, -5.0184, -5.0185, -5.6648, -5.6649, -5.6649, -5.6649, -5.6649, -5.6649, -5.6649, -5.6649, -4.6252, -5.0146, -4.3456, -5.6611, -5.6612, -5.6612, -5.6612, -5.6612, -5.6612, -5.6612, -5.6612, -5.6612, -5.6612, -5.6612, -5.6612, -5.6612, -5.6612, -5.6612, -5.6612, -5.6613, -5.6612, -5.6612, -5.6613, -5.6612, -5.6612, -5.6612, -5.6612, -5.6612, -5.6613, -5.6613, -5.6613, -5.0146, -4.6251, -5.0146, -4.2444, -4.3455, -3.6647, -5.0146, -4.3456, -4.6251, -5.0148, -4.6252, -5.0147, -5.0145, -5.0147, -5.0146, -5.0144, -5.6611, -5.6611, -5.6612, -5.6612, -5.6612, -5.6612, -5.0026, -4.3334, -5.649, -5.649, -5.6491, -5.649, -5.649, -5.6491, -5.649, -5.6491, -5.6491, -5.6491, -5.6491, -5.6491, -5.6491, -5.6491, -5.6491, -5.6491, -5.6491, -5.6491, -5.6491, -5.6491, -5.6491, -5.6491, -5.6491, -5.6491, -5.6491, -5.6492, -5.6491, -5.6491, -5.0025, -5.0025, -3.6526, -5.0025, -5.0025, -5.0025, -4.6129, -5.0026, -4.613, -4.613, -5.0025, -5.0025, -5.0026, -5.0025, -5.0023, -5.6489, -5.649, -5.649, -5.649, -5.649, -5.649, -5.649, -5.649, -5.649, -4.9051, -4.9052, -5.5517, -5.5517, -5.5517, -5.5517, -5.5517, -5.5517, -5.5517, -5.5517, -5.5517, -5.5517, -5.5517, -5.5517, -5.5518, -5.5518, -5.5518, -5.5518, -5.5518, -5.5518, -5.5518, -5.5518, -5.5518, -5.5518, -5.5518, -5.5518, -5.5518, -5.5518, -5.5518, -5.5518, -4.9051, -4.9051, -3.4388, -3.5552, -4.9051, -4.9052, -4.5156, -4.9051, -4.9051, -5.5516, -5.5516, -5.5517, -5.5517, -5.5517, -5.5517, -5.5517, -5.5517, -5.5517, -5.5517, -5.5517, -5.5517, -4.9431, -4.9431, -4.9431, -4.9433, -4.5537, -5.5897, -5.5897, -5.5897, -5.5897, -5.5897, -5.5897, -5.5897, -5.5897, -5.5897, -5.5897, -5.5898, -5.5898, -5.5898, -5.5898, -5.5898, -5.5898, -5.5898, -5.5898, -5.5898, -5.5898, -5.5898, -5.5898, -5.5898, -5.5898, -5.5898, -3.3725, -4.9432, -4.5536, -3.3726, -4.5537, -4.9431, -4.9431, -4.9432, -4.9433, -4.9431, -5.5896, -5.5896, -5.5896, -5.5897, -5.5897, -5.5897, -5.5897, -5.5897, -5.5897, -4.9137, -4.9137, -5.5602, -5.5602, -5.5603, -5.5603, -5.5603, -5.5603, -5.5603, -5.5603, -5.5603, -5.5603, -5.5603, -5.5603, -5.5603, -5.5603, -5.5603, -5.5603, -5.5603, -5.5603, -5.5603, -5.5603, -5.5603, -5.5603, -5.5603, -5.5603, -5.5603, -5.5604, -5.5603, -5.5603, -4.2447, -4.9138, -4.2446, -4.0264, -4.9137, -4.9137, -4.9137, -4.9138, -4.9138, -4.9136, -4.9138, -5.5601, -5.5601, -5.5602, -5.5602, -5.5602, -5.5602, -5.5602, -5.5603, -5.5603, -5.5603, -5.5603, -4.8583, -4.4687, -4.1891, -5.5046, -5.5046, -5.5047, -5.5047, -5.5047, -5.5047, -5.5047, -5.5047, -5.5047, -5.5047, -5.5047, -5.5047, -5.5048, -5.5048, -5.5048, -5.5048, -5.5048, -5.5048, -5.5048, -5.5048, -5.5048, -5.5048, -5.5048, -5.5048, -5.5048, -5.5048, -5.5048, -5.5048, -4.4686, -4.8581, -3.7917, -4.8581, -4.8582, -4.8581, -4.4686, -4.8581, -5.5044, -5.5045, -5.5047, -5.5047, -5.5047, -5.5047, -5.5047, -5.5047, -5.5047, -5.5047], \"loglift\": [30.0, 29.0, 28.0, 27.0, 26.0, 25.0, 24.0, 23.0, 22.0, 21.0, 20.0, 19.0, 18.0, 17.0, 16.0, 15.0, 14.0, 13.0, 12.0, 11.0, 10.0, 9.0, 8.0, 7.0, 6.0, 5.0, 4.0, 3.0, 2.0, 1.0, 1.7564, 1.7564, 1.7564, 1.7564, 1.7563, 1.684, 1.6307, 1.5267, 1.5267, 1.5266, 1.5266, 1.5266, 1.5266, 1.5266, 1.5266, 1.5266, 1.5266, 1.5266, 1.5266, 1.5266, 1.5266, 1.5266, 1.5266, 1.5266, 1.5266, 1.5266, 1.5266, 1.5266, 1.5266, 1.5266, 1.4519, 1.4693, 1.3916, 1.4493, 1.3868, 0.7624, 1.2837, 0.5399, 1.066, 0.9411, 0.1453, 0.4434, 0.8213, 0.5723, -0.4639, 0.4263, 0.7863, 0.0465, 0.442, 1.828, 1.828, 1.828, 1.8277, 1.6971, 1.6908, 1.5969, 1.5969, 1.5969, 1.5969, 1.5969, 1.5969, 1.5969, 1.5969, 1.5969, 1.5969, 1.5969, 1.5969, 1.5969, 1.5969, 1.5969, 1.5968, 1.5968, 1.5968, 1.5968, 1.5968, 1.5968, 1.5968, 1.5968, 1.5968, 1.5512, 1.5392, 1.1373, 0.8287, 0.764, 1.0375, 1.0282, 0.7818, 1.1322, 0.1202, -0.4575, -0.4602, 0.8908, 0.5458, 1.2027, 0.5083, 1.2027, 0.7158, 0.8965, 1.902, 1.9019, 1.9018, 1.6604, 1.6604, 1.6604, 1.6604, 1.6604, 1.6604, 1.6603, 1.6603, 1.6603, 1.6603, 1.6603, 1.6603, 1.6603, 1.6603, 1.6603, 1.6603, 1.6603, 1.6603, 1.6603, 1.6603, 1.6603, 1.6603, 1.6603, 1.6603, 1.6603, 1.6603, 1.6603, 1.4805, 1.4496, 1.3119, 1.1167, 1.3802, 1.1071, 0.4129, 1.2097, 0.0308, 1.0441, 0.9313, 0.2736, 0.936, 0.4571, 0.3749, 0.2881, 0.2706, -0.4265, -1.0756, 1.2337, 0.0232, 1.2391, 0.7468, 1.2337, 1.9209, 1.8061, 1.6806, 1.6806, 1.6806, 1.6806, 1.6806, 1.6806, 1.6806, 1.6806, 1.6806, 1.6806, 1.6806, 1.6806, 1.6806, 1.6806, 1.6806, 1.6806, 1.6806, 1.6806, 1.6806, 1.6806, 1.6806, 1.6806, 1.6806, 1.6806, 1.6806, 1.6806, 1.6806, 1.6806, 1.3785, 1.064, 1.0612, 1.336, 1.3899, 1.2302, 0.8613, 0.7884, 0.937, 0.4317, -0.3424, 0.4812, 0.1753, 0.126, -1.4276, 0.5872, 0.1889, 0.4217, 0.9719, 0.3293, 0.7622, 0.7783, 2.0529, 1.9486, 1.774, 1.7022, 1.7022, 1.7022, 1.7022, 1.7022, 1.7022, 1.7022, 1.7022, 1.7021, 1.7021, 1.7021, 1.7021, 1.7021, 1.7021, 1.7021, 1.7021, 1.7021, 1.7021, 1.7021, 1.7021, 1.7021, 1.7021, 1.7021, 1.7021, 1.7021, 1.7021, 1.7021, 1.7021, 1.6378, 1.3361, 1.4286, 0.9493, 0.9628, 0.3422, 1.2512, 0.581, 0.7055, 0.9794, 0.5192, 0.9591, 0.9521, 0.4849, 0.2985, -0.7773, 0.9886, 0.3038, 0.4479, 0.5909, 0.9904, 0.0368, 1.9686, 1.9438, 1.7203, 1.7202, 1.7202, 1.7202, 1.7202, 1.7202, 1.7202, 1.7202, 1.7202, 1.7202, 1.7202, 1.7202, 1.7202, 1.7202, 1.7202, 1.7202, 1.7202, 1.7202, 1.7202, 1.7202, 1.7202, 1.7202, 1.7202, 1.7202, 1.7202, 1.7202, 1.7202, 1.7202, 1.6745, 1.4381, 0.5846, 1.2782, 1.2545, 1.1392, 0.7001, 1.0783, 0.5315, 0.3136, 0.7577, 0.719, 0.5635, -0.3865, -0.9955, -0.1493, -0.1588, 1.3079, 1.3079, -0.2317, 1.3181, -0.3407, -1.0358, 0.3121, 2.0068, 2.0068, 1.7732, 1.7732, 1.7732, 1.7732, 1.7732, 1.7732, 1.7732, 1.7732, 1.7732, 1.7732, 1.7732, 1.7732, 1.7732, 1.7732, 1.7732, 1.7732, 1.7732, 1.7732, 1.7732, 1.7732, 1.7731, 1.7731, 1.7731, 1.7731, 1.7731, 1.7731, 1.7731, 1.7731, 1.7343, 1.7115, 1.1772, 1.0581, 1.2945, 1.1815, 0.6706, 0.2887, -0.8982, -0.2433, 1.1, 0.4038, 0.865, 0.6731, 1.1029, 0.551, 1.1049, 1.355, 0.6766, 1.355, 0.5293, 1.9999, 1.9999, 1.9998, 1.9998, 1.866, 1.7586, 1.7586, 1.7586, 1.7585, 1.7585, 1.7585, 1.7585, 1.7585, 1.7585, 1.7585, 1.7585, 1.7585, 1.7585, 1.7585, 1.7585, 1.7585, 1.7585, 1.7585, 1.7585, 1.7585, 1.7585, 1.7585, 1.7585, 1.7585, 1.7585, 1.688, 1.7227, 1.6908, 0.6343, 1.1678, 1.3055, 1.1433, 0.769, 0.2429, 0.2013, -0.259, 0.6754, -0.1723, -0.396, 1.3726, 1.3672, -0.0995, 0.2641, -0.0237, 2.0625, 2.0625, 1.8128, 1.8128, 1.8128, 1.8128, 1.8128, 1.8128, 1.8128, 1.8128, 1.8128, 1.8128, 1.8128, 1.8128, 1.8128, 1.8128, 1.8128, 1.8128, 1.8128, 1.8128, 1.8128, 1.8128, 1.8127, 1.8127, 1.8127, 1.8127, 1.8127, 1.8127, 1.8127, 1.8127, 1.7496, 1.7482, 1.255, 1.0342, 1.367, 1.3521, 1.3509, 1.06, 0.6522, 0.5037, 0.2723, -0.9468, -0.9442, 0.1439, 0.8669, 0.2, 1.3751, 0.9174, 0.6918, 1.1151, 0.0454, 1.3999, 2.1239, 2.009, 1.9526, 1.8728, 1.8728, 1.8728, 1.8728, 1.8728, 1.8727, 1.8727, 1.8727, 1.8727, 1.8727, 1.8727, 1.8727, 1.8727, 1.8727, 1.8727, 1.8727, 1.8727, 1.8727, 1.8727, 1.8727, 1.8727, 1.8727, 1.8727, 1.8727, 1.8727, 1.8727, 1.8727, 1.8727, 1.6405, 1.4092, 0.2151, 1.1085, 0.902, 0.7079, -0.2314, 0.5592, -0.8912, -0.4439, -0.0145, 0.7599, -0.3185, 1.4584, 1.4363, 1.4744, 1.4576, 1.4576]}, \"token.table\": {\"Topic\": [2, 6, 8, 5, 6, 7, 1, 5, 6, 8, 5, 7, 1, 2, 6, 8, 4, 6, 7, 10, 7, 3, 4, 7, 4, 5, 2, 4, 8, 3, 6, 7, 8, 1, 4, 5, 9, 7, 1, 2, 7, 10, 6, 1, 9, 1, 2, 3, 8, 10, 1, 3, 5, 6, 5, 7, 1, 2, 3, 7, 9, 8, 10, 5, 6, 4, 5, 8, 8, 3, 4, 7, 10, 9, 5, 7, 10, 1, 1, 10, 7, 3, 9, 2, 3, 2, 3, 4, 5, 8, 9, 5, 3, 4, 1, 4, 5, 3, 5, 8, 9, 4, 5, 7, 1, 2, 3, 5, 9, 5, 4, 5, 9, 5, 1, 6, 10, 2, 3, 1, 5, 7, 4, 5, 7, 8, 9, 10, 1, 2, 3, 4, 5, 6, 7, 8, 10, 10, 1, 9, 4, 4, 10, 6, 8, 7, 2, 7, 6, 8, 6, 5, 1, 5, 7, 8, 1, 3, 4, 9, 5, 1, 4, 7, 8, 10, 10, 2, 9, 10, 5, 4, 6, 2, 3, 4, 5, 7, 8, 3, 4, 7, 8, 10, 4, 7, 7, 2, 7, 2, 3, 7, 7, 6, 3, 7, 3, 6, 7, 9, 10, 6, 3, 1, 3, 5, 6, 7, 5, 6, 10, 2, 10, 1, 1, 3, 4, 8, 1, 7, 9, 2, 1, 3, 6, 7, 2, 10, 1, 2, 3, 4, 7, 8, 9, 10, 6, 3, 9, 1, 10, 9, 1, 9, 2, 3, 5, 7, 3, 2, 9, 8, 1, 6, 10, 4, 2, 10, 2, 5, 8, 6, 4, 7, 4, 1, 5, 6, 2, 4, 7, 10, 6, 4, 6, 6, 3, 3, 3, 6, 6, 4, 10, 8, 1, 2, 3, 4, 5, 6, 10, 3, 9, 2, 8, 8, 7, 6, 8, 9, 7, 10, 7, 1, 1, 3, 4, 5, 6, 7, 8, 3, 7, 9, 3, 5, 6, 3, 4, 5, 6, 8, 9, 2, 3, 4, 5, 9, 10, 1, 10, 7, 2, 1, 2, 3, 4, 6, 7, 9, 10, 4, 6, 5, 1, 6, 3, 7, 8, 3, 6, 3, 5, 7, 10, 8, 10, 3, 1, 1, 6, 9, 8, 5, 8, 8, 2, 5, 5, 10, 4, 4, 8, 7, 1, 3, 6, 7, 8, 9, 10, 8, 6, 9, 10, 8, 1, 2, 2, 3, 8, 8, 3, 1, 2, 3, 5, 1, 3, 5, 6, 8, 10, 2, 3, 5, 6, 6, 2, 7, 5, 6, 3, 4, 1, 2, 8, 3, 4, 5, 8, 9, 3, 8, 3, 4, 2, 1, 3, 5, 9, 10, 2, 9, 5, 9, 3, 10, 4, 5, 3, 8, 9, 1, 2, 1, 3, 5, 6, 1, 2, 5, 7, 10, 9, 3, 1, 5, 4, 3, 3, 3, 3, 4, 5, 6, 8, 9, 10, 4, 8, 3, 7, 8, 9, 2, 9, 10, 4, 2, 9, 9, 1, 10, 2, 3, 4, 5, 7, 2, 10, 6, 8, 6, 1, 2, 4, 5, 6, 8, 9, 2, 4, 9, 10, 5, 3, 4, 8, 8, 9, 9, 3, 9, 5, 5, 1, 2, 4, 5, 7, 8, 10, 10, 9, 2, 1, 2, 4, 5, 10, 9, 3, 5, 7, 2, 10, 1, 1, 5, 8, 2, 7, 5, 7, 3, 10, 4, 9, 3, 2, 9, 2, 4, 7, 10, 8, 2, 1, 4, 8, 9, 10, 6, 2, 5, 9, 1, 1, 5, 6, 8, 9, 6, 2, 9, 10, 6, 1, 2, 1, 2, 3, 4, 6, 7, 9, 2, 3, 9, 10, 9, 1, 5, 6, 2, 3, 3, 6, 1, 7, 4, 4, 1, 3, 1, 4, 5, 9, 1, 3, 4, 7, 7, 10, 9, 5, 5, 5, 2, 7, 2, 1, 3, 4, 5, 6, 8, 9, 10, 6, 8, 2, 7, 4, 1, 9, 4, 5, 6], \"Freq\": [0.78625011666836, 0.8285086997290866, 0.540913640101161, 0.8235574474432323, 0.8284579770703965, 0.5244012188292517, 0.32731223713730806, 0.32731223713730806, 0.32731223713730806, 0.5409090783037588, 0.8235744859999222, 0.7925145418760823, 0.15945729267946723, 0.31891458535893447, 0.15945729267946723, 0.31891458535893447, 0.8090047280259092, 0.828467180183085, 0.7925097587422976, 0.835269334337071, 0.7925324423254847, 0.8121233834519974, 0.8090288091056477, 0.7925386437802804, 0.6509605122245017, 0.32548025611225084, 0.7862266095241106, 0.8090283496580759, 0.8112391523402046, 0.4053899452291002, 0.4053899452291002, 0.4053899452291002, 0.8112534002787986, 0.7100731834820784, 0.14201463669641567, 0.14201463669641567, 0.14201463669641567, 0.7925001363241677, 0.38801870962662915, 0.38801870962662915, 0.38801870962662915, 0.8352410858403613, 0.8284785243021819, 0.4084018731024806, 0.4084018731024806, 0.1579856319159402, 0.3159712638318804, 0.1579856319159402, 0.1579856319159402, 0.1579856319159402, 0.5041319226320441, 0.14403769218058401, 0.14403769218058401, 0.14403769218058401, 0.8235556320317632, 0.7925192507592981, 0.26470377069103274, 0.26470377069103274, 0.26470377069103274, 0.26470377069103274, 0.26470377069103274, 0.5514978356153999, 0.5514978356153999, 0.8235507524578985, 0.8284697368401039, 0.3281722536432006, 0.3281722536432006, 0.3281722536432006, 0.8112401113330274, 0.5417640500989471, 0.8090330312265369, 0.792527787895656, 0.8352656478008453, 0.8316104805899691, 0.8235548699505544, 0.7925033581714732, 0.8352258601043556, 0.5161923049766984, 0.7830534520204223, 0.8352484786118854, 0.792511579355883, 0.8121502242269549, 0.8316124206019542, 0.5300757213095659, 0.5300757213095659, 0.7862441464977438, 0.4068201700831209, 0.4068201700831209, 0.20341008504156044, 0.8112435171516058, 0.8316193720777392, 0.8235565542112032, 0.8121580847239389, 0.8090397703421778, 0.783077473799269, 0.8090293035637315, 0.8235768961670791, 0.541771656976922, 0.4139091005799276, 0.4139091005799276, 0.4139091005799276, 0.4034409198380885, 0.4034409198380885, 0.4034409198380885, 0.7830845901301573, 0.32574977515100556, 0.32574977515100556, 0.32574977515100556, 0.32574977515100556, 0.8235582864944477, 0.20945553714851564, 0.20945553714851564, 0.4189110742970313, 0.8235623663863344, 0.3217242417176772, 0.3217242417176772, 0.3217242417176772, 0.39344528045697613, 0.39344528045697613, 0.7830710582469126, 0.8235487335915588, 0.7925225226248735, 0.8090118453745164, 0.2746089152351695, 0.2746089152351695, 0.2746089152351695, 0.2746089152351695, 0.2746089152351695, 0.08612091394636964, 0.25836274183910896, 0.11482788526182619, 0.08612091394636964, 0.14353485657728274, 0.028706971315456548, 0.028706971315456548, 0.17224182789273929, 0.11482788526182619, 0.8352676160457855, 0.7830914319217502, 0.8316064121338033, 0.8090242762200219, 0.8090201532855019, 0.8352608689757334, 0.41001363488190234, 0.41001363488190234, 0.7925209621594699, 0.7862696516882414, 0.7925392482306423, 0.5485255937845176, 0.5485255937845176, 0.8284762390190147, 0.8235540535380628, 0.40451499753891945, 0.40451499753891945, 0.7925331254212714, 0.8112321153028613, 0.3229176451553945, 0.3229176451553945, 0.3229176451553945, 0.3229176451553945, 0.8235598678746492, 0.2296770478427573, 0.2296770478427573, 0.2296770478427573, 0.2296770478427573, 0.2296770478427573, 0.8352533829884448, 0.7862368643881982, 0.8316126944518663, 0.8352315067712596, 0.823566606581651, 0.2779663792102549, 0.5559327584205098, 0.10786190429125843, 0.10786190429125843, 0.4314476171650337, 0.21572380858251686, 0.10786190429125843, 0.10786190429125843, 0.32151973627127556, 0.32151973627127556, 0.32151973627127556, 0.8112191659416055, 0.8352859035782042, 0.8090165993895716, 0.79252204547452, 0.5244190883657764, 0.5216463934532697, 0.5216463934532697, 0.5300836020668189, 0.5300836020668189, 0.7924932044372339, 0.7925293525170869, 0.8284487826260377, 0.8121567375675998, 0.7925295652053713, 0.33150425843562437, 0.16575212921781218, 0.16575212921781218, 0.16575212921781218, 0.16575212921781218, 0.828452048522824, 0.812161977992558, 0.5274440495328654, 0.10548880990657308, 0.21097761981314617, 0.10548880990657308, 0.10548880990657308, 0.8235804176463004, 0.8284613509469696, 0.562519141289724, 0.518911972606936, 0.8352646794546544, 0.7830609156496363, 0.39825671290390696, 0.39825671290390696, 0.39825671290390696, 0.8112232824114821, 0.5144043079792602, 0.2572021539896301, 0.8316095162688071, 0.7862598177342716, 0.22843828627995402, 0.22843828627995402, 0.22843828627995402, 0.22843828627995402, 0.5189958617087949, 0.835270249488519, 0.09336108123758795, 0.28008324371276383, 0.09336108123758795, 0.09336108123758795, 0.1867221624751759, 0.09336108123758795, 0.09336108123758795, 0.09336108123758795, 0.8284648380498456, 0.8121517484515877, 0.831605903770519, 0.7830829159147177, 0.8352719416036197, 0.8316133436944856, 0.5368092162973572, 0.5368092162973572, 0.3195818196792509, 0.3195818196792509, 0.3195818196792509, 0.3195818196792509, 0.8121554657155451, 0.7862527756374394, 0.8315900738854206, 0.5409060709354518, 0.7830630718092902, 0.24274366924632723, 0.48548733849265446, 0.8090243092520618, 0.5398365151690259, 0.5398365151690259, 0.2689963959539107, 0.2689963959539107, 0.5379927919078215, 0.8284579695079842, 0.8090248293118637, 0.7925592434095001, 0.8090318122833806, 0.783070405437504, 0.5541357460814588, 0.5541357460814588, 0.7862271595229362, 0.40622343083883994, 0.40622343083883994, 0.40622343083883994, 0.8284621455483034, 0.8090346437126125, 0.8284590115278415, 0.5563635234342263, 0.8121320915811948, 0.8121382058934071, 0.8121346172201012, 0.8284721514659276, 0.8284577415761066, 0.8090076160758138, 0.8352745081376912, 0.8112180474871775, 0.25299684649695003, 0.25299684649695003, 0.14456962656968575, 0.03614240664242144, 0.03614240664242144, 0.1807120332121072, 0.07228481328484287, 0.8121487393190078, 0.8315938869322838, 0.32053228408096335, 0.6410645681619267, 0.8112348011327422, 0.7925117398737859, 0.27894144896613693, 0.27894144896613693, 0.27894144896613693, 0.7925379983078427, 0.8352662205168083, 0.7925092604731178, 0.7830638946611919, 0.20148359174660926, 0.20148359174660926, 0.20148359174660926, 0.20148359174660926, 0.20148359174660926, 0.20148359174660926, 0.8112264090811767, 0.8121376801967938, 0.79250011493449, 0.8316235362096985, 0.23742242931238147, 0.47484485862476294, 0.23742242931238147, 0.1277252603042544, 0.1277252603042544, 0.1277252603042544, 0.1277252603042544, 0.1277252603042544, 0.2554505206085088, 0.2710622567827441, 0.2710622567827441, 0.2710622567827441, 0.2710622567827441, 0.2710622567827441, 0.8352734155269623, 0.7830610777486614, 0.8352329669874081, 0.7924937364558452, 0.786238693705315, 0.21057793064137748, 0.05264448266034437, 0.05264448266034437, 0.31586689596206624, 0.05264448266034437, 0.26322241330172186, 0.05264448266034437, 0.05264448266034437, 0.8090315337727667, 0.8284619264463003, 0.8235683370835344, 0.7830943324761576, 0.8284588387173345, 0.5329205496331948, 0.5329205496331948, 0.811244329275992, 0.8121362672462832, 0.8284617269922816, 0.466898667276044, 0.233449333638022, 0.233449333638022, 0.233449333638022, 0.5514859139441569, 0.5514859139441569, 0.8121345937553699, 0.5161845165318554, 0.7830864563009359, 0.8284569579174487, 0.8316038782206507, 0.8112468281603441, 0.8235680322656518, 0.8112480626001891, 0.8112443832317794, 0.7862531698884146, 0.8235484638917817, 0.8300839227013912, 0.8352399952631873, 0.8090241192740858, 0.538973252471638, 0.811254200037286, 0.7925186472496366, 0.13649929042448503, 0.13649929042448503, 0.13649929042448503, 0.13649929042448503, 0.13649929042448503, 0.13649929042448503, 0.13649929042448503, 0.8112397813473976, 0.8284794759323376, 0.8316027526947318, 0.8352689469929272, 0.8112560640685754, 0.5161795037352959, 0.7862353963400954, 0.5189232098370088, 0.812125801981373, 0.8112486378793099, 0.8112204284023422, 0.8121476889640831, 0.15575647193251507, 0.6230258877300603, 0.15575647193251507, 0.15575647193251507, 0.5299623504127682, 0.10599247008255362, 0.10599247008255362, 0.21198494016510724, 0.8112213209782998, 0.8353015365919865, 0.2710729640553919, 0.2710729640553919, 0.2710729640553919, 0.2710729640553919, 0.828463815232803, 0.3902941149678956, 0.3902941149678956, 0.5519369463048142, 0.828476225997468, 0.8121534610936185, 0.809034204114404, 0.2588462732136816, 0.2588462732136816, 0.2588462732136816, 0.5460355113763805, 0.18201183712546018, 0.18201183712546018, 0.18201183712546018, 0.18201183712546018, 0.8121251901003692, 0.8112344248046313, 0.8121623198753266, 0.8090316557091145, 0.7862404777993899, 0.2052222706142054, 0.2052222706142054, 0.2052222706142054, 0.2052222706142054, 0.8352706987614469, 0.7862332025617288, 0.8316234265589201, 0.8235601749385695, 0.5591758616858349, 0.5519123373816364, 0.5519123373816364, 0.8090060001934166, 0.8235262166998605, 0.8121346299171168, 0.5409456000624181, 0.8316047688619528, 0.30840146480367847, 0.6168029296073569, 0.20264235792721405, 0.20264235792721405, 0.4052847158544281, 0.20264235792721405, 0.7830600817367729, 0.23494384921722888, 0.23494384921722888, 0.23494384921722888, 0.46988769843445777, 0.8316044666127905, 0.812137843224957, 0.7830696092875564, 0.8235745926646835, 0.8090185854059612, 0.8121348847118517, 0.8121292061292233, 0.8121541636465819, 0.3795786051434208, 0.2530524034289472, 0.1265262017144736, 0.1265262017144736, 0.1265262017144736, 0.1265262017144736, 0.1265262017144736, 0.8090096328086391, 0.8112397564951684, 0.5417236476453864, 0.7925130221160193, 0.8112076150268237, 0.8316275177891945, 0.5189077965005309, 0.33965151554685497, 0.6793030310937099, 0.8090237433775674, 0.7862409434824567, 0.8315970183617462, 0.831598943116079, 0.5161719829246716, 0.8352720072421776, 0.7862452351478009, 0.2297285332185727, 0.2297285332185727, 0.2297285332185727, 0.2297285332185727, 0.7862149624299776, 0.8352505866988348, 0.5485222687267644, 0.5485222687267644, 0.8284674898791113, 0.7830893063086879, 0.3581747470256937, 0.08954368675642342, 0.17908737351284684, 0.17908737351284684, 0.08954368675642342, 0.08954368675642342, 0.27447867454607017, 0.27447867454607017, 0.27447867454607017, 0.27447867454607017, 0.8235496676901845, 0.2701198717268075, 0.2701198717268075, 0.2701198717268075, 0.8112451781996327, 0.5591862344092119, 0.831605783068414, 0.5503099697239494, 0.5503099697239494, 0.8235601159655209, 0.8235535990818789, 0.1881368078463208, 0.0940684039231604, 0.0940684039231604, 0.2822052117694812, 0.0940684039231604, 0.0940684039231604, 0.0940684039231604, 0.8352536779937952, 0.8315932223811074, 0.7862385983857062, 0.20376405996263344, 0.20376405996263344, 0.20376405996263344, 0.20376405996263344, 0.20376405996263344, 0.8316142164756039, 0.4041948922297735, 0.4041948922297735, 0.4041948922297735, 0.7862369763240273, 0.8352644481553847, 0.7830851507271246, 0.5247763474605293, 0.26238817373026463, 0.26238817373026463, 0.786229802640829, 0.7925224976987856, 0.399275331021347, 0.399275331021347, 0.812142911056059, 0.8352498698034796, 0.809034416812255, 0.8316097484763456, 0.8121235198552109, 0.7862528887963972, 0.8316164650461578, 0.31689097820392836, 0.31689097820392836, 0.31689097820392836, 0.8352567660764735, 0.8112398785624138, 0.7862257911538558, 0.7830818076596556, 0.16468075609927574, 0.49404226829782716, 0.24702113414891358, 0.08234037804963787, 0.8284714368278748, 0.2748279423226142, 0.2748279423226142, 0.2748279423226142, 0.5161792927400584, 0.272385474636883, 0.272385474636883, 0.272385474636883, 0.272385474636883, 0.8316124018835912, 0.8284757540923866, 0.7862414368827266, 0.5608277749549977, 0.5608277749549977, 0.8284832996019451, 0.7830774805691363, 0.7862442150179703, 0.15835522034612234, 0.05278507344870745, 0.05278507344870745, 0.3167104406922447, 0.05278507344870745, 0.3167104406922447, 0.05278507344870745, 0.27523161809127006, 0.27523161809127006, 0.27523161809127006, 0.27523161809127006, 0.8316355079340982, 0.7830866099488253, 0.8235623517287594, 0.8284680097574842, 0.5300607009117633, 0.5300607009117633, 0.4145963971658182, 0.4145963971658182, 0.7830629063425082, 0.7925111317549569, 0.8090198839189282, 0.8090286836164913, 0.7830922188509317, 0.8121559636503658, 0.6268230438784541, 0.15670576096961353, 0.15670576096961353, 0.15670576096961353, 0.2637604456025299, 0.2637604456025299, 0.2637604456025299, 0.2637604456025299, 0.7925269031365202, 0.8352594187714912, 0.831596929582635, 0.8235544551892457, 0.8235356355930239, 0.823556204149435, 0.38877898429131097, 0.38877898429131097, 0.7862447760871522, 0.11763742340261991, 0.11763742340261991, 0.23527484680523983, 0.11763742340261991, 0.11763742340261991, 0.11763742340261991, 0.11763742340261991, 0.11763742340261991, 0.5485244230269865, 0.5485244230269865, 0.5216518152017313, 0.5216518152017313, 0.8090102100668711, 0.7830866631503396, 0.8316079350185669, 0.8090213240201065, 0.8235536168441823, 0.8284485396175544], \"Term\": [\"aaron\", \"abdul\", \"acquisition\", \"acyclic\", \"adam\", \"affix\", \"algorithm\", \"algorithm\", \"algorithm\", \"allocation\", \"alternating\", \"analyser\", \"analysis\", \"analysis\", \"analysis\", \"analysis\", \"analytical\", \"ancient\", \"andreoff\", \"android\", \"anna\", \"annotated\", \"applications\", \"approaches\", \"arabic\", \"arabic\", \"arantza\", \"architecture\", \"archive\", \"artificial\", \"artificial\", \"artificial\", \"asosoft\", \"assistant\", \"assistant\", \"assistant\", \"assistant\", \"assisted\", \"association\", \"association\", \"association\", \"assyrian\", \"audio\", \"automated\", \"automated\", \"automatic\", \"automatic\", \"automatic\", \"automatic\", \"automatic\", \"automaton\", \"automaton\", \"automaton\", \"automaton\", \"babel\", \"bark\", \"based\", \"based\", \"based\", \"based\", \"based\", \"bergen\", \"bergen\", \"bettelou\", \"bhurgri\", \"bible\", \"bible\", \"bible\", \"bidyut\", \"bijankhan\", \"bing\", \"birch\", \"bitext\", \"boundary\", \"brame\", \"brita\", \"byzantinae\", \"b\\u00fcchi\", \"calais\", \"canaanite\", \"capture\", \"case\", \"census\", \"center\", \"center\", \"challenge\", \"character\", \"character\", \"character\", \"chaudhuri\", \"chiew\", \"children\", \"chu\", \"classic\", \"clova\", \"cochin\", \"collins\", \"collocation\", \"company\", \"company\", \"company\", \"comparison\", \"comparison\", \"comparison\", \"complaint\", \"computational\", \"computational\", \"computational\", \"computational\", \"conceptual\", \"concordance\", \"concordance\", \"concordance\", \"consortium\", \"construction\", \"construction\", \"construction\", \"context\", \"context\", \"control\", \"conversational\", \"copestake\", \"copper\", \"corpora\", \"corpora\", \"corpora\", \"corpora\", \"corpora\", \"corpus\", \"corpus\", \"corpus\", \"corpus\", \"corpus\", \"corpus\", \"corpus\", \"corpus\", \"corpus\", \"cross\", \"crowdsourcing\", \"cruden\", \"curran\", \"curzan\", \"damerau\", \"dan\", \"dan\", \"database\", \"databases\", \"davies\", \"dead\", \"dead\", \"decomposition\", \"deep\", \"deterministic\", \"deterministic\", \"different\", \"dirichlet\", \"disambiguation\", \"disambiguation\", \"disambiguation\", \"disambiguation\", \"discrimination\", \"document\", \"document\", \"document\", \"document\", \"document\", \"dynamic\", \"d\\u00edaz\", \"ebla\", \"embryo\", \"empirical\", \"engineering\", \"engineering\", \"english\", \"english\", \"english\", \"english\", \"english\", \"english\", \"entity\", \"entity\", \"entity\", \"entropy\", \"epigraphicum\", \"error\", \"etzioni\", \"eugene\", \"european\", \"european\", \"evaluation\", \"evaluation\", \"example\", \"experiment\", \"explicit\", \"expression\", \"extended\", \"extraction\", \"extraction\", \"extraction\", \"extraction\", \"extraction\", \"faith\", \"filtered\", \"finite\", \"finite\", \"finite\", \"finite\", \"finite\", \"fish\", \"francine\", \"frederick\", \"free\", \"fung\", \"generalized\", \"generation\", \"generation\", \"generation\", \"generative\", \"generator\", \"generator\", \"george\", \"global\", \"google\", \"google\", \"google\", \"google\", \"gpt\", \"graecum\", \"grammar\", \"grammar\", \"grammar\", \"grammar\", \"grammar\", \"grammar\", \"grammar\", \"grammar\", \"gregory\", \"hammadi\", \"hillel\", \"hindi\", \"historiae\", \"hovy\", \"human\", \"human\", \"ibm\", \"ibm\", \"ibm\", \"ibm\", \"ichi\", \"ilarraza\", \"image\", \"induction\", \"industry\", \"information\", \"information\", \"ink\", \"inscriptions\", \"inscriptions\", \"inscriptionum\", \"inscriptionum\", \"inscriptionum\", \"institute\", \"integration\", \"intelligence\", \"intelligent\", \"interaction\", \"interface\", \"interface\", \"iudaeae\", \"james\", \"james\", \"james\", \"jan\", \"jewish\", \"jones\", \"katz\", \"keane\", \"key\", \"kingdom\", \"kneser\", \"krzysztof\", \"laboratories\", \"lam\", \"lancaster\", \"language\", \"language\", \"language\", \"language\", \"language\", \"language\", \"language\", \"languages\", \"larry\", \"latent\", \"latent\", \"latinarum\", \"lattice\", \"law\", \"law\", \"law\", \"lee\", \"legal\", \"lennon\", \"letter\", \"lexical\", \"lexical\", \"lexical\", \"lexical\", \"lexical\", \"lexical\", \"lexicon\", \"library\", \"lillian\", \"linguae\", \"linguistic\", \"linguistic\", \"linguistic\", \"linguistics\", \"linguistics\", \"linguistics\", \"linguistics\", \"linguistics\", \"linguistics\", \"list\", \"list\", \"list\", \"list\", \"list\", \"livac\", \"localization\", \"london\", \"longman\", \"l\\u00e9on\", \"machine\", \"machine\", \"machine\", \"machine\", \"machine\", \"machine\", \"machine\", \"machine\", \"magnetic\", \"majid\", \"mallet\", \"management\", \"mandelbrot\", \"manuscript\", \"manuscript\", \"mapping\", \"margaret\", \"marie\", \"mark\", \"mark\", \"mark\", \"mark\", \"markov\", \"markov\", \"markup\", \"martha\", \"matrix\", \"matsumoto\", \"mawangdui\", \"maximum\", \"mchardy\", \"meaning\", \"medieval\", \"mere\", \"methods\", \"michael\", \"microsoft\", \"minimal\", \"mining\", \"mithriacae\", \"mitkov\", \"model\", \"model\", \"model\", \"model\", \"model\", \"model\", \"model\", \"modern\", \"modular\", \"mona\", \"monica\", \"monumentorum\", \"morphological\", \"mortals\", \"moses\", \"multiline\", \"multimodal\", \"music\", \"nag\", \"national\", \"national\", \"national\", \"national\", \"natural\", \"natural\", \"natural\", \"natural\", \"nave\", \"neo\", \"network\", \"network\", \"network\", \"network\", \"networking\", \"neural\", \"neural\", \"new\", \"ney\", \"ngram\", \"numeral\", \"ocr\", \"ocr\", \"ocr\", \"optical\", \"optical\", \"optical\", \"optical\", \"optical\", \"oriented\", \"oslo\", \"outline\", \"oxford\", \"palaestinae\", \"parsing\", \"parsing\", \"parsing\", \"parsing\", \"persian\", \"persons\", \"petrovich\", \"philipp\", \"phrase\", \"plate\", \"plate\", \"plates\", \"poolparty\", \"popping\", \"predictive\", \"privacy\", \"probabilistic\", \"probabilistic\", \"processing\", \"processing\", \"processing\", \"processing\", \"product\", \"project\", \"project\", \"project\", \"project\", \"publishing\", \"pumping\", \"punjabi\", \"quantum\", \"quranic\", \"reader\", \"readers\", \"reasoning\", \"recognition\", \"recognition\", \"recognition\", \"recognition\", \"recognition\", \"recognition\", \"recognition\", \"recursion\", \"reference\", \"regular\", \"relational\", \"religionis\", \"resolution\", \"resources\", \"retrieval\", \"retrieval\", \"robot\", \"role\", \"rule\", \"r\\u00e9sum\\u00e9\", \"safety\", \"scantron\", \"schema\", \"scientist\", \"scientist\", \"scientist\", \"scientist\", \"scottish\", \"scriptorum\", \"scrolls\", \"scrolls\", \"selectae\", \"self\", \"semantic\", \"semantic\", \"semantic\", \"semantic\", \"semantic\", \"semantic\", \"semantics\", \"semantics\", \"semantics\", \"semantics\", \"semiticarum\", \"sense\", \"sense\", \"sense\", \"separating\", \"seq\", \"shallow\", \"silk\", \"silk\", \"slonim\", \"slovenian\", \"software\", \"software\", \"software\", \"software\", \"software\", \"software\", \"software\", \"source\", \"space\", \"speculorum\", \"speech\", \"speech\", \"speech\", \"speech\", \"speech\", \"speed\", \"spoken\", \"spoken\", \"spoken\", \"stable\", \"stabler\", \"standards\", \"state\", \"state\", \"state\", \"states\", \"stenstr\\u00f6m\", \"studies\", \"studies\", \"sub\", \"supplementum\", \"survey\", \"synchronizing\", \"syntactic\", \"s\\u00e1nchez\", \"tan\", \"technologies\", \"technologies\", \"technologies\", \"teenage\", \"tehran\", \"tenten\", \"term\", \"text\", \"text\", \"text\", \"text\", \"textbook\", \"texts\", \"texts\", \"texts\", \"theorem\", \"theory\", \"theory\", \"theory\", \"theory\", \"thesaurus\", \"times\", \"tools\", \"topic\", \"topic\", \"torrey\", \"traffic\", \"transfer\", \"translation\", \"translation\", \"translation\", \"translation\", \"translation\", \"translation\", \"translation\", \"translator\", \"translator\", \"translator\", \"translator\", \"troyanskii\", \"turkey\", \"ultra\", \"unambiguous\", \"united\", \"united\", \"universal\", \"universal\", \"urban\", \"usability\", \"usage\", \"variant\", \"verifying\", \"viewer\", \"virtual\", \"virtual\", \"virtual\", \"virtual\", \"voice\", \"voice\", \"voice\", \"voice\", \"v\\u00e9ronis\", \"walker\", \"wang\", \"watson\", \"website\", \"wellington\", \"william\", \"william\", \"woods\", \"word\", \"word\", \"word\", \"word\", \"word\", \"word\", \"word\", \"word\", \"words\", \"words\", \"written\", \"written\", \"xian\", \"xiang\", \"yehoshua\", \"young\", \"zealand\", \"\\u014dno\"]}, \"R\": 30, \"lambda.step\": 0.01, \"plot.opts\": {\"xlab\": \"PC1\", \"ylab\": \"PC2\"}, \"topic.order\": [8, 6, 1, 9, 3, 4, 7, 5, 10, 2]};\n",
              "\n",
              "function LDAvis_load_lib(url, callback){\n",
              "  var s = document.createElement('script');\n",
              "  s.src = url;\n",
              "  s.async = true;\n",
              "  s.onreadystatechange = s.onload = callback;\n",
              "  s.onerror = function(){console.warn(\"failed to load library \" + url);};\n",
              "  document.getElementsByTagName(\"head\")[0].appendChild(s);\n",
              "}\n",
              "\n",
              "if(typeof(LDAvis) !== \"undefined\"){\n",
              "   // already loaded: just create the visualization\n",
              "   !function(LDAvis){\n",
              "       new LDAvis(\"#\" + \"ldavis_el2024819222072593289474908259\", ldavis_el2024819222072593289474908259_data);\n",
              "   }(LDAvis);\n",
              "}else if(typeof define === \"function\" && define.amd){\n",
              "   // require.js is available: use it to load d3/LDAvis\n",
              "   require.config({paths: {d3: \"https://d3js.org/d3.v5\"}});\n",
              "   require([\"d3\"], function(d3){\n",
              "      window.d3 = d3;\n",
              "      LDAvis_load_lib(\"https://cdn.jsdelivr.net/gh/bmabey/pyLDAvis@3.3.1/pyLDAvis/js/ldavis.v3.0.0.js\", function(){\n",
              "        new LDAvis(\"#\" + \"ldavis_el2024819222072593289474908259\", ldavis_el2024819222072593289474908259_data);\n",
              "      });\n",
              "    });\n",
              "}else{\n",
              "    // require.js not available: dynamically load d3 & LDAvis\n",
              "    LDAvis_load_lib(\"https://d3js.org/d3.v5.js\", function(){\n",
              "         LDAvis_load_lib(\"https://cdn.jsdelivr.net/gh/bmabey/pyLDAvis@3.3.1/pyLDAvis/js/ldavis.v3.0.0.js\", function(){\n",
              "                 new LDAvis(\"#\" + \"ldavis_el2024819222072593289474908259\", ldavis_el2024819222072593289474908259_data);\n",
              "            })\n",
              "         });\n",
              "}\n",
              "</script>"
            ],
            "text/plain": [
              "PreparedData(topic_coordinates=              x         y  topics  cluster       Freq\n",
              "topic                                                \n",
              "7      0.134730  0.000471       1        1  12.357939\n",
              "5      0.006623 -0.001105       2        1  11.476232\n",
              "0      0.050297 -0.028187       3        1  10.436566\n",
              "8     -0.045385 -0.113507       4        1  10.266544\n",
              "2      0.033140  0.008829       5        1   9.867897\n",
              "3      0.072741  0.099716       6        1   9.631611\n",
              "6     -0.005457 -0.112399       7        1   9.548765\n",
              "4     -0.097897  0.055973       8        1   9.470987\n",
              "9     -0.100448  0.040472       9        1   8.745152\n",
              "1     -0.048345  0.049737      10        1   8.198307, topic_info=             Term       Freq      Total Category  logprob  loglift\n",
              "33           text  12.000000  12.000000  Default  30.0000  30.0000\n",
              "10       language  27.000000  27.000000  Default  29.0000  29.0000\n",
              "78      automaton  13.000000  13.000000  Default  28.0000  28.0000\n",
              "9     translation  18.000000  18.000000  Default  27.0000  27.0000\n",
              "2         machine  18.000000  18.000000  Default  26.0000  26.0000\n",
              "..            ...        ...        ...      ...      ...      ...\n",
              "182         plate   0.638610   1.811882  Topic10  -5.5047   1.4584\n",
              "497  inscriptions   0.638604   1.852413  Topic10  -5.5047   1.4363\n",
              "651         topic   0.638604   1.783079  Topic10  -5.5047   1.4744\n",
              "517        markov   0.638601   1.813283  Topic10  -5.5047   1.4576\n",
              "569        bergen   0.638596   1.813244  Topic10  -5.5047   1.4576\n",
              "\n",
              "[542 rows x 6 columns], token_table=      Topic      Freq         Term\n",
              "term                              \n",
              "652       2  0.786250        aaron\n",
              "1080      6  0.828509        abdul\n",
              "617       8  0.540914  acquisition\n",
              "332       5  0.823557      acyclic\n",
              "881       6  0.828458         adam\n",
              "...     ...       ...          ...\n",
              "937       1  0.783087        xiang\n",
              "133       9  0.831608     yehoshua\n",
              "442       4  0.809021        young\n",
              "884       5  0.823554      zealand\n",
              "531       6  0.828449          ōno\n",
              "\n",
              "[640 rows x 3 columns], R=30, lambda_step=0.01, plot_opts={'xlab': 'PC1', 'ylab': 'PC2'}, topic_order=[8, 6, 1, 9, 3, 4, 7, 5, 10, 2])"
            ]
          },
          "execution_count": 26,
          "metadata": {},
          "output_type": "execute_result"
        }
      ],
      "source": [
        "import pyLDAvis.gensim_models\n",
        "pyLDAvis.enable_notebook()\n",
        "pyLDAvis.gensim_models.prepare(lda, corpus, dictionary)\n"
      ]
    },
    {
      "cell_type": "markdown",
      "metadata": {
        "id": "EmFvslnlGXjc"
      },
      "source": [
        "### 10. Re-train the LDA model with just 9 topics & visualize with PyLDAVis again (1 point)"
      ]
    },
    {
      "cell_type": "code",
      "execution_count": 27,
      "metadata": {
        "id": "iXdgfhXwhTjV"
      },
      "outputs": [
        {
          "data": {
            "text/html": [
              "\n",
              "<link rel=\"stylesheet\" type=\"text/css\" href=\"https://cdn.jsdelivr.net/gh/bmabey/pyLDAvis@3.3.1/pyLDAvis/js/ldavis.v1.0.0.css\">\n",
              "\n",
              "\n",
              "<div id=\"ldavis_el2024819222745760806762931867\"></div>\n",
              "<script type=\"text/javascript\">\n",
              "\n",
              "var ldavis_el2024819222745760806762931867_data = {\"mdsDat\": {\"x\": [0.10436759568664807, 0.017666182100581143, -0.024538798689445345, -0.1571067314071596, 0.006008354889906214, 0.04233529976992631, -0.025462237152158923, 0.06586349741239315, -0.029133162610691106], \"y\": [0.025100584670898433, 0.14627705143070482, -0.012682573459454147, 0.016852134841255455, -0.11132054911538693, -0.020514593924216756, 0.04938116713666528, -0.02931551613515909, -0.06377770544530711], \"topics\": [1, 2, 3, 4, 5, 6, 7, 8, 9], \"cluster\": [1, 1, 1, 1, 1, 1, 1, 1, 1], \"Freq\": [14.208256517622035, 13.140728288121533, 11.55779662154618, 11.029005618829046, 10.386429467552146, 10.227947058824205, 10.004687469670962, 9.902282088262917, 9.542866869570975]}, \"tinfo\": {\"Term\": [\"language\", \"corpus\", \"automaton\", \"finite\", \"machine\", \"translation\", \"semantic\", \"natural\", \"english\", \"analysis\", \"national\", \"grammar\", \"translator\", \"model\", \"scientist\", \"recognition\", \"google\", \"extraction\", \"assistant\", \"speech\", \"law\", \"linguistics\", \"william\", \"linguistic\", \"word\", \"translate\", \"retrieval\", \"statistical\", \"parsing\", \"text\", \"scientist\", \"mining\", \"croatian\", \"journal\", \"frederick\", \"methods\", \"wellington\", \"outline\", \"monumentorum\", \"applications\", \"mithriacae\", \"zealand\", \"neo\", \"intelligence\", \"london\", \"consortium\", \"religionis\", \"ichi\", \"survey\", \"assyrian\", \"analyser\", \"winograd\", \"teenage\", \"lennon\", \"lyra\", \"challenge\", \"hybrid\", \"etruscorum\", \"georgetown\", \"key\", \"corpora\", \"corpus\", \"artificial\", \"inscriptionum\", \"spoken\", \"project\", \"linguistics\", \"linguistic\", \"machine\", \"natural\", \"english\", \"processing\", \"text\", \"translation\", \"entity\", \"language\", \"international\", \"national\", \"virtual\", \"recognition\", \"word\", \"automaton\", \"lexical\", \"mark\", \"generator\", \"european\", \"markov\", \"manuscript\", \"transducer\", \"zipf\", \"law\", \"latent\", \"semantic\", \"bhurgri\", \"medieval\", \"abdul\", \"assisted\", \"institute\", \"archive\", \"majid\", \"cochin\", \"josef\", \"classic\", \"maximum\", \"hindi\", \"mandelbrot\", \"speed\", \"product\", \"jewish\", \"example\", \"china\", \"punjabi\", \"factored\", \"mapping\", \"entropy\", \"analysis\", \"engineering\", \"neural\", \"association\", \"assistant\", \"model\", \"virtual\", \"language\", \"algorithm\", \"english\", \"translation\", \"machine\", \"state\", \"sense\", \"word\", \"parsing\", \"grammar\", \"software\", \"corpus\", \"optical\", \"google\", \"character\", \"bonnie\", \"seq\", \"tagger\", \"katz\", \"trigram\", \"contemporary\", \"transfer\", \"readers\", \"extended\", \"problem\", \"longman\", \"manually\", \"semiticarum\", \"annotated\", \"rhodes\", \"regulus\", \"sub\", \"bidyut\", \"popping\", \"error\", \"labeling\", \"cortana\", \"mallet\", \"krohn\", \"reference\", \"german\", \"filtered\", \"separating\", \"attempto\", \"reverso\", \"extraction\", \"document\", \"grammar\", \"technologies\", \"word\", \"english\", \"network\", \"ocr\", \"mark\", \"project\", \"concordance\", \"corpus\", \"text\", \"automatic\", \"software\", \"semantic\", \"machine\", \"language\", \"translation\", \"automaton\", \"assistant\", \"corpora\", \"optical\", \"model\", \"recursive\", \"statistical\", \"morphological\", \"gpt\", \"retrieval\", \"lemma\", \"traffic\", \"rhetorical\", \"pumping\", \"standards\", \"lattice\", \"children\", \"control\", \"turkey\", \"celia\", \"technique\", \"relational\", \"architecture\", \"industry\", \"localization\", \"stenstr\\u00f6m\", \"open\", \"database\", \"languages\", \"mchardy\", \"location\", \"asymmetric\", \"numeral\", \"crowdsourcing\", \"round\", \"davies\", \"texts\", \"data\", \"information\", \"parsing\", \"software\", \"voice\", \"semantics\", \"list\", \"grammar\", \"speech\", \"translation\", \"text\", \"machine\", \"scrolls\", \"dead\", \"sea\", \"finite\", \"assistant\", \"word\", \"engineering\", \"virtual\", \"extraction\", \"semantic\", \"nondeterministic\", \"simplification\", \"translator\", \"finite\", \"complaint\", \"aperiodic\", \"palaestinae\", \"selectae\", \"verifying\", \"yehoshua\", \"conversational\", \"iudaeae\", \"layout\", \"letter\", \"hillel\", \"image\", \"xiang\", \"vedic\", \"variant\", \"austin\", \"zhai\", \"generalized\", \"deep\", \"action\", \"cores\", \"kneser\", \"self\", \"ney\", \"nathan\", \"latinae\", \"automaton\", \"deterministic\", \"probabilistic\", \"linguistic\", \"concordance\", \"lexical\", \"model\", \"software\", \"text\", \"corpus\", \"linguistics\", \"word\", \"machine\", \"automatic\", \"processing\", \"generator\", \"scientist\", \"analysis\", \"bible\", \"research\", \"center\", \"translate\", \"free\", \"lex\", \"inscriptions\", \"sentiment\", \"ontology\", \"google\", \"decomposition\", \"states\", \"databases\", \"persons\", \"byzantinae\", \"aramaic\", \"cross\", \"babel\", \"historiae\", \"robot\", \"essay\", \"music\", \"markup\", \"petrovich\", \"website\", \"monk\", \"canaanite\", \"gregory\", \"conceptual\", \"cmu\", \"scriptorum\", \"british\", \"lexicon\", \"amazon\", \"context\", \"natural\", \"analysis\", \"language\", \"theory\", \"grammar\", \"corpus\", \"lexical\", \"national\", \"assistant\", \"software\", \"semantic\", \"text\", \"linguistics\", \"information\", \"recognition\", \"peter\", \"general\", \"user\", \"framework\", \"william\", \"timeline\", \"evaluation\", \"david\", \"b\\u00fcchi\", \"approaches\", \"reader\", \"library\", \"laboratories\", \"different\", \"scottish\", \"thesaurus\", \"moens\", \"rule\", \"hammadi\", \"syntactic\", \"linguae\", \"evans\", \"multiline\", \"marie\", \"bag\", \"francine\", \"dependencies\", \"marti\", \"etzioni\", \"woods\", \"nag\", \"abbyy\", \"babylon\", \"danielle\", \"universal\", \"speech\", \"translation\", \"machine\", \"list\", \"based\", \"character\", \"optical\", \"word\", \"corpus\", \"software\", \"automaton\", \"language\", \"model\", \"semantic\", \"linguistics\", \"research\", \"international\", \"texts\", \"conference\", \"history\", \"comparison\", \"parsing\", \"identification\", \"acyclic\", \"usability\", \"kgys\", \"monitor\", \"management\", \"chiew\", \"torrey\", \"slovenian\", \"urban\", \"viewer\", \"native\", \"tan\", \"textbook\", \"distributed\", \"taxonomy\", \"intelligent\", \"referring\", \"global\", \"cache\", \"resolution\", \"regina\", \"multi\", \"naver\", \"ngram\", \"mirella\", \"claws\", \"levenshtein\", \"watson\", \"bulgarian\", \"national\", \"language\", \"corpus\", \"voice\", \"semantics\", \"recognition\", \"linguistics\", \"natural\", \"processing\", \"character\", \"optical\", \"automatic\", \"model\", \"text\", \"automaton\", \"translation\", \"machine\", \"software\", \"finite\", \"linguistic\", \"deterministic\", \"speech\", \"arabic\", \"network\", \"state\", \"translator\", \"theory\", \"studies\", \"google\", \"functional\", \"textual\", \"eric\", \"powerset\", \"collocation\", \"kingdom\", \"oslo\", \"young\", \"audio\", \"ink\", \"d\\u00edaz\", \"modular\", \"s\\u00e1nchez\", \"lancaster\", \"reasoning\", \"dirichlet\", \"case\", \"ilarraza\", \"magnetic\", \"presence\", \"livac\", \"collins\", \"recursion\", \"arantza\", \"analytical\", \"minimal\", \"generative\", \"unit\", \"description\", \"curran\", \"linguist\", \"company\", \"recognition\", \"construction\", \"corpus\", \"automatic\", \"text\", \"automaton\", \"translation\", \"semantic\", \"english\", \"character\", \"grammar\", \"michael\", \"number\", \"computational\", \"united\", \"concordance\", \"optical\", \"braille\", \"phrase\", \"monolingual\"], \"Freq\": [27.0, 34.0, 13.0, 9.0, 19.0, 18.0, 11.0, 9.0, 9.0, 6.0, 6.0, 10.0, 3.0, 7.0, 4.0, 7.0, 4.0, 6.0, 6.0, 4.0, 3.0, 8.0, 2.0, 4.0, 8.0, 2.0, 2.0, 2.0, 5.0, 12.0, 3.2521188832987193, 1.343149891887627, 1.3430968042110791, 1.3430506850839588, 1.343091989576929, 0.7070580394234259, 0.7070469530947913, 0.7070497405145623, 0.7070200925042706, 0.7070345997571696, 0.7070204092565173, 0.7070057119522701, 0.707004571644182, 0.7070072957135036, 0.7069951324272301, 0.7070190155466317, 0.7069877837751065, 0.7069939921191419, 0.7069887340318467, 0.7069679550844628, 0.7069678917340134, 0.7069839193976968, 0.7069559818495372, 0.7069568054053786, 0.706975430437485, 0.7069685252385068, 0.7069763173437758, 0.7069690320421015, 0.7069755571383837, 0.706967448280868, 1.9793797216304934, 15.978468258388418, 1.3432892628761777, 1.9796129779849676, 1.3433528667273162, 1.979677848845093, 3.2514861390106993, 1.9794202659180717, 5.797387136545156, 3.2523238853527876, 3.251980272515561, 1.9795682525677327, 3.8883142503971437, 5.160331977148272, 1.3432990188453762, 5.797001965813161, 1.3431619284730019, 1.9794296417845743, 1.3432525196155598, 1.343359328473149, 1.343215396252246, 1.3427211360464857, 0.707130829089719, 0.7070964297957267, 0.7070928821705637, 1.3848559634448614, 1.3848572524392497, 1.3848037005814837, 1.3848190513328344, 1.3843882928445457, 2.6966118833194512, 2.0405875639284368, 6.632374382425689, 0.7289718514888954, 0.7289118546591882, 0.7289030074704326, 0.7289246860124166, 0.7288915237022464, 0.7288992576685759, 0.7288902347078582, 0.7289063471377112, 0.7288768760387436, 0.7288615252873928, 0.7288615252873928, 0.7288637517322452, 0.7288689663004522, 0.7288733020088489, 0.7288707240200725, 0.7288498071565905, 0.7288515062855568, 0.7288551974967595, 0.7288329330482354, 0.7288500415192066, 0.7288451784949237, 0.7288217422333193, 3.3527475249530863, 2.0404621799288534, 1.384758234233971, 1.384811668910429, 3.3524287917952664, 3.3521728678185463, 2.696509935581472, 8.6004658552454, 1.3846683561707183, 2.6970372514675707, 4.00919486886606, 4.008749579895576, 1.3848713141962123, 1.3849145540988723, 2.0407084950383156, 1.384794794802074, 1.3850940758627621, 1.3849057655007708, 0.7298086432094805, 0.7290312038214086, 0.7290271024756279, 0.7289915379486431, 1.2908323572655374, 1.2908209169781892, 1.2906449839105896, 1.2905818046660444, 1.2904288552387932, 0.6795508525777275, 0.6795343105406157, 0.6795225610563121, 0.6795456992951382, 0.6795207574074059, 0.6794980314311869, 0.6794898892446958, 0.6794906622370842, 0.6794830869116779, 0.6794971038403209, 0.6794862304140574, 0.6794679362608653, 0.6794843236994993, 0.6794556199154768, 0.6794866942094904, 0.6794821593208118, 0.6794795826795171, 0.6794693276471644, 0.6794739656014948, 0.6794720073541108, 0.6794624737813206, 0.6794367073683739, 0.679457887359816, 0.679447271597682, 0.6794481476557223, 3.1255978144605057, 1.9022874760437818, 3.7371279650332507, 1.290846580325484, 2.513424328089309, 2.513965628892492, 1.291029006529146, 1.290186650957095, 1.2910622967346732, 1.2909115116861094, 1.2908765724301539, 3.1263833808584223, 1.902511334639462, 1.2909358351799312, 1.2913295459697556, 1.2906707503235362, 1.2913144983845948, 0.6800229447957357, 0.6798020235711313, 0.6797565200858675, 0.679659226110581, 0.6796330474350273, 0.6796139287566209, 0.679610012261853, 0.6796024369364467, 1.8649043681342075, 1.2655246890455247, 1.264657141898222, 1.8651272296959112, 0.6661634506200458, 0.6661580905339413, 0.6661595657869975, 0.6661348307107537, 0.6661292739242417, 0.6661239630132391, 0.6661160949969388, 0.6661078827549255, 0.6661030144198397, 0.6661112266618531, 0.6661143738683731, 0.6661096038834912, 0.6660947038276226, 0.666083000153376, 0.6660815249003197, 0.6660981460847539, 0.6660947038276226, 0.6660948513529282, 0.6660797054215503, 0.6660867374611186, 0.6660732143081026, 0.6660675591713868, 0.6660687885489337, 0.6660504954110358, 0.6660629367118105, 0.6660623466105879, 1.864847718416846, 1.2656231375994813, 1.8648071981328997, 1.8647237971601174, 2.4645516581273013, 1.2655131820716858, 1.2653927030720886, 1.265540523428329, 1.8649629848556442, 1.2653633947113703, 1.865375465610183, 1.265784726984247, 1.265840491549775, 0.7333585718786046, 0.7258092102385443, 0.7091174103580365, 0.6663209584713558, 0.6662575717650371, 0.6662530968307664, 0.6662264439255494, 0.6662039709039919, 0.6661951193856541, 0.6661769245979599, 1.3648785847140545, 1.3647828155446162, 2.657470155759588, 6.537605847521095, 0.7184472033846556, 0.7184334029917675, 0.7184343291926325, 0.7184244651534205, 0.7184130265727381, 0.7184161756556791, 0.7184125634723056, 0.7183846385162266, 0.7183951508960441, 0.7183807947826369, 0.7183838975555347, 0.7183748670971011, 0.7183679205906138, 0.7183684763111328, 0.7183559725994556, 0.7183482851322763, 0.7183550463985907, 0.7183356888005127, 0.7183500912239631, 0.7183424963768702, 0.7183358277306424, 0.7183286033638956, 0.7182994743466922, 0.7183139693902291, 0.7183271214425117, 0.7183070228837417, 7.829999859922129, 1.3648210676403396, 1.3646662994758023, 1.3648309779895949, 1.3648706193866158, 1.3646792662879121, 1.3648012469418291, 1.3651580195150175, 1.3648052296055486, 0.7189359595811029, 0.7186959346269447, 0.7186671760900872, 0.7186556911993615, 0.7185348682965256, 0.718454149891143, 0.718451741768894, 0.7184512786684616, 0.7184492873366018, 0.7184330788214648, 0.7184216865508256, 0.718415805175333, 1.7938003616509703, 1.2173824781393685, 1.2174534370556946, 1.2173618653950373, 1.217371350905703, 1.217142330547226, 2.3704506401738823, 0.6408555112551109, 0.6408596155626105, 0.6408119143887819, 0.6407963636237002, 0.6407973212954501, 0.6408007415516997, 0.640787881388201, 0.6407993734491999, 0.6407836402704514, 0.6407909368171174, 0.6407836858738681, 0.6407789431185352, 0.6407710537274527, 0.6407660373516199, 0.6407621610612037, 0.6407643044217868, 0.640761568216787, 0.6407758420862022, 0.6407572358922041, 0.640748069605455, 0.6407404994382891, 0.6407503953797048, 0.6407449229697053, 1.2171607543275575, 1.217505607364356, 2.947710180343399, 1.7940130559862824, 4.101262285835531, 1.2174931120281907, 1.7943417654135825, 2.948119151784025, 1.217486453929358, 1.217661479842507, 1.217529503554687, 1.2172890823420446, 1.217541634063519, 1.2176105864295121, 0.641022556570344, 0.6409515976540179, 0.6408830101153581, 0.640860618837777, 0.6408573809951941, 0.6408559216858608, 0.6408483059152783, 1.9955884631448948, 1.3543461628654478, 1.3542185840780452, 1.354222509579196, 1.354142215237474, 0.7128750683200609, 0.7128819825550425, 0.7128873801191249, 0.7128510692334795, 0.7128421030319873, 0.712838579002545, 0.7128421922479224, 0.7128324677109806, 0.7128127955972587, 0.7128177024736972, 0.7128045431232484, 0.712816185802798, 0.7128108328466832, 0.712795353881918, 0.7128101191192013, 0.712797361240461, 0.7127890195505154, 0.7128011529177091, 0.7127834435545626, 0.7127761724558399, 0.7127472218848524, 0.7127337056706625, 0.7127425826562196, 0.7127468650211114, 0.7127457944298885, 1.3542837117107753, 1.9957117595674057, 5.203920181243267, 5.203679655081841, 1.3543050343192993, 1.354479273040836, 1.3545406536042857, 1.354437698415011, 1.354424672888465, 1.996198700141982, 1.3542170674071459, 1.3544060267579985, 1.3549268693879686, 0.7130619757044027, 0.7129984985664747, 0.712992298058975, 0.7129558087414591, 0.7129527307916931, 0.7129515263765673, 0.7129219066860654, 0.7129088365515518, 0.712876005087381, 0.7128753805758342, 1.2522688094679986, 0.6592386619888364, 0.6592332313700733, 0.6592185731145503, 0.6592272709348456, 0.6592072703633036, 0.659212921738927, 0.6592045771296081, 0.6591950404332437, 0.6591631631426184, 0.6591785278200943, 0.6591783953659782, 0.6591764968569797, 0.6591720375684019, 0.6591677107339403, 0.6591553925011363, 0.6591665627982668, 0.6591527875701849, 0.6591505800015821, 0.6591440897498897, 0.6591326103931547, 0.6591468271349572, 0.6591268707147873, 0.6591472686486778, 0.6591254578708815, 0.6591464297726087, 0.6591410874565897, 0.6591429418142162, 0.6591251929626492, 0.65910890110636, 2.439091157108032, 6.591331490398939, 4.812036494654711, 1.2520355136180479, 1.2523497830843515, 1.8456410859292327, 1.8458404735254434, 1.8457528772032816, 1.252532746370157, 1.252439322066884, 1.2523236454720936, 1.2525738071461703, 1.2525179115091458, 1.2527645410734578, 1.2526985789236043, 1.2526386213603504, 0.6596277680307773, 0.6595317829479247, 0.6593660828485938, 0.65935398537265, 0.6593142932891706, 0.6592954848046741, 0.6592910255160963, 0.6592895243694463, 0.6592649320552104, 0.659261444096818, 0.6592570731109842, 0.659254512331405, 0.6592441809103435, 1.2499872886520353, 1.2499285712459447, 1.249951888013001, 1.2498324108562604, 1.2494054757455995, 0.6580009533782745, 0.6579952943818904, 0.6579889546039864, 0.6579522774996024, 0.657954915527992, 0.6579441932190537, 0.65793606638966, 0.657935683450055, 0.6579215146846724, 0.6579232591873171, 0.6579284075975612, 0.6579107498268891, 0.6579056865143349, 0.6579062396493198, 0.6579083670915695, 0.6579050482816601, 0.6578809656353939, 0.657898963796826, 0.6578792636815942, 0.6578828803334186, 0.6578851354222033, 0.6578699454845407, 0.6578859013014131, 0.6578673500049961, 0.6578475647920743, 1.2500887250984989, 1.2498822781025922, 2.434069309731189, 1.2498756404827733, 4.210636083254353, 1.2500518777987348, 1.2502257323793766, 1.250044984885846, 0.6582369292726064, 0.658232419095037, 0.6581063894161675, 0.6580792007042169, 0.6580558839371606, 0.6580367369569138, 0.6580257168060605, 0.6580096333426532, 0.6580020170993993, 0.6579999747548396, 0.6579884440178465, 0.6579657654834652, 0.6579648719577204, 0.6579612553058959], \"Total\": [27.0, 34.0, 13.0, 9.0, 19.0, 18.0, 11.0, 9.0, 9.0, 6.0, 6.0, 10.0, 3.0, 7.0, 4.0, 7.0, 4.0, 6.0, 6.0, 4.0, 3.0, 8.0, 2.0, 4.0, 8.0, 2.0, 2.0, 2.0, 5.0, 12.0, 4.445833639746903, 1.8900511559039241, 1.8899769091804752, 1.8899575598542013, 1.890021365205128, 1.25370719888969, 1.2536878006914434, 1.2537081105925034, 1.2536693064581437, 1.2536992401856326, 1.2536768223191477, 1.253659797649138, 1.253667435494291, 1.2536728500256742, 1.2536604175413144, 1.2537058487520525, 1.253658607759774, 1.2536879609557896, 1.2536822614174348, 1.253645484496046, 1.2536506281007904, 1.253680486242755, 1.2536356003756184, 1.2536403654223809, 1.2536761600853674, 1.2536660069126908, 1.2536804605395246, 1.2536680180485418, 1.2536858223761687, 1.2536757065985975, 3.7375229896797135, 34.587922378600425, 2.489593663897938, 3.784648359445842, 2.5017124387397596, 4.396241479357114, 8.055610668223858, 4.412953332905666, 19.07587488914502, 9.1193334276292, 9.461856954535367, 4.936494837965801, 12.286887564560102, 18.966411033598696, 3.12381161943789, 27.331496955837498, 3.187649450400075, 6.053573605593178, 6.301880864359307, 7.912732069227745, 8.833331200507251, 13.914666261167321, 4.997894507753212, 4.316303832297006, 3.668710398392275, 1.9294342514888883, 1.9294460984968536, 1.9294126759428047, 1.9294581651569984, 1.9292423196223396, 3.8182654991699945, 3.17749146894575, 11.38758977469313, 1.2734086121092025, 1.2733722849360518, 1.2733576272830565, 1.2733986915716917, 1.2733541865684077, 1.2733695371542768, 1.2733548807538977, 1.2733830307210106, 1.2733730760916662, 1.2733467812803585, 1.2733517794326348, 1.2733568517580895, 1.2733703665922165, 1.2733796056395448, 1.27337565173236, 1.2733406058228314, 1.2733457837155322, 1.2733632671470594, 1.2733310887615845, 1.273361287033327, 1.273362338632937, 1.2733278445027723, 6.274507629366655, 3.821107265318357, 2.5215593740657196, 2.5289428862510825, 6.898627508185557, 7.630212552799942, 6.301880864359307, 27.331496955837498, 3.1424278889943738, 9.461856954535367, 18.966411033598696, 19.07587488914502, 3.8057172179775955, 3.8188979930734344, 8.833331200507251, 5.005869558541304, 10.35656870388089, 10.46588089275752, 34.587922378600425, 5.523796390305847, 4.17387938588848, 4.947249518238772, 1.8405366061990946, 1.8405391387669283, 1.8404505241687887, 1.8403988927139703, 1.8404225987703648, 1.228960334265894, 1.228951151505963, 1.2289302511528926, 1.2289732643000317, 1.2289559966460104, 1.2289179749222663, 1.2289236147382911, 1.2289354521467375, 1.228922486508072, 1.2289490727642671, 1.2289310298041856, 1.2289032608765318, 1.228934834547684, 1.228886900122485, 1.228944137832419, 1.2289375248003913, 1.2289346009846784, 1.2289191356487525, 1.2289305760175946, 1.2289285875126368, 1.2289179020793182, 1.2288752632971915, 1.228922801050402, 1.2289071517292405, 1.2289095439548483, 6.096788983369986, 4.268737571751658, 10.35656870388089, 3.09603844392661, 8.833331200507251, 9.461856954535367, 3.6028983190092, 3.71464345559809, 4.316303832297006, 4.396241479357114, 4.902165450164871, 34.587922378600425, 12.286887564560102, 6.071271983590731, 10.46588089275752, 11.38758977469313, 19.07587488914502, 27.331496955837498, 18.966411033598696, 13.914666261167321, 6.898627508185557, 3.7375229896797135, 5.523796390305847, 7.630212552799942, 1.8057417705304453, 2.41604247846063, 1.8165091417275177, 1.8162713382985525, 2.9929008169483775, 1.216915435285987, 1.2169075474820032, 1.216926997882592, 1.2168982812304878, 1.2168942121241584, 1.2168908267566085, 1.2168859522040056, 1.21688086685493, 1.2168785069982662, 1.2168941437393208, 1.216901733984736, 1.2168933595384694, 1.2168693819308003, 1.2168604511804584, 1.216860002952272, 1.216891324673779, 1.2168867504318912, 1.2168887357711446, 1.2168620052830827, 1.216882691878972, 1.2168693112007174, 1.2168637711591552, 1.2168692680873836, 1.2168451851519224, 1.2168702752832818, 1.2168723224748603, 3.693972928280838, 2.4527508034085566, 4.260244345620146, 5.005869558541304, 10.46588089275752, 3.5797951853945738, 3.595227598095632, 3.735989873069365, 10.35656870388089, 4.926585495284865, 18.966411033598696, 12.286887564560102, 19.07587488914502, 1.8271627195710365, 1.8272694725697702, 1.8275870284484594, 9.568917251747843, 6.898627508185557, 8.833331200507251, 3.821107265318357, 6.301880864359307, 6.096788983369986, 11.38758977469313, 1.9105411650382873, 1.910533557067502, 3.7970204367571037, 9.568917251747843, 1.2639620149145308, 1.263956401316047, 1.263961119569853, 1.2639664633523635, 1.263948124066073, 1.263958977375981, 1.2639629351111743, 1.2639258180427462, 1.2639458021981669, 1.2639262908559636, 1.2639342784606684, 1.2639343505586353, 1.263927307165358, 1.2639319175189994, 1.2639132353998908, 1.2639020196624102, 1.2639287908353853, 1.2638947686055424, 1.263925461779611, 1.2639156600731194, 1.2639067070397865, 1.2639034670385194, 1.2638668516704652, 1.2639036851716843, 1.2639281709347012, 1.2638946732569334, 13.914666261167321, 2.5039082888099533, 3.143306000636512, 4.412953332905666, 4.902165450164871, 4.997894507753212, 7.630212552799942, 10.46588089275752, 12.286887564560102, 34.587922378600425, 8.055610668223858, 8.833331200507251, 19.07587488914502, 6.071271983590731, 4.936494837965801, 3.668710398392275, 4.445833639746903, 6.274507629366655, 3.0444291303916815, 1.9056270994380733, 1.9199309045502821, 2.3476484945208584, 1.7708304841239828, 1.7709447923413988, 1.7708813531688468, 1.7709094813165844, 1.770775094632161, 4.17387938588848, 1.1941192191766536, 1.194130981784465, 1.1940982111553653, 1.1940909157102682, 1.194095724546048, 1.194120568221439, 1.194097696544342, 1.194119119247183, 1.1940925404688674, 1.1941175904826806, 1.194109685990016, 1.1941068174173475, 1.1941017895588417, 1.194098705488204, 1.1940987714688767, 1.1941045522608327, 1.1941004689909365, 1.1941274960696262, 1.1940939824011563, 1.1940850708813793, 1.1940751676968182, 1.194098496243794, 1.1940937671366116, 2.3641107789961486, 2.4072207463409314, 9.1193334276292, 6.274507629366655, 27.331496955837498, 3.5753464681992555, 10.35656870388089, 34.587922378600425, 4.997894507753212, 6.053573605593178, 6.898627508185557, 10.46588089275752, 11.38758977469313, 12.286887564560102, 8.055610668223858, 4.260244345620146, 7.912732069227745, 1.8407096888309824, 1.793659159106647, 1.8406949181834726, 1.7862231538567235, 2.5421374703966215, 1.90055279354511, 1.9004672625352776, 1.9005375054619238, 1.900518221502943, 1.2589489191617886, 1.2589641121700959, 1.2589805670910699, 1.2589303088501647, 1.2589224667342522, 1.2589375333508968, 1.2589504151117694, 1.2589520451177556, 1.2589178932413194, 1.2589354804452106, 1.2589123595490173, 1.25893794060961, 1.2589304172489502, 1.2589054155617059, 1.2589374827239448, 1.2589197054819223, 1.2589192031839367, 1.258945886168988, 1.2589356169330672, 1.2589363390180577, 1.258891650079204, 1.2588913456105173, 1.2589165445544286, 1.2589253468512702, 1.2589234563041771, 2.5470674884132825, 4.926585495284865, 18.966411033598696, 19.07587488914502, 3.735989873069365, 3.76045014434889, 4.947249518238772, 5.523796390305847, 8.833331200507251, 34.587922378600425, 10.46588089275752, 13.914666261167321, 27.331496955837498, 7.630212552799942, 11.38758977469313, 8.055610668223858, 1.9056270994380733, 3.187649450400075, 3.693972928280838, 1.8585294891668631, 1.8522973182123403, 2.5513633001237226, 5.005869558541304, 1.8039999365976784, 1.2106767078379659, 1.2106866459259182, 1.2106754483774056, 1.2106978596503803, 1.2106674580453385, 1.210687591829703, 1.2106811471175072, 1.210674189710888, 1.2106304923289377, 1.2106634845811515, 1.2106655887677549, 1.2106634953152366, 1.210663325359575, 1.2106561491063645, 1.210645800875513, 1.210666698011231, 1.21064758151025, 1.2106574665520387, 1.2106463590998509, 1.2106340718045352, 1.2106711787940274, 1.2106374364711783, 1.2106788153080532, 1.21063906108402, 1.2106782046609705, 1.2106771515289363, 1.2106834158723634, 1.2106639985305085, 1.2106375979335242, 6.053573605593178, 27.331496955837498, 34.587922378600425, 3.5797951853945738, 3.595227598095632, 7.912732069227745, 8.055610668223858, 9.1193334276292, 4.936494837965801, 4.947249518238772, 5.523796390305847, 6.071271983590731, 7.630212552799942, 12.286887564560102, 13.914666261167321, 18.966411033598696, 19.07587488914502, 10.46588089275752, 9.568917251747843, 4.412953332905666, 2.5039082888099533, 4.926585495284865, 3.0406735473696447, 3.6028983190092, 3.8057172179775955, 3.7970204367571037, 3.5753464681992555, 2.50299168488382, 4.17387938588848, 1.801735760918445, 1.8017075711085964, 1.801764582743983, 1.8017204899057726, 1.8016021788929333, 1.209545859359999, 1.2095564712769358, 1.2095521928365827, 1.20952936952677, 1.2095391164638527, 1.2095229488479462, 1.2095217909400011, 1.2095277712503751, 1.2095120598207365, 1.2095162696699344, 1.2095321150868865, 1.2094997793634876, 1.209500344520754, 1.2095053078141067, 1.2095193786393763, 1.2095182895980585, 1.2094840734144454, 1.2095183194287475, 1.2094832708845298, 1.209490112599263, 1.2095114218452592, 1.2095026612156174, 1.2095389744337601, 1.2095064958926292, 1.2094827284604592, 2.401275185279716, 2.4482530594184695, 7.912732069227745, 3.0509908774614227, 34.587922378600425, 6.071271983590731, 12.286887564560102, 13.914666261167321, 18.966411033598696, 11.38758977469313, 9.461856954535367, 4.947249518238772, 10.35656870388089, 2.4506537641144877, 1.84593138458718, 3.1066683572492786, 1.7862879759776802, 4.902165450164871, 5.523796390305847, 1.8560850454459188, 1.845817119030082, 1.8655517716697312], \"Category\": [\"Default\", \"Default\", \"Default\", \"Default\", \"Default\", \"Default\", \"Default\", \"Default\", \"Default\", \"Default\", \"Default\", \"Default\", \"Default\", \"Default\", \"Default\", \"Default\", \"Default\", \"Default\", \"Default\", \"Default\", \"Default\", \"Default\", \"Default\", \"Default\", \"Default\", \"Default\", \"Default\", \"Default\", \"Default\", \"Default\", \"Topic1\", \"Topic1\", \"Topic1\", \"Topic1\", \"Topic1\", \"Topic1\", \"Topic1\", \"Topic1\", \"Topic1\", \"Topic1\", \"Topic1\", \"Topic1\", \"Topic1\", \"Topic1\", \"Topic1\", \"Topic1\", \"Topic1\", \"Topic1\", \"Topic1\", \"Topic1\", \"Topic1\", \"Topic1\", \"Topic1\", \"Topic1\", \"Topic1\", \"Topic1\", \"Topic1\", \"Topic1\", \"Topic1\", \"Topic1\", \"Topic1\", \"Topic1\", \"Topic1\", \"Topic1\", \"Topic1\", \"Topic1\", \"Topic1\", \"Topic1\", \"Topic1\", \"Topic1\", \"Topic1\", \"Topic1\", \"Topic1\", \"Topic1\", \"Topic1\", \"Topic1\", \"Topic1\", \"Topic1\", \"Topic1\", \"Topic1\", \"Topic1\", \"Topic1\", \"Topic1\", \"Topic1\", \"Topic1\", \"Topic2\", \"Topic2\", \"Topic2\", \"Topic2\", \"Topic2\", \"Topic2\", \"Topic2\", \"Topic2\", \"Topic2\", \"Topic2\", \"Topic2\", \"Topic2\", \"Topic2\", \"Topic2\", \"Topic2\", \"Topic2\", \"Topic2\", \"Topic2\", \"Topic2\", \"Topic2\", \"Topic2\", \"Topic2\", \"Topic2\", \"Topic2\", \"Topic2\", \"Topic2\", \"Topic2\", \"Topic2\", \"Topic2\", \"Topic2\", \"Topic2\", \"Topic2\", \"Topic2\", \"Topic2\", \"Topic2\", \"Topic2\", \"Topic2\", \"Topic2\", \"Topic2\", \"Topic2\", \"Topic2\", \"Topic2\", \"Topic2\", \"Topic2\", \"Topic2\", \"Topic2\", \"Topic2\", \"Topic2\", \"Topic2\", \"Topic2\", \"Topic2\", \"Topic2\", \"Topic3\", \"Topic3\", \"Topic3\", \"Topic3\", \"Topic3\", \"Topic3\", \"Topic3\", \"Topic3\", \"Topic3\", \"Topic3\", \"Topic3\", \"Topic3\", \"Topic3\", \"Topic3\", \"Topic3\", \"Topic3\", \"Topic3\", \"Topic3\", \"Topic3\", \"Topic3\", \"Topic3\", \"Topic3\", \"Topic3\", \"Topic3\", \"Topic3\", \"Topic3\", \"Topic3\", \"Topic3\", \"Topic3\", \"Topic3\", \"Topic3\", \"Topic3\", \"Topic3\", \"Topic3\", \"Topic3\", \"Topic3\", \"Topic3\", \"Topic3\", \"Topic3\", \"Topic3\", \"Topic3\", \"Topic3\", \"Topic3\", \"Topic3\", \"Topic3\", \"Topic3\", \"Topic3\", \"Topic3\", \"Topic3\", \"Topic3\", \"Topic3\", \"Topic3\", \"Topic3\", \"Topic3\", \"Topic3\", \"Topic4\", \"Topic4\", \"Topic4\", \"Topic4\", \"Topic4\", \"Topic4\", \"Topic4\", \"Topic4\", \"Topic4\", \"Topic4\", \"Topic4\", \"Topic4\", \"Topic4\", \"Topic4\", \"Topic4\", \"Topic4\", \"Topic4\", \"Topic4\", \"Topic4\", \"Topic4\", \"Topic4\", \"Topic4\", \"Topic4\", \"Topic4\", \"Topic4\", \"Topic4\", \"Topic4\", \"Topic4\", \"Topic4\", \"Topic4\", \"Topic4\", \"Topic4\", \"Topic4\", \"Topic4\", \"Topic4\", \"Topic4\", \"Topic4\", \"Topic4\", \"Topic4\", \"Topic4\", \"Topic4\", \"Topic4\", \"Topic4\", \"Topic4\", \"Topic4\", \"Topic4\", \"Topic4\", \"Topic4\", \"Topic4\", \"Topic4\", \"Topic4\", \"Topic4\", \"Topic4\", \"Topic5\", \"Topic5\", \"Topic5\", \"Topic5\", \"Topic5\", \"Topic5\", \"Topic5\", \"Topic5\", \"Topic5\", \"Topic5\", \"Topic5\", \"Topic5\", \"Topic5\", \"Topic5\", \"Topic5\", \"Topic5\", \"Topic5\", \"Topic5\", \"Topic5\", \"Topic5\", \"Topic5\", \"Topic5\", \"Topic5\", \"Topic5\", \"Topic5\", \"Topic5\", \"Topic5\", \"Topic5\", \"Topic5\", \"Topic5\", \"Topic5\", \"Topic5\", \"Topic5\", \"Topic5\", \"Topic5\", \"Topic5\", \"Topic5\", \"Topic5\", \"Topic5\", \"Topic5\", \"Topic5\", \"Topic5\", \"Topic5\", \"Topic5\", \"Topic5\", \"Topic5\", \"Topic5\", \"Topic5\", \"Topic5\", \"Topic5\", \"Topic5\", \"Topic6\", \"Topic6\", \"Topic6\", \"Topic6\", \"Topic6\", \"Topic6\", \"Topic6\", \"Topic6\", \"Topic6\", \"Topic6\", \"Topic6\", \"Topic6\", \"Topic6\", \"Topic6\", \"Topic6\", \"Topic6\", \"Topic6\", \"Topic6\", \"Topic6\", \"Topic6\", \"Topic6\", \"Topic6\", \"Topic6\", \"Topic6\", \"Topic6\", \"Topic6\", \"Topic6\", \"Topic6\", \"Topic6\", \"Topic6\", \"Topic6\", \"Topic6\", \"Topic6\", \"Topic6\", \"Topic6\", \"Topic6\", \"Topic6\", \"Topic6\", \"Topic6\", \"Topic6\", \"Topic6\", \"Topic6\", \"Topic6\", \"Topic6\", \"Topic6\", \"Topic6\", \"Topic6\", \"Topic6\", \"Topic6\", \"Topic6\", \"Topic6\", \"Topic7\", \"Topic7\", \"Topic7\", \"Topic7\", \"Topic7\", \"Topic7\", \"Topic7\", \"Topic7\", \"Topic7\", \"Topic7\", \"Topic7\", \"Topic7\", \"Topic7\", \"Topic7\", \"Topic7\", \"Topic7\", \"Topic7\", \"Topic7\", \"Topic7\", \"Topic7\", \"Topic7\", \"Topic7\", \"Topic7\", \"Topic7\", \"Topic7\", \"Topic7\", \"Topic7\", \"Topic7\", \"Topic7\", \"Topic7\", \"Topic7\", \"Topic7\", \"Topic7\", \"Topic7\", \"Topic7\", \"Topic7\", \"Topic7\", \"Topic7\", \"Topic7\", \"Topic7\", \"Topic7\", \"Topic7\", \"Topic7\", \"Topic7\", \"Topic7\", \"Topic7\", \"Topic7\", \"Topic7\", \"Topic7\", \"Topic7\", \"Topic7\", \"Topic7\", \"Topic7\", \"Topic8\", \"Topic8\", \"Topic8\", \"Topic8\", \"Topic8\", \"Topic8\", \"Topic8\", \"Topic8\", \"Topic8\", \"Topic8\", \"Topic8\", \"Topic8\", \"Topic8\", \"Topic8\", \"Topic8\", \"Topic8\", \"Topic8\", \"Topic8\", \"Topic8\", \"Topic8\", \"Topic8\", \"Topic8\", \"Topic8\", \"Topic8\", \"Topic8\", \"Topic8\", \"Topic8\", \"Topic8\", \"Topic8\", \"Topic8\", \"Topic8\", \"Topic8\", \"Topic8\", \"Topic8\", \"Topic8\", \"Topic8\", \"Topic8\", \"Topic8\", \"Topic8\", \"Topic8\", \"Topic8\", \"Topic8\", \"Topic8\", \"Topic8\", \"Topic8\", \"Topic8\", \"Topic8\", \"Topic8\", \"Topic8\", \"Topic8\", \"Topic8\", \"Topic8\", \"Topic8\", \"Topic8\", \"Topic8\", \"Topic8\", \"Topic8\", \"Topic8\", \"Topic8\", \"Topic9\", \"Topic9\", \"Topic9\", \"Topic9\", \"Topic9\", \"Topic9\", \"Topic9\", \"Topic9\", \"Topic9\", \"Topic9\", \"Topic9\", \"Topic9\", \"Topic9\", \"Topic9\", \"Topic9\", \"Topic9\", \"Topic9\", \"Topic9\", \"Topic9\", \"Topic9\", \"Topic9\", \"Topic9\", \"Topic9\", \"Topic9\", \"Topic9\", \"Topic9\", \"Topic9\", \"Topic9\", \"Topic9\", \"Topic9\", \"Topic9\", \"Topic9\", \"Topic9\", \"Topic9\", \"Topic9\", \"Topic9\", \"Topic9\", \"Topic9\", \"Topic9\", \"Topic9\", \"Topic9\", \"Topic9\", \"Topic9\", \"Topic9\", \"Topic9\", \"Topic9\", \"Topic9\", \"Topic9\", \"Topic9\", \"Topic9\", \"Topic9\", \"Topic9\"], \"logprob\": [30.0, 29.0, 28.0, 27.0, 26.0, 25.0, 24.0, 23.0, 22.0, 21.0, 20.0, 19.0, 18.0, 17.0, 16.0, 15.0, 14.0, 13.0, 12.0, 11.0, 10.0, 9.0, 8.0, 7.0, 6.0, 5.0, 4.0, 3.0, 2.0, 1.0, -4.4268, -5.3111, -5.3111, -5.3112, -5.3112, -5.9528, -5.9528, -5.9528, -5.9528, -5.9528, -5.9528, -5.9528, -5.9528, -5.9528, -5.9529, -5.9528, -5.9529, -5.9529, -5.9529, -5.9529, -5.9529, -5.9529, -5.9529, -5.9529, -5.9529, -5.9529, -5.9529, -5.9529, -5.9529, -5.9529, -4.9233, -2.8349, -5.311, -4.9232, -5.311, -4.9232, -4.427, -4.9233, -3.8487, -4.4268, -4.4269, -4.9232, -4.2482, -3.9651, -5.311, -3.8488, -5.3111, -4.9233, -5.311, -5.311, -5.3111, -5.3114, -5.9527, -5.9527, -5.9527, -5.2024, -5.2024, -5.2025, -5.2024, -5.2028, -4.536, -4.8148, -3.6361, -5.8441, -5.8442, -5.8442, -5.8442, -5.8442, -5.8442, -5.8443, -5.8442, -5.8443, -5.8443, -5.8443, -5.8443, -5.8443, -5.8443, -5.8443, -5.8443, -5.8443, -5.8443, -5.8443, -5.8443, -5.8443, -5.8443, -4.3182, -4.8148, -5.2025, -5.2025, -4.3183, -4.3184, -4.5361, -3.3762, -5.2026, -4.5359, -4.1394, -4.1395, -5.2024, -5.2024, -4.8147, -5.2025, -5.2023, -5.2024, -5.843, -5.8441, -5.8441, -5.8441, -5.1444, -5.1444, -5.1445, -5.1446, -5.1447, -5.786, -5.786, -5.786, -5.786, -5.786, -5.7861, -5.7861, -5.7861, -5.7861, -5.7861, -5.7861, -5.7861, -5.7861, -5.7861, -5.7861, -5.7861, -5.7861, -5.7861, -5.7861, -5.7861, -5.7861, -5.7862, -5.7861, -5.7861, -5.7861, -4.26, -4.7566, -4.0813, -5.1444, -4.478, -4.4778, -5.1442, -5.1449, -5.1442, -5.1443, -5.1443, -4.2598, -4.7565, -5.1443, -5.144, -5.1445, -5.144, -5.7853, -5.7856, -5.7857, -5.7858, -5.7859, -5.7859, -5.7859, -5.7859, -4.7296, -5.1173, -5.118, -4.7295, -5.7591, -5.7591, -5.7591, -5.7591, -5.7591, -5.7591, -5.7591, -5.7591, -5.7591, -5.7591, -5.7591, -5.7591, -5.7592, -5.7592, -5.7592, -5.7591, -5.7592, -5.7592, -5.7592, -5.7592, -5.7592, -5.7592, -5.7592, -5.7592, -5.7592, -5.7592, -4.7297, -5.1173, -4.7297, -4.7297, -4.4508, -5.1174, -5.1174, -5.1173, -4.7296, -5.1175, -4.7294, -5.1171, -5.1171, -5.663, -5.6733, -5.6966, -5.7588, -5.7589, -5.7589, -5.759, -5.759, -5.759, -5.759, -4.9817, -4.9818, -4.3154, -3.4152, -5.6235, -5.6235, -5.6235, -5.6235, -5.6235, -5.6235, -5.6235, -5.6236, -5.6235, -5.6236, -5.6236, -5.6236, -5.6236, -5.6236, -5.6236, -5.6236, -5.6236, -5.6236, -5.6236, -5.6236, -5.6236, -5.6236, -5.6237, -5.6237, -5.6236, -5.6237, -3.2348, -4.9818, -4.9819, -4.9818, -4.9817, -4.9819, -4.9818, -4.9815, -4.9818, -5.6228, -5.6231, -5.6232, -5.6232, -5.6233, -5.6235, -5.6235, -5.6235, -5.6235, -5.6235, -5.6235, -5.6235, -4.6931, -5.0807, -5.0807, -5.0807, -5.0807, -5.0809, -4.4143, -5.7224, -5.7224, -5.7224, -5.7225, -5.7225, -5.7225, -5.7225, -5.7225, -5.7225, -5.7225, -5.7225, -5.7225, -5.7225, -5.7225, -5.7225, -5.7225, -5.7225, -5.7225, -5.7225, -5.7225, -5.7226, -5.7225, -5.7226, -5.0809, -5.0806, -4.1964, -4.693, -3.8661, -5.0806, -4.6928, -4.1963, -5.0806, -5.0805, -5.0806, -5.0808, -5.0806, -5.0805, -5.7221, -5.7222, -5.7223, -5.7224, -5.7224, -5.7224, -5.7224, -4.5644, -4.952, -4.9521, -4.9521, -4.9522, -5.5938, -5.5938, -5.5938, -5.5938, -5.5939, -5.5939, -5.5939, -5.5939, -5.5939, -5.5939, -5.5939, -5.5939, -5.5939, -5.5939, -5.5939, -5.5939, -5.5939, -5.5939, -5.5939, -5.5939, -5.594, -5.594, -5.594, -5.594, -5.594, -4.9521, -4.5644, -3.6059, -3.606, -4.9521, -4.9519, -4.9519, -4.952, -4.952, -4.5641, -4.9521, -4.952, -4.9516, -5.5935, -5.5936, -5.5936, -5.5937, -5.5937, -5.5937, -5.5937, -5.5938, -5.5938, -5.5938, -5.0201, -5.6617, -5.6617, -5.6618, -5.6618, -5.6618, -5.6618, -5.6618, -5.6618, -5.6619, -5.6618, -5.6618, -5.6618, -5.6618, -5.6618, -5.6619, -5.6618, -5.6619, -5.6619, -5.6619, -5.6619, -5.6619, -5.6619, -5.6619, -5.6619, -5.6619, -5.6619, -5.6619, -5.6619, -5.6619, -4.3534, -3.3593, -3.6739, -5.0203, -5.02, -4.6322, -4.6321, -4.6322, -5.0199, -5.02, -5.0201, -5.0199, -5.0199, -5.0197, -5.0198, -5.0198, -5.6611, -5.6613, -5.6615, -5.6616, -5.6616, -5.6617, -5.6617, -5.6617, -5.6617, -5.6617, -5.6617, -5.6617, -5.6617, -4.985, -4.985, -4.985, -4.9851, -4.9854, -5.6266, -5.6267, -5.6267, -5.6267, -5.6267, -5.6267, -5.6267, -5.6267, -5.6268, -5.6268, -5.6268, -5.6268, -5.6268, -5.6268, -5.6268, -5.6268, -5.6268, -5.6268, -5.6268, -5.6268, -5.6268, -5.6268, -5.6268, -5.6268, -5.6269, -4.9849, -4.985, -4.3185, -4.9851, -3.7705, -4.9849, -4.9848, -4.9849, -5.6263, -5.6263, -5.6265, -5.6265, -5.6266, -5.6266, -5.6266, -5.6266, -5.6266, -5.6266, -5.6267, -5.6267, -5.6267, -5.6267], \"loglift\": [30.0, 29.0, 28.0, 27.0, 26.0, 25.0, 24.0, 23.0, 22.0, 21.0, 20.0, 19.0, 18.0, 17.0, 16.0, 15.0, 14.0, 13.0, 12.0, 11.0, 10.0, 9.0, 8.0, 7.0, 6.0, 5.0, 4.0, 3.0, 2.0, 1.0, 1.6387, 1.6098, 1.6098, 1.6097, 1.6097, 1.3786, 1.3786, 1.3786, 1.3786, 1.3786, 1.3786, 1.3786, 1.3786, 1.3786, 1.3785, 1.3785, 1.3785, 1.3785, 1.3785, 1.3785, 1.3785, 1.3785, 1.3785, 1.3785, 1.3785, 1.3785, 1.3785, 1.3785, 1.3785, 1.3785, 1.3157, 1.1791, 1.3343, 1.3033, 1.3295, 1.1535, 1.0441, 1.1496, 0.7603, 0.9203, 0.8833, 1.0376, 0.8008, 0.6497, 1.1074, 0.4006, 1.0871, 0.8335, 0.4056, 0.178, 0.0679, -0.3869, -0.0042, 0.1424, 0.3049, 1.6978, 1.6978, 1.6978, 1.6978, 1.6976, 1.6817, 1.5866, 1.4889, 1.4716, 1.4716, 1.4716, 1.4716, 1.4716, 1.4716, 1.4716, 1.4716, 1.4715, 1.4715, 1.4715, 1.4715, 1.4715, 1.4715, 1.4715, 1.4715, 1.4715, 1.4715, 1.4715, 1.4715, 1.4715, 1.4715, 1.4027, 1.4021, 1.4301, 1.4272, 1.3078, 1.2069, 1.1806, 0.8732, 1.2099, 0.7743, 0.4754, 0.4695, 1.0186, 1.0151, 0.5642, 0.7444, 0.0176, 0.007, -1.829, 0.0043, 0.2846, 0.1145, 1.803, 1.803, 1.8029, 1.8029, 1.8028, 1.5653, 1.5653, 1.5653, 1.5653, 1.5653, 1.5653, 1.5653, 1.5652, 1.5652, 1.5652, 1.5652, 1.5652, 1.5652, 1.5652, 1.5652, 1.5652, 1.5652, 1.5652, 1.5652, 1.5652, 1.5652, 1.5652, 1.5652, 1.5652, 1.5652, 1.4897, 1.3495, 1.1385, 1.283, 0.9009, 0.8324, 1.1315, 1.1003, 0.9509, 0.9324, 0.8235, -0.2458, 0.2925, 0.6096, 0.0654, -0.0196, -0.535, -1.5359, -1.1708, -0.8612, -0.1597, 0.4532, 0.0625, -0.2605, 1.1806, 1.9457, 1.8432, 1.8427, 1.7317, 1.6021, 1.6021, 1.6021, 1.6021, 1.6021, 1.6021, 1.6021, 1.602, 1.602, 1.602, 1.602, 1.602, 1.602, 1.602, 1.602, 1.602, 1.602, 1.602, 1.602, 1.602, 1.602, 1.602, 1.602, 1.602, 1.602, 1.602, 1.5211, 1.543, 1.3785, 1.2171, 0.7585, 1.1648, 1.1604, 1.1221, 0.4903, 0.8454, -0.1146, -0.0682, -0.508, 1.2918, 1.2814, 1.2579, -0.4599, -0.1328, -0.38, 0.458, -0.0424, -0.0093, -0.6341, 1.9283, 1.9283, 1.9078, 1.8837, 1.6998, 1.6997, 1.6997, 1.6997, 1.6997, 1.6997, 1.6997, 1.6997, 1.6997, 1.6997, 1.6997, 1.6997, 1.6997, 1.6997, 1.6997, 1.6997, 1.6997, 1.6997, 1.6996, 1.6996, 1.6996, 1.6996, 1.6996, 1.6996, 1.6996, 1.6996, 1.6897, 1.6578, 1.4303, 1.0912, 0.9861, 0.9666, 0.5436, 0.2278, 0.0671, -1.6088, -0.152, -0.2442, -1.0141, 0.1306, 0.3374, 0.6342, 0.442, 0.0975, 0.8207, 1.2892, 1.2817, 2.011, 1.9053, 1.9053, 1.9053, 1.9052, 1.9051, 1.7143, 1.6577, 1.6577, 1.6576, 1.6576, 1.6576, 1.6576, 1.6576, 1.6576, 1.6576, 1.6576, 1.6576, 1.6576, 1.6576, 1.6576, 1.6576, 1.6576, 1.6576, 1.6576, 1.6576, 1.6575, 1.6575, 1.6575, 1.6575, 1.6162, 1.5984, 1.1507, 1.028, 0.3833, 1.2028, 0.5271, -0.1823, 0.8678, 0.6763, 0.5455, 0.1286, 0.0444, -0.0316, -0.251, 0.3859, -0.2333, 1.225, 1.2508, 1.225, 1.255, 2.0601, 1.9633, 1.9632, 1.9632, 1.9632, 1.7334, 1.7334, 1.7334, 1.7334, 1.7334, 1.7333, 1.7333, 1.7333, 1.7333, 1.7333, 1.7333, 1.7333, 1.7333, 1.7333, 1.7333, 1.7333, 1.7333, 1.7333, 1.7333, 1.7333, 1.7333, 1.7332, 1.7332, 1.7332, 1.7332, 1.6704, 1.3985, 1.0089, 1.0031, 1.2874, 1.281, 1.0067, 0.8964, 0.427, -0.5501, 0.2572, -0.0275, -0.7022, -0.0682, -0.4687, -0.1225, 1.319, 0.8045, 0.6571, 1.3439, 1.3473, 1.027, 0.3531, 1.9474, 1.7046, 1.7045, 1.7045, 1.7045, 1.7045, 1.7045, 1.7045, 1.7045, 1.7045, 1.7045, 1.7045, 1.7045, 1.7045, 1.7045, 1.7045, 1.7045, 1.7044, 1.7044, 1.7044, 1.7044, 1.7044, 1.7044, 1.7044, 1.7044, 1.7044, 1.7044, 1.7044, 1.7044, 1.7044, 1.4034, 0.8901, 0.34, 1.2619, 1.2578, 0.8568, 0.839, 0.7149, 0.9409, 0.9387, 0.8283, 0.734, 0.5054, 0.0292, -0.0952, -0.405, -1.0521, -0.4519, -0.3626, 0.4114, 0.978, 0.3012, 0.7837, 0.6141, 0.5593, 0.5616, 0.6217, 0.9783, 0.4669, 1.9838, 1.9837, 1.9837, 1.9836, 1.9834, 1.7406, 1.7406, 1.7406, 1.7405, 1.7405, 1.7405, 1.7405, 1.7405, 1.7405, 1.7405, 1.7405, 1.7405, 1.7405, 1.7405, 1.7405, 1.7405, 1.7405, 1.7405, 1.7404, 1.7404, 1.7404, 1.7404, 1.7404, 1.7404, 1.7404, 1.6966, 1.6771, 1.1705, 1.457, 0.2435, 0.769, 0.0642, -0.0604, -1.0115, -0.5013, -0.3163, 0.3321, -0.4067, 1.0345, 1.3179, 0.7973, 1.3507, 0.3411, 0.2217, 1.3123, 1.3179, 1.3072]}, \"token.table\": {\"Topic\": [7, 2, 5, 8, 1, 2, 6, 6, 8, 1, 2, 5, 6, 9, 3, 5, 1, 7, 3, 6, 7, 8, 6, 9, 4, 2, 1, 4, 1, 2, 3, 4, 6, 2, 2, 4, 1, 4, 3, 9, 5, 1, 3, 5, 6, 8, 9, 1, 3, 5, 7, 8, 9, 6, 7, 7, 2, 3, 7, 9, 2, 3, 5, 6, 9, 3, 3, 5, 9, 6, 8, 6, 7, 8, 6, 9, 4, 2, 5, 1, 2, 3, 7, 8, 9, 8, 4, 2, 2, 8, 6, 2, 9, 9, 5, 9, 1, 2, 7, 5, 2, 4, 7, 9, 6, 3, 4, 5, 6, 9, 4, 7, 1, 2, 8, 9, 3, 1, 6, 4, 5, 5, 1, 3, 4, 1, 2, 3, 5, 6, 7, 8, 9, 3, 1, 6, 4, 9, 7, 1, 4, 4, 6, 7, 4, 3, 4, 6, 5, 7, 9, 5, 8, 7, 9, 8, 3, 5, 6, 8, 9, 1, 2, 4, 1, 2, 3, 9, 1, 7, 9, 2, 9, 3, 6, 1, 7, 2, 7, 7, 2, 3, 1, 3, 4, 8, 9, 2, 3, 1, 2, 4, 5, 8, 6, 9, 7, 1, 6, 9, 4, 6, 5, 9, 1, 4, 5, 6, 9, 1, 3, 8, 2, 6, 8, 4, 1, 2, 3, 4, 6, 9, 6, 7, 5, 2, 6, 7, 8, 1, 1, 8, 9, 5, 4, 2, 3, 4, 6, 9, 6, 1, 3, 5, 2, 1, 8, 1, 2, 7, 5, 2, 2, 1, 3, 1, 8, 9, 5, 3, 3, 7, 9, 1, 2, 3, 6, 7, 8, 4, 2, 9, 5, 4, 2, 6, 5, 4, 1, 5, 8, 6, 1, 2, 5, 6, 7, 6, 7, 7, 4, 9, 1, 5, 8, 1, 3, 5, 6, 7, 8, 1, 4, 7, 9, 4, 4, 1, 3, 1, 1, 2, 3, 4, 5, 7, 8, 9, 2, 3, 8, 2, 3, 2, 2, 7, 1, 3, 4, 5, 8, 2, 6, 7, 2, 4, 2, 1, 4, 7, 9, 9, 1, 8, 1, 2, 3, 5, 7, 8, 9, 7, 8, 6, 2, 9, 1, 4, 8, 7, 6, 7, 5, 1, 6, 8, 8, 1, 2, 6, 8, 8, 1, 3, 6, 8, 9, 2, 9, 5, 8, 5, 1, 9, 4, 2, 3, 6, 7, 6, 4, 2, 3, 6, 7, 8, 9, 9, 1, 5, 1, 2, 4, 7, 6, 5, 6, 6, 1, 9, 3, 9, 9, 2, 5, 6, 3, 1, 5, 6, 8, 2, 1, 3, 5, 4, 2, 7, 3, 9, 1, 2, 6, 7, 8, 9, 9, 3, 6, 3, 8, 8, 3, 4, 1, 5, 7, 8, 4, 6, 3, 4, 3, 6, 4, 7, 1, 5, 7, 6, 3, 4, 3, 4, 5, 5, 2, 3, 4, 6, 7, 9, 4, 8, 9, 3, 1, 2, 3, 7, 6, 3, 3, 5, 8, 2, 3, 4, 5, 6, 7, 8, 9, 4, 7, 8, 9, 2, 1, 3, 4, 1, 2, 5, 8, 6, 4, 4, 1, 2, 8, 3, 1, 7, 9, 3, 8, 8, 4, 2, 3, 4, 1, 1, 3, 4, 5, 6, 8, 9, 8, 1, 4, 7, 9, 3, 4, 6, 8, 7, 7, 8, 4, 2, 3, 6, 1, 2, 3, 4, 7, 8, 9, 5, 8, 3, 4, 9, 6, 9, 5, 7, 8, 8, 5, 6, 5, 5, 5, 8, 1, 2, 3, 4, 6, 4, 6, 8, 8, 6, 1, 7, 1, 7, 1, 2, 3, 4, 5, 7, 5, 5, 9, 1, 5, 2], \"Freq\": [0.7943338296137274, 0.7853253308999174, 0.7911920324985517, 0.8259843387800913, 0.3182252816372552, 0.3182252816372552, 0.3182252816372552, 0.4229920225754485, 0.4229920225754485, 0.7976704016133612, 0.4781251657036902, 0.15937505523456338, 0.31875011046912677, 0.8267946877638737, 0.8137209718095851, 0.7911665299204844, 0.7976394720091975, 0.7943134028549804, 0.328874502448662, 0.328874502448662, 0.328874502448662, 0.328874502448662, 0.8374363750298947, 0.8267993647143803, 0.8217808869620051, 0.7853179857237653, 0.4016719734232885, 0.4016719734232885, 0.1449563697726035, 0.43486910931781053, 0.1449563697726035, 0.1449563697726035, 0.1449563697726035, 0.7853000058966219, 0.3954221368290389, 0.3954221368290389, 0.7976736743896866, 0.8217846760672511, 0.8137311257346523, 0.8267678530131529, 0.791200571280914, 0.16471013038170138, 0.16471013038170138, 0.16471013038170138, 0.16471013038170138, 0.16471013038170138, 0.16471013038170138, 0.07186661765584514, 0.07186661765584514, 0.5749329412467611, 0.07186661765584514, 0.07186661765584514, 0.07186661765584514, 0.8374373911963131, 0.7943282757004815, 0.794331835180222, 0.2659256103960785, 0.2659256103960785, 0.2659256103960785, 0.2659256103960785, 0.7852938879874984, 0.32846880553640767, 0.32846880553640767, 0.32846880553640767, 0.32846880553640767, 0.8137127957383153, 0.5433198104465344, 0.5387684160559318, 0.5387684160559318, 0.8374518543869218, 0.8260110223793906, 0.8374537982540419, 0.5261722769535948, 0.8260050447296002, 0.8374504708511176, 0.8267880797185931, 0.8217641650630022, 0.520852077348188, 0.520852077348188, 0.7976606165326481, 0.20213251753592598, 0.20213251753592598, 0.20213251753592598, 0.20213251753592598, 0.20213251753592598, 0.825976913242092, 0.8217696968140811, 0.7853218526088604, 0.7853320200758614, 0.8259840360719809, 0.8374612700432466, 0.7853096640009278, 0.8267988161075496, 0.5550614956596522, 0.4084545084720649, 0.4084545084720649, 0.3919473169311118, 0.3919473169311118, 0.3919473169311118, 0.7911630161351171, 0.3218882368523639, 0.3218882368523639, 0.3218882368523639, 0.3218882368523639, 0.8374550200723226, 0.20399148298153988, 0.20399148298153988, 0.20399148298153988, 0.20399148298153988, 0.20399148298153988, 0.5380597971831361, 0.5380597971831361, 0.797635267471558, 0.3277623697229964, 0.3277623697229964, 0.3277623697229964, 0.8136959119981192, 0.41541682519978224, 0.41541682519978224, 0.8217731309923, 0.7911624401486449, 0.7911976370013211, 0.535113765326, 0.267556882663, 0.267556882663, 0.46258921900146316, 0.028911826187591447, 0.08673547856277435, 0.028911826187591447, 0.08673547856277435, 0.057823652375182895, 0.14455913093795725, 0.11564730475036579, 0.8137129503870706, 0.5291069933937004, 0.8374524152370021, 0.8217972279482295, 0.8267997355141168, 0.7943294685569693, 0.4077055029847764, 0.4077055029847764, 0.8217678170603643, 0.8374520543267852, 0.526166938103624, 0.8217789011473381, 0.547264656369296, 0.547264656369296, 0.8374373211156428, 0.7911858968265398, 0.794315316477209, 0.8267834884689801, 0.39937564984669455, 0.39937564984669455, 0.7943300929358118, 0.8267659763032957, 0.8259983652155415, 0.46852259394791246, 0.23426129697395623, 0.23426129697395623, 0.23426129697395623, 0.8267722418598887, 0.2617042471108658, 0.5234084942217316, 0.2617042471108658, 0.31706249781783113, 0.31706249781783113, 0.31706249781783113, 0.10568749927261037, 0.32012173646371916, 0.32012173646371916, 0.32012173646371916, 0.7853436994386114, 0.5550114646371048, 0.8137066358148508, 0.8374440068048833, 0.7976593369244586, 0.7943213401719564, 0.5182866424333087, 0.526186385692312, 0.7943250765083807, 0.7853326353208406, 0.8136873510991757, 0.1640207661324129, 0.49206229839723875, 0.1640207661324129, 0.1640207661324129, 0.1640207661324129, 0.7853230738071177, 0.8137522414739662, 0.10450503162385918, 0.10450503162385918, 0.10450503162385918, 0.7315352213670142, 0.10450503162385918, 0.5598404644127751, 0.5598404644127751, 0.7943321521118247, 0.5290945480351582, 0.5647067909465614, 0.5550203429887213, 0.5575195236636049, 0.5575195236636049, 0.791205110456547, 0.8267861097510479, 0.2725753443057883, 0.2725753443057883, 0.2725753443057883, 0.2725753443057883, 0.2725753443057883, 0.7976480088964026, 0.8137240073629075, 0.8259974663585129, 0.2395852653004091, 0.4791705306008182, 0.2395852653004091, 0.5505785280611103, 0.09655707682654319, 0.09655707682654319, 0.38622830730617275, 0.19311415365308637, 0.19311415365308637, 0.09655707682654319, 0.8374315165603496, 0.7943218818857655, 0.7911803778420259, 0.7853258091942781, 0.8374560313452291, 0.5398701332489668, 0.5398701332489668, 0.7976514203385187, 0.7976466482438083, 0.5543237445373682, 0.8267876933894011, 0.7911803327111243, 0.8217869181547602, 0.23472832046079137, 0.23472832046079137, 0.46945664092158274, 0.23472832046079137, 0.8267611905959266, 0.5646905695915664, 0.5284506802351501, 0.26422534011757504, 0.26422534011757504, 0.785327452917812, 0.7976562625405191, 0.8259911680421256, 0.31371078142688874, 0.31371078142688874, 0.31371078142688874, 0.7911856738147427, 0.7853358287854184, 0.7853158031810099, 0.5291124103745186, 0.5433604660157864, 0.7976544450343892, 0.8259851980481135, 0.8267565816223992, 0.7911996652269041, 0.813715615442286, 0.8137110144491876, 0.7943251449028526, 0.8267796851469272, 0.2195269439392529, 0.32929041590887936, 0.036587823989875486, 0.14635129595950194, 0.036587823989875486, 0.2561147679291284, 0.8217858686181648, 0.629427339001975, 0.3147136695009875, 0.7912051701453077, 0.8217664050154032, 0.7856970660243854, 0.2618990220081285, 0.7911731644354286, 0.8217497872109661, 0.7976769315840245, 0.7911853778457082, 0.8259797622481229, 0.5646703411221993, 0.20008425516959277, 0.20008425516959277, 0.20008425516959277, 0.20008425516959277, 0.20008425516959277, 0.837455171044029, 0.7942934356092121, 0.7943203296548315, 0.4164453978994971, 0.4164453978994971, 0.45321122820102877, 0.22660561410051439, 0.22660561410051439, 0.37241124522487074, 0.12413708174162358, 0.12413708174162358, 0.12413708174162358, 0.12413708174162358, 0.24827416348324716, 0.2676666784373356, 0.2676666784373356, 0.2676666784373356, 0.8267754267133202, 0.8217872208584887, 0.8217809347277181, 0.7976641728556808, 0.8137239591301884, 0.7976541565023509, 0.3145334111734112, 0.20968894078227412, 0.05242223519556853, 0.05242223519556853, 0.05242223519556853, 0.26211117597784267, 0.05242223519556853, 0.8267843006057264, 0.7853270247866359, 0.8137231905597231, 0.8259906495005095, 0.7853174741895337, 0.8137202247618602, 0.5182924381438261, 0.7853224252521755, 0.7943206185555096, 0.23167970533432775, 0.23167970533432775, 0.23167970533432775, 0.23167970533432775, 0.23167970533432775, 0.518283460097204, 0.8374495447071123, 0.7943217957691368, 0.7853289374956293, 0.8217718985351938, 0.785316291103524, 0.7976344084851882, 0.40805437905722974, 0.40805437905722974, 0.40805437905722974, 0.8267801212446397, 0.5290862085273804, 0.8259833175736675, 0.7976537351549048, 0.39317384401030037, 0.13105794800343346, 0.13105794800343346, 0.13105794800343346, 0.13105794800343346, 0.8267730333513317, 0.794311430588657, 0.8259699082054835, 0.8374476071686278, 0.5360344404191831, 0.5360344404191831, 0.7976585171612695, 0.5505064505477745, 0.826011132544229, 0.7943408516944175, 0.837446018575484, 0.7943497296146997, 0.791184200966483, 0.33038336201150786, 0.16519168100575393, 0.33038336201150786, 0.8259919248368367, 0.32897141263754903, 0.10965713754584967, 0.32897141263754903, 0.21931427509169935, 0.8259829009608575, 0.7976597075808418, 0.27755432195349905, 0.27755432195349905, 0.27755432195349905, 0.27755432195349905, 0.39657999342986594, 0.39657999342986594, 0.7911995286762404, 0.8260100240814868, 0.5234119098292027, 0.5417319453743605, 0.5417319453743605, 0.821780963843184, 0.26920484077495166, 0.26920484077495166, 0.26920484077495166, 0.26920484077495166, 0.564724454862365, 0.8217691577668055, 0.181034913190316, 0.181034913190316, 0.181034913190316, 0.181034913190316, 0.181034913190316, 0.181034913190316, 0.8267493281601761, 0.7976338284414537, 0.791163576566593, 0.19976549294892076, 0.19976549294892076, 0.39953098589784153, 0.19976549294892076, 0.8374571708429596, 0.5432687218781853, 0.5432687218781853, 0.8374517076384843, 0.541765481363326, 0.541765481363326, 0.813744535726053, 0.5550250472271082, 0.8267746822915142, 0.3181363824576743, 0.3181363824576743, 0.3181363824576743, 0.8136987839508797, 0.4051457695485299, 0.20257288477426494, 0.20257288477426494, 0.20257288477426494, 0.7853142147327484, 0.45493406342466675, 0.22746703171233337, 0.22746703171233337, 0.8217613710398478, 0.7853416984993112, 0.7943038171884698, 0.813715830546016, 0.8267768074528593, 0.12637859986299227, 0.12637859986299227, 0.12637859986299227, 0.12637859986299227, 0.25275719972598454, 0.25275719972598454, 0.8267754063223263, 0.5537890391195001, 0.5537890391195001, 0.8137169320993741, 0.8260042106989774, 0.8259881109882529, 0.8137153149752734, 0.8217646946313106, 0.7976653243636643, 0.5247616389874376, 0.5247616389874376, 0.8260134282437878, 0.6682480049703887, 0.33412400248519436, 0.8137295417055865, 0.8217419793791764, 0.8137033683183523, 0.8374384633223473, 0.821780283660232, 0.7943329786387523, 0.6747890818898898, 0.22492969396329662, 0.7943205866126762, 0.8374682156139647, 0.5472966306114051, 0.5472966306114051, 0.5471695653524942, 0.5471695653524942, 0.7911602316945525, 0.7912225869982191, 0.614704264773942, 0.087814894967706, 0.087814894967706, 0.087814894967706, 0.087814894967706, 0.087814894967706, 0.2781465074783286, 0.2781465074783286, 0.2781465074783286, 0.8137123868085774, 0.261855645742243, 0.261855645742243, 0.261855645742243, 0.261855645742243, 0.5646816003585621, 0.8137207635380075, 0.5433190628426143, 0.5234139941173871, 0.8259860567761856, 0.0955485744818679, 0.0955485744818679, 0.1910971489637358, 0.0955485744818679, 0.0955485744818679, 0.0955485744818679, 0.0955485744818679, 0.0955485744818679, 0.2029803402289638, 0.4059606804579276, 0.2029803402289638, 0.2029803402289638, 0.7853117762929445, 0.3997261973497446, 0.3997261973497446, 0.8217641188829741, 0.26276256030694056, 0.26276256030694056, 0.26276256030694056, 0.26276256030694056, 0.8374290720651407, 0.8278000150371075, 0.8217660687720635, 0.39952190254536, 0.39952190254536, 0.39952190254536, 0.8137337021033996, 0.7976502745355771, 0.7943364702196045, 0.826768945508567, 0.5433452227419342, 0.8259933531237899, 0.8260054255974965, 0.8217590394300017, 0.32299340531822684, 0.32299340531822684, 0.32299340531822684, 0.7976799635399447, 0.3255503054766668, 0.1627751527383334, 0.0813875763691667, 0.0813875763691667, 0.0813875763691667, 0.0813875763691667, 0.0813875763691667, 0.8259934690786089, 0.2707112421815707, 0.5414224843631414, 0.2707112421815707, 0.5550290269273258, 0.2796931734852695, 0.2796931734852695, 0.2796931734852695, 0.2796931734852695, 0.794312459010723, 0.5261627056066647, 0.8259813100921619, 0.8217551136642851, 0.518280218798437, 0.8137019919584232, 0.8519162918417174, 0.26362393977134524, 0.21089915181707616, 0.05272478795426904, 0.10544957590853808, 0.26362393977134524, 0.05272478795426904, 0.05272478795426904, 0.7900931927988754, 0.2633643975996251, 0.5433534671157193, 0.82177472463274, 0.8267612876783447, 0.5598201485136656, 0.5598201485136656, 0.39260836414780614, 0.39260836414780614, 0.8260158705207074, 0.8259775585739713, 0.5432730813354287, 0.5432730813354287, 0.791193550310128, 0.7911818557149207, 0.7911717110533287, 0.8259933604472808, 0.15868278400113278, 0.4760483520033984, 0.15868278400113278, 0.15868278400113278, 0.15868278400113278, 0.27934559051868707, 0.27934559051868707, 0.27934559051868707, 0.8259930097977554, 0.8374516613645677, 0.7976467502104371, 0.7867395147942028, 0.7976514039848954, 0.7943495374975951, 0.11320757450400766, 0.22641514900801532, 0.33962272351202294, 0.11320757450400766, 0.11320757450400766, 0.11320757450400766, 0.7911847416626557, 0.7911649174532799, 0.826752252546332, 0.7976645672735134, 0.7911838129259297, 0.5183382045007989], \"Term\": [\"abbyy\", \"abdul\", \"action\", \"acyclic\", \"algorithm\", \"algorithm\", \"algorithm\", \"amazon\", \"amazon\", \"analyser\", \"analysis\", \"analysis\", \"analysis\", \"analytical\", \"annotated\", \"aperiodic\", \"applications\", \"approaches\", \"arabic\", \"arabic\", \"arabic\", \"arabic\", \"aramaic\", \"arantza\", \"architecture\", \"archive\", \"artificial\", \"artificial\", \"assistant\", \"assistant\", \"assistant\", \"assistant\", \"assistant\", \"assisted\", \"association\", \"association\", \"assyrian\", \"asymmetric\", \"attempto\", \"audio\", \"austin\", \"automatic\", \"automatic\", \"automatic\", \"automatic\", \"automatic\", \"automatic\", \"automaton\", \"automaton\", \"automaton\", \"automaton\", \"automaton\", \"automaton\", \"babel\", \"babylon\", \"bag\", \"based\", \"based\", \"based\", \"based\", \"bhurgri\", \"bible\", \"bible\", \"bible\", \"bible\", \"bidyut\", \"bonnie\", \"braille\", \"braille\", \"british\", \"bulgarian\", \"byzantinae\", \"b\\u00fcchi\", \"cache\", \"canaanite\", \"case\", \"celia\", \"center\", \"center\", \"challenge\", \"character\", \"character\", \"character\", \"character\", \"character\", \"chiew\", \"children\", \"china\", \"classic\", \"claws\", \"cmu\", \"cochin\", \"collins\", \"collocation\", \"company\", \"company\", \"comparison\", \"comparison\", \"comparison\", \"complaint\", \"computational\", \"computational\", \"computational\", \"computational\", \"conceptual\", \"concordance\", \"concordance\", \"concordance\", \"concordance\", \"concordance\", \"conference\", \"conference\", \"consortium\", \"construction\", \"construction\", \"construction\", \"contemporary\", \"context\", \"context\", \"control\", \"conversational\", \"cores\", \"corpora\", \"corpora\", \"corpora\", \"corpus\", \"corpus\", \"corpus\", \"corpus\", \"corpus\", \"corpus\", \"corpus\", \"corpus\", \"cortana\", \"croatian\", \"cross\", \"crowdsourcing\", \"curran\", \"danielle\", \"data\", \"data\", \"database\", \"databases\", \"david\", \"davies\", \"dead\", \"dead\", \"decomposition\", \"deep\", \"dependencies\", \"description\", \"deterministic\", \"deterministic\", \"different\", \"dirichlet\", \"distributed\", \"document\", \"document\", \"document\", \"document\", \"d\\u00edaz\", \"engineering\", \"engineering\", \"engineering\", \"english\", \"english\", \"english\", \"english\", \"entity\", \"entity\", \"entity\", \"entropy\", \"eric\", \"error\", \"essay\", \"etruscorum\", \"etzioni\", \"european\", \"evaluation\", \"evans\", \"example\", \"extended\", \"extraction\", \"extraction\", \"extraction\", \"extraction\", \"extraction\", \"factored\", \"filtered\", \"finite\", \"finite\", \"finite\", \"finite\", \"finite\", \"framework\", \"framework\", \"francine\", \"frederick\", \"free\", \"functional\", \"general\", \"general\", \"generalized\", \"generative\", \"generator\", \"generator\", \"generator\", \"generator\", \"generator\", \"georgetown\", \"german\", \"global\", \"google\", \"google\", \"google\", \"gpt\", \"grammar\", \"grammar\", \"grammar\", \"grammar\", \"grammar\", \"grammar\", \"gregory\", \"hammadi\", \"hillel\", \"hindi\", \"historiae\", \"history\", \"history\", \"hybrid\", \"ichi\", \"identification\", \"ilarraza\", \"image\", \"industry\", \"information\", \"information\", \"information\", \"information\", \"ink\", \"inscriptions\", \"inscriptionum\", \"inscriptionum\", \"inscriptionum\", \"institute\", \"intelligence\", \"intelligent\", \"international\", \"international\", \"international\", \"iudaeae\", \"jewish\", \"josef\", \"journal\", \"katz\", \"key\", \"kgys\", \"kingdom\", \"kneser\", \"krohn\", \"labeling\", \"laboratories\", \"lancaster\", \"language\", \"language\", \"language\", \"language\", \"language\", \"language\", \"languages\", \"latent\", \"latent\", \"latinae\", \"lattice\", \"law\", \"law\", \"layout\", \"lemma\", \"lennon\", \"letter\", \"levenshtein\", \"lex\", \"lexical\", \"lexical\", \"lexical\", \"lexical\", \"lexical\", \"lexicon\", \"library\", \"linguae\", \"linguist\", \"linguist\", \"linguistic\", \"linguistic\", \"linguistic\", \"linguistics\", \"linguistics\", \"linguistics\", \"linguistics\", \"linguistics\", \"linguistics\", \"list\", \"list\", \"list\", \"livac\", \"localization\", \"location\", \"london\", \"longman\", \"lyra\", \"machine\", \"machine\", \"machine\", \"machine\", \"machine\", \"machine\", \"machine\", \"magnetic\", \"majid\", \"mallet\", \"management\", \"mandelbrot\", \"manually\", \"manuscript\", \"mapping\", \"marie\", \"mark\", \"mark\", \"mark\", \"mark\", \"mark\", \"markov\", \"markup\", \"marti\", \"maximum\", \"mchardy\", \"medieval\", \"methods\", \"michael\", \"michael\", \"michael\", \"minimal\", \"mining\", \"mirella\", \"mithriacae\", \"model\", \"model\", \"model\", \"model\", \"model\", \"modular\", \"moens\", \"monitor\", \"monk\", \"monolingual\", \"monolingual\", \"monumentorum\", \"morphological\", \"multi\", \"multiline\", \"music\", \"nag\", \"nathan\", \"national\", \"national\", \"national\", \"native\", \"natural\", \"natural\", \"natural\", \"natural\", \"naver\", \"neo\", \"network\", \"network\", \"network\", \"network\", \"neural\", \"neural\", \"ney\", \"ngram\", \"nondeterministic\", \"number\", \"number\", \"numeral\", \"ocr\", \"ocr\", \"ocr\", \"ocr\", \"ontology\", \"open\", \"optical\", \"optical\", \"optical\", \"optical\", \"optical\", \"optical\", \"oslo\", \"outline\", \"palaestinae\", \"parsing\", \"parsing\", \"parsing\", \"parsing\", \"persons\", \"peter\", \"peter\", \"petrovich\", \"phrase\", \"phrase\", \"popping\", \"powerset\", \"presence\", \"probabilistic\", \"probabilistic\", \"probabilistic\", \"problem\", \"processing\", \"processing\", \"processing\", \"processing\", \"product\", \"project\", \"project\", \"project\", \"pumping\", \"punjabi\", \"reader\", \"readers\", \"reasoning\", \"recognition\", \"recognition\", \"recognition\", \"recognition\", \"recognition\", \"recognition\", \"recursion\", \"recursive\", \"recursive\", \"reference\", \"referring\", \"regina\", \"regulus\", \"relational\", \"religionis\", \"research\", \"research\", \"resolution\", \"retrieval\", \"retrieval\", \"reverso\", \"rhetorical\", \"rhodes\", \"robot\", \"round\", \"rule\", \"scientist\", \"scientist\", \"scottish\", \"scriptorum\", \"scrolls\", \"scrolls\", \"sea\", \"sea\", \"selectae\", \"self\", \"semantic\", \"semantic\", \"semantic\", \"semantic\", \"semantic\", \"semantic\", \"semantics\", \"semantics\", \"semantics\", \"semiticarum\", \"sense\", \"sense\", \"sense\", \"sense\", \"sentiment\", \"separating\", \"seq\", \"simplification\", \"slovenian\", \"software\", \"software\", \"software\", \"software\", \"software\", \"software\", \"software\", \"software\", \"speech\", \"speech\", \"speech\", \"speech\", \"speed\", \"spoken\", \"spoken\", \"standards\", \"state\", \"state\", \"state\", \"state\", \"states\", \"statistical\", \"stenstr\\u00f6m\", \"studies\", \"studies\", \"studies\", \"sub\", \"survey\", \"syntactic\", \"s\\u00e1nchez\", \"tagger\", \"tan\", \"taxonomy\", \"technique\", \"technologies\", \"technologies\", \"technologies\", \"teenage\", \"text\", \"text\", \"text\", \"text\", \"text\", \"text\", \"text\", \"textbook\", \"texts\", \"texts\", \"texts\", \"textual\", \"theory\", \"theory\", \"theory\", \"theory\", \"thesaurus\", \"timeline\", \"torrey\", \"traffic\", \"transducer\", \"transfer\", \"translate\", \"translation\", \"translation\", \"translation\", \"translation\", \"translation\", \"translation\", \"translation\", \"translator\", \"translator\", \"trigram\", \"turkey\", \"unit\", \"united\", \"united\", \"universal\", \"universal\", \"urban\", \"usability\", \"user\", \"user\", \"variant\", \"vedic\", \"verifying\", \"viewer\", \"virtual\", \"virtual\", \"virtual\", \"virtual\", \"virtual\", \"voice\", \"voice\", \"voice\", \"watson\", \"website\", \"wellington\", \"william\", \"winograd\", \"woods\", \"word\", \"word\", \"word\", \"word\", \"word\", \"word\", \"xiang\", \"yehoshua\", \"young\", \"zealand\", \"zhai\", \"zipf\"]}, \"R\": 30, \"lambda.step\": 0.01, \"plot.opts\": {\"xlab\": \"PC1\", \"ylab\": \"PC2\"}, \"topic.order\": [5, 9, 6, 3, 2, 1, 8, 7, 4]};\n",
              "\n",
              "function LDAvis_load_lib(url, callback){\n",
              "  var s = document.createElement('script');\n",
              "  s.src = url;\n",
              "  s.async = true;\n",
              "  s.onreadystatechange = s.onload = callback;\n",
              "  s.onerror = function(){console.warn(\"failed to load library \" + url);};\n",
              "  document.getElementsByTagName(\"head\")[0].appendChild(s);\n",
              "}\n",
              "\n",
              "if(typeof(LDAvis) !== \"undefined\"){\n",
              "   // already loaded: just create the visualization\n",
              "   !function(LDAvis){\n",
              "       new LDAvis(\"#\" + \"ldavis_el2024819222745760806762931867\", ldavis_el2024819222745760806762931867_data);\n",
              "   }(LDAvis);\n",
              "}else if(typeof define === \"function\" && define.amd){\n",
              "   // require.js is available: use it to load d3/LDAvis\n",
              "   require.config({paths: {d3: \"https://d3js.org/d3.v5\"}});\n",
              "   require([\"d3\"], function(d3){\n",
              "      window.d3 = d3;\n",
              "      LDAvis_load_lib(\"https://cdn.jsdelivr.net/gh/bmabey/pyLDAvis@3.3.1/pyLDAvis/js/ldavis.v3.0.0.js\", function(){\n",
              "        new LDAvis(\"#\" + \"ldavis_el2024819222745760806762931867\", ldavis_el2024819222745760806762931867_data);\n",
              "      });\n",
              "    });\n",
              "}else{\n",
              "    // require.js not available: dynamically load d3 & LDAvis\n",
              "    LDAvis_load_lib(\"https://d3js.org/d3.v5.js\", function(){\n",
              "         LDAvis_load_lib(\"https://cdn.jsdelivr.net/gh/bmabey/pyLDAvis@3.3.1/pyLDAvis/js/ldavis.v3.0.0.js\", function(){\n",
              "                 new LDAvis(\"#\" + \"ldavis_el2024819222745760806762931867\", ldavis_el2024819222745760806762931867_data);\n",
              "            })\n",
              "         });\n",
              "}\n",
              "</script>"
            ],
            "text/plain": [
              "PreparedData(topic_coordinates=              x         y  topics  cluster       Freq\n",
              "topic                                                \n",
              "4      0.104368  0.025101       1        1  14.208257\n",
              "8      0.017666  0.146277       2        1  13.140728\n",
              "5     -0.024539 -0.012683       3        1  11.557797\n",
              "2     -0.157107  0.016852       4        1  11.029006\n",
              "1      0.006008 -0.111321       5        1  10.386429\n",
              "0      0.042335 -0.020515       6        1  10.227947\n",
              "7     -0.025462  0.049381       7        1  10.004687\n",
              "6      0.065863 -0.029316       8        1   9.902282\n",
              "3     -0.029133 -0.063778       9        1   9.542867, topic_info=            Term       Freq      Total Category  logprob  loglift\n",
              "10      language  27.000000  27.000000  Default  30.0000  30.0000\n",
              "21        corpus  34.000000  34.000000  Default  29.0000  29.0000\n",
              "78     automaton  13.000000  13.000000  Default  28.0000  28.0000\n",
              "1         finite   9.000000   9.000000  Default  27.0000  27.0000\n",
              "2        machine  19.000000  19.000000  Default  26.0000  26.0000\n",
              "..           ...        ...        ...      ...      ...      ...\n",
              "149  concordance   0.658000   4.902165   Topic9  -5.6266   0.3411\n",
              "31       optical   0.657988   5.523796   Topic9  -5.6267   0.2217\n",
              "238      braille   0.657966   1.856085   Topic9  -5.6267   1.3123\n",
              "153       phrase   0.657965   1.845817   Topic9  -5.6267   1.3179\n",
              "657  monolingual   0.657961   1.865552   Topic9  -5.6267   1.3072\n",
              "\n",
              "[511 rows x 6 columns], token_table=      Topic      Freq       Term\n",
              "term                            \n",
              "369       7  0.794334      abbyy\n",
              "1080      2  0.785325      abdul\n",
              "977       5  0.791192     action\n",
              "332       8  0.825984    acyclic\n",
              "455       1  0.318225  algorithm\n",
              "...     ...       ...        ...\n",
              "133       5  0.791165   yehoshua\n",
              "442       9  0.826752      young\n",
              "884       1  0.797665    zealand\n",
              "938       5  0.791184       zhai\n",
              "29        2  0.518338       zipf\n",
              "\n",
              "[596 rows x 3 columns], R=30, lambda_step=0.01, plot_opts={'xlab': 'PC1', 'ylab': 'PC2'}, topic_order=[5, 9, 6, 3, 2, 1, 8, 7, 4])"
            ]
          },
          "execution_count": 27,
          "metadata": {},
          "output_type": "execute_result"
        }
      ],
      "source": [
        "#Re-train the LDA model with just 9 topics & visualize with PyLDAVis again\n",
        "lda_9 = LdaModel(corpus, id2word=dictionary, num_topics=9)\n",
        "pyLDAvis.gensim_models.prepare(lda_9, corpus, dictionary)"
      ]
    },
    {
      "cell_type": "markdown",
      "metadata": {
        "id": "D-kmEpZIko8t"
      },
      "source": [
        "### 11. Looking at the topic visualization above - should we have used a larger or smaller number of topics? Explain... (1 point)"
      ]
    },
    {
      "cell_type": "markdown",
      "metadata": {
        "id": "cyVMXXdBk_Vq"
      },
      "source": [
        "Answer: We should have used a larger number of topics, so that there are fewer overlaps."
      ]
    },
    {
      "cell_type": "markdown",
      "metadata": {
        "id": "yFO3t_OMjJ26"
      },
      "source": [
        "## Train embeddings using word2vec"
      ]
    },
    {
      "cell_type": "markdown",
      "metadata": {
        "id": "rufAPzJtHaGk"
      },
      "source": [
        "### 12. Train a word2vec model using the common_texts variable from gensim first (1 point)"
      ]
    },
    {
      "cell_type": "code",
      "execution_count": 30,
      "metadata": {
        "id": "pwJvRdSBOAH9"
      },
      "outputs": [
        {
          "data": {
            "text/plain": [
              "(17, 145)"
            ]
          },
          "execution_count": 30,
          "metadata": {},
          "output_type": "execute_result"
        }
      ],
      "source": [
        "from gensim.models import Word2Vec\n",
        "from gensim.test.utils import common_texts\n",
        "\n",
        "# Initialize the Word2Vec model\n",
        "new_model = Word2Vec(vector_size=100, window=5, min_count=1, workers=4)\n",
        "\n",
        "# Build the vocabulary from the common_texts corpus\n",
        "new_model.build_vocab(common_texts)\n",
        "\n",
        "# Train the model on the common_texts corpus\n",
        "new_model.train(common_texts, total_examples=model.corpus_count, epochs=model.epochs)\n"
      ]
    },
    {
      "cell_type": "code",
      "execution_count": 31,
      "metadata": {
        "id": "RFmPvEdQioMZ"
      },
      "outputs": [
        {
          "data": {
            "text/plain": [
              "array([-0.00515774, -0.00667028, -0.0077791 ,  0.00831315, -0.00198292,\n",
              "       -0.00685696, -0.0041556 ,  0.00514562, -0.00286997, -0.00375075,\n",
              "        0.0016219 , -0.0027771 , -0.00158482,  0.0010748 , -0.00297881,\n",
              "        0.00852176,  0.00391207, -0.00996176,  0.00626142, -0.00675622,\n",
              "        0.00076966,  0.00440552, -0.00510486, -0.00211128,  0.00809783,\n",
              "       -0.00424503, -0.00763848,  0.00926061, -0.00215612, -0.00472081,\n",
              "        0.00857329,  0.00428458,  0.0043261 ,  0.00928722, -0.00845554,\n",
              "        0.00525685,  0.00203994,  0.0041895 ,  0.00169839,  0.00446543,\n",
              "        0.00448759,  0.0061063 , -0.00320303, -0.00457706, -0.00042664,\n",
              "        0.00253447, -0.00326412,  0.00605948,  0.00415534,  0.00776685,\n",
              "        0.00257002,  0.00811904, -0.00138761,  0.00808028,  0.0037181 ,\n",
              "       -0.00804967, -0.00393476, -0.0024726 ,  0.00489447, -0.00087241,\n",
              "       -0.00283173,  0.00783599,  0.00932561, -0.0016154 , -0.00516075,\n",
              "       -0.00470313, -0.00484746, -0.00960562,  0.00137242, -0.00422615,\n",
              "        0.00252744,  0.00561612, -0.00406709, -0.00959937,  0.00154715,\n",
              "       -0.00670207,  0.0024959 , -0.00378173,  0.00708048,  0.00064041,\n",
              "        0.00356198, -0.00273993, -0.00171105,  0.00765502,  0.00140809,\n",
              "       -0.00585215, -0.00783678,  0.00123304,  0.00645651,  0.00555797,\n",
              "       -0.00897966,  0.00859466,  0.00404815,  0.00747178,  0.00974917,\n",
              "       -0.0072917 , -0.00904259,  0.0058377 ,  0.00939395,  0.00350795],\n",
              "      dtype=float32)"
            ]
          },
          "execution_count": 31,
          "metadata": {},
          "output_type": "execute_result"
        }
      ],
      "source": [
        "# assuming your w2v model is called new_model\n",
        "new_model.wv['computer']"
      ]
    },
    {
      "cell_type": "code",
      "execution_count": 32,
      "metadata": {
        "id": "dcwWQKzxipy3"
      },
      "outputs": [
        {
          "data": {
            "text/plain": [
              "[('system', 0.21617142856121063),\n",
              " ('survey', 0.044689200818538666),\n",
              " ('interface', 0.01520337350666523),\n",
              " ('time', 0.0019510575802996755),\n",
              " ('trees', -0.03284314647316933),\n",
              " ('human', -0.0742427185177803),\n",
              " ('response', -0.09317588806152344),\n",
              " ('graph', -0.09575346857309341),\n",
              " ('eps', -0.10513805598020554),\n",
              " ('user', -0.16911622881889343)]"
            ]
          },
          "execution_count": 32,
          "metadata": {},
          "output_type": "execute_result"
        }
      ],
      "source": [
        "new_model.wv.most_similar('computer', topn=10)"
      ]
    },
    {
      "cell_type": "markdown",
      "metadata": {
        "id": "ieFjxAqlHkK8"
      },
      "source": [
        "### 11. Re-train the word2vec model using our wikipedia paragraph tokens - remember you have to update your model vocabulary first (1 point)"
      ]
    },
    {
      "cell_type": "code",
      "execution_count": 33,
      "metadata": {
        "id": "IEVAF0dkizJa"
      },
      "outputs": [
        {
          "data": {
            "text/plain": [
              "(40, 275)"
            ]
          },
          "execution_count": 33,
          "metadata": {},
          "output_type": "execute_result"
        }
      ],
      "source": [
        "# Update the model's vocabulary with the new sentences\n",
        "new_model.build_vocab(wiki_page_corpus, update=True)\n",
        "\n",
        "# Continue training the model with the new sentences\n",
        "new_model.train(wiki_page_corpus, total_examples=len(wiki_page_corpus), epochs=new_model.epochs)\n"
      ]
    },
    {
      "cell_type": "code",
      "execution_count": 34,
      "metadata": {
        "id": "eBuua85gi9Ve"
      },
      "outputs": [
        {
          "name": "stdout",
          "output_type": "stream",
          "text": [
            "[-0.00515774 -0.00667028 -0.0077791   0.00831315 -0.00198292 -0.00685696\n",
            " -0.0041556   0.00514562 -0.00286997 -0.00375075  0.0016219  -0.0027771\n",
            " -0.00158482  0.0010748  -0.00297881  0.00852176  0.00391207 -0.00996176\n",
            "  0.00626142 -0.00675622  0.00076966  0.00440552 -0.00510486 -0.00211128\n",
            "  0.00809783 -0.00424503 -0.00763848  0.00926061 -0.00215612 -0.00472081\n",
            "  0.00857329  0.00428458  0.0043261   0.00928722 -0.00845554  0.00525685\n",
            "  0.00203994  0.0041895   0.00169839  0.00446543  0.00448759  0.0061063\n",
            " -0.00320303 -0.00457706 -0.00042664  0.00253447 -0.00326412  0.00605948\n",
            "  0.00415534  0.00776685  0.00257002  0.00811904 -0.00138761  0.00808028\n",
            "  0.0037181  -0.00804967 -0.00393476 -0.0024726   0.00489447 -0.00087241\n",
            " -0.00283173  0.00783599  0.00932561 -0.0016154  -0.00516075 -0.00470313\n",
            " -0.00484746 -0.00960562  0.00137242 -0.00422615  0.00252744  0.00561612\n",
            " -0.00406709 -0.00959937  0.00154715 -0.00670207  0.0024959  -0.00378173\n",
            "  0.00708048  0.00064041  0.00356198 -0.00273993 -0.00171105  0.00765502\n",
            "  0.00140809 -0.00585215 -0.00783678  0.00123304  0.00645651  0.00555797\n",
            " -0.00897966  0.00859466  0.00404815  0.00747178  0.00974917 -0.0072917\n",
            " -0.00904259  0.0058377   0.00939395  0.00350795]\n"
          ]
        },
        {
          "data": {
            "text/plain": [
              "[('system', 0.21617142856121063),\n",
              " ('o', 0.1265621930360794),\n",
              " ('_', 0.10314639657735825),\n",
              " ('c', 0.08376444876194),\n",
              " ('a', 0.077409528195858),\n",
              " ('survey', 0.044689200818538666),\n",
              " ('k', 0.029901370406150818),\n",
              " ('g', 0.029808782041072845),\n",
              " ('t', 0.020089803263545036),\n",
              " ('interface', 0.01520337350666523)]"
            ]
          },
          "execution_count": 34,
          "metadata": {},
          "output_type": "execute_result"
        }
      ],
      "source": [
        "print(new_model.wv['computer'])\n",
        "new_model.wv.most_similar('computer', topn=10)"
      ]
    }
  ],
  "metadata": {
    "colab": {
      "provenance": [],
      "toc_visible": true
    },
    "kernelspec": {
      "display_name": "Python 3.9.12 ('base')",
      "language": "python",
      "name": "python3"
    },
    "language_info": {
      "codemirror_mode": {
        "name": "ipython",
        "version": 3
      },
      "file_extension": ".py",
      "mimetype": "text/x-python",
      "name": "python",
      "nbconvert_exporter": "python",
      "pygments_lexer": "ipython3",
      "version": "3.9.12"
    },
    "vscode": {
      "interpreter": {
        "hash": "14c2485957b2ce2426b726e732a99c51660700eeffcabbe66967fd94d549347c"
      }
    }
  },
  "nbformat": 4,
  "nbformat_minor": 0
}
